{
 "cells": [
  {
   "cell_type": "code",
   "execution_count": 1,
   "metadata": {},
   "outputs": [],
   "source": [
    "import pandas as pd \n",
    "import numpy as np\n",
    "import math\n",
    "\n",
    "import seaborn as sns\n",
    "import matplotlib.pyplot as plt\n",
    "from sklearn.model_selection import train_test_split, GridSearchCV\n",
    "from sklearn.experimental import enable_iterative_imputer\n",
    "from sklearn.impute import IterativeImputer\n",
    "from sklearn.model_selection import cross_val_score\n",
    "\n",
    "from sklearn.preprocessing import MinMaxScaler \n",
    "from sklearn.linear_model import LogisticRegression, SGDRegressor, RidgeClassifier, SGDClassifier\n",
    "from sklearn.metrics import r2_score, accuracy_score, f1_score, recall_score, precision_score\n",
    "\n",
    "from sklearn.ensemble import RandomForestClassifier, VotingClassifier, RandomForestRegressor, GradientBoostingClassifier\n",
    "from sklearn.naive_bayes import GaussianNB\n",
    "\n",
    "from lightgbm import LGBMRegressor, LGBMClassifier \n",
    "\n",
    "from catboost import CatBoostClassifier\n",
    "\n",
    "from sklearn.preprocessing import LabelEncoder\n",
    "from sklearn.preprocessing import OrdinalEncoder\n",
    "from sklearn.feature_selection import SelectKBest\n",
    "from sklearn.feature_selection import chi2, mutual_info_classif\n",
    "\n",
    "from sklearn.cluster import KMeans\n",
    "from sklearn.decomposition import PCA\n",
    "\n",
    "import pickle\n",
    "\n",
    "import joblib\n",
    "\n",
    "import random\n",
    "\n",
    "from IPython.display import display"
   ]
  },
  {
   "cell_type": "code",
   "execution_count": 2,
   "metadata": {},
   "outputs": [],
   "source": [
    "def Score(y_true, y_pred): \n",
    "    a = recall_score(y_true, y_pred, zero_division=1)\n",
    "    b = precision_score(y_true, y_pred, zero_division=1)\n",
    "    c = f1_score(y_true, y_pred, zero_division=1)\n",
    "    print(a, b, c)  "
   ]
  },
  {
   "cell_type": "code",
   "execution_count": 3,
   "metadata": {},
   "outputs": [
    {
     "data": {
      "text/html": [
       "<div>\n",
       "<style scoped>\n",
       "    .dataframe tbody tr th:only-of-type {\n",
       "        vertical-align: middle;\n",
       "    }\n",
       "\n",
       "    .dataframe tbody tr th {\n",
       "        vertical-align: top;\n",
       "    }\n",
       "\n",
       "    .dataframe thead th {\n",
       "        text-align: right;\n",
       "    }\n",
       "</style>\n",
       "<table border=\"1\" class=\"dataframe\">\n",
       "  <thead>\n",
       "    <tr style=\"text-align: right;\">\n",
       "      <th></th>\n",
       "      <th>Home Ownership</th>\n",
       "      <th>Annual Income</th>\n",
       "      <th>Years in current job</th>\n",
       "      <th>Tax Liens</th>\n",
       "      <th>Number of Open Accounts</th>\n",
       "      <th>Years of Credit History</th>\n",
       "      <th>Maximum Open Credit</th>\n",
       "      <th>Number of Credit Problems</th>\n",
       "      <th>Months since last delinquent</th>\n",
       "      <th>Bankruptcies</th>\n",
       "      <th>Purpose</th>\n",
       "      <th>Term</th>\n",
       "      <th>Current Loan Amount</th>\n",
       "      <th>Current Credit Balance</th>\n",
       "      <th>Monthly Debt</th>\n",
       "      <th>Credit Score</th>\n",
       "      <th>Credit Default</th>\n",
       "    </tr>\n",
       "  </thead>\n",
       "  <tbody>\n",
       "    <tr>\n",
       "      <th>0</th>\n",
       "      <td>Own Home</td>\n",
       "      <td>482087.0</td>\n",
       "      <td>NaN</td>\n",
       "      <td>0.0</td>\n",
       "      <td>11.0</td>\n",
       "      <td>26.3</td>\n",
       "      <td>685960.0</td>\n",
       "      <td>1.0</td>\n",
       "      <td>NaN</td>\n",
       "      <td>1.0</td>\n",
       "      <td>debt consolidation</td>\n",
       "      <td>Short Term</td>\n",
       "      <td>99999999.0</td>\n",
       "      <td>47386.0</td>\n",
       "      <td>7914.0</td>\n",
       "      <td>749.0</td>\n",
       "      <td>0</td>\n",
       "    </tr>\n",
       "    <tr>\n",
       "      <th>1</th>\n",
       "      <td>Own Home</td>\n",
       "      <td>1025487.0</td>\n",
       "      <td>10+ years</td>\n",
       "      <td>0.0</td>\n",
       "      <td>15.0</td>\n",
       "      <td>15.3</td>\n",
       "      <td>1181730.0</td>\n",
       "      <td>0.0</td>\n",
       "      <td>NaN</td>\n",
       "      <td>0.0</td>\n",
       "      <td>debt consolidation</td>\n",
       "      <td>Long Term</td>\n",
       "      <td>264968.0</td>\n",
       "      <td>394972.0</td>\n",
       "      <td>18373.0</td>\n",
       "      <td>737.0</td>\n",
       "      <td>1</td>\n",
       "    </tr>\n",
       "    <tr>\n",
       "      <th>2</th>\n",
       "      <td>Home Mortgage</td>\n",
       "      <td>751412.0</td>\n",
       "      <td>8 years</td>\n",
       "      <td>0.0</td>\n",
       "      <td>11.0</td>\n",
       "      <td>35.0</td>\n",
       "      <td>1182434.0</td>\n",
       "      <td>0.0</td>\n",
       "      <td>NaN</td>\n",
       "      <td>0.0</td>\n",
       "      <td>debt consolidation</td>\n",
       "      <td>Short Term</td>\n",
       "      <td>99999999.0</td>\n",
       "      <td>308389.0</td>\n",
       "      <td>13651.0</td>\n",
       "      <td>742.0</td>\n",
       "      <td>0</td>\n",
       "    </tr>\n",
       "    <tr>\n",
       "      <th>3</th>\n",
       "      <td>Own Home</td>\n",
       "      <td>805068.0</td>\n",
       "      <td>6 years</td>\n",
       "      <td>0.0</td>\n",
       "      <td>8.0</td>\n",
       "      <td>22.5</td>\n",
       "      <td>147400.0</td>\n",
       "      <td>1.0</td>\n",
       "      <td>NaN</td>\n",
       "      <td>1.0</td>\n",
       "      <td>debt consolidation</td>\n",
       "      <td>Short Term</td>\n",
       "      <td>121396.0</td>\n",
       "      <td>95855.0</td>\n",
       "      <td>11338.0</td>\n",
       "      <td>694.0</td>\n",
       "      <td>0</td>\n",
       "    </tr>\n",
       "    <tr>\n",
       "      <th>4</th>\n",
       "      <td>Rent</td>\n",
       "      <td>776264.0</td>\n",
       "      <td>8 years</td>\n",
       "      <td>0.0</td>\n",
       "      <td>13.0</td>\n",
       "      <td>13.6</td>\n",
       "      <td>385836.0</td>\n",
       "      <td>1.0</td>\n",
       "      <td>NaN</td>\n",
       "      <td>0.0</td>\n",
       "      <td>debt consolidation</td>\n",
       "      <td>Short Term</td>\n",
       "      <td>125840.0</td>\n",
       "      <td>93309.0</td>\n",
       "      <td>7180.0</td>\n",
       "      <td>719.0</td>\n",
       "      <td>0</td>\n",
       "    </tr>\n",
       "    <tr>\n",
       "      <th>5</th>\n",
       "      <td>Rent</td>\n",
       "      <td>NaN</td>\n",
       "      <td>7 years</td>\n",
       "      <td>0.0</td>\n",
       "      <td>12.0</td>\n",
       "      <td>14.6</td>\n",
       "      <td>366784.0</td>\n",
       "      <td>0.0</td>\n",
       "      <td>NaN</td>\n",
       "      <td>0.0</td>\n",
       "      <td>other</td>\n",
       "      <td>Long Term</td>\n",
       "      <td>337304.0</td>\n",
       "      <td>165680.0</td>\n",
       "      <td>18692.0</td>\n",
       "      <td>NaN</td>\n",
       "      <td>1</td>\n",
       "    </tr>\n",
       "    <tr>\n",
       "      <th>6</th>\n",
       "      <td>Home Mortgage</td>\n",
       "      <td>1511108.0</td>\n",
       "      <td>10+ years</td>\n",
       "      <td>0.0</td>\n",
       "      <td>9.0</td>\n",
       "      <td>20.3</td>\n",
       "      <td>388124.0</td>\n",
       "      <td>0.0</td>\n",
       "      <td>73.0</td>\n",
       "      <td>0.0</td>\n",
       "      <td>home improvements</td>\n",
       "      <td>Short Term</td>\n",
       "      <td>99999999.0</td>\n",
       "      <td>51623.0</td>\n",
       "      <td>2317.0</td>\n",
       "      <td>745.0</td>\n",
       "      <td>0</td>\n",
       "    </tr>\n",
       "    <tr>\n",
       "      <th>7</th>\n",
       "      <td>Rent</td>\n",
       "      <td>1040060.0</td>\n",
       "      <td>10+ years</td>\n",
       "      <td>0.0</td>\n",
       "      <td>13.0</td>\n",
       "      <td>12.0</td>\n",
       "      <td>330374.0</td>\n",
       "      <td>0.0</td>\n",
       "      <td>18.0</td>\n",
       "      <td>0.0</td>\n",
       "      <td>other</td>\n",
       "      <td>Short Term</td>\n",
       "      <td>250888.0</td>\n",
       "      <td>89015.0</td>\n",
       "      <td>19761.0</td>\n",
       "      <td>705.0</td>\n",
       "      <td>1</td>\n",
       "    </tr>\n",
       "    <tr>\n",
       "      <th>8</th>\n",
       "      <td>Home Mortgage</td>\n",
       "      <td>NaN</td>\n",
       "      <td>5 years</td>\n",
       "      <td>0.0</td>\n",
       "      <td>17.0</td>\n",
       "      <td>15.7</td>\n",
       "      <td>0.0</td>\n",
       "      <td>1.0</td>\n",
       "      <td>NaN</td>\n",
       "      <td>1.0</td>\n",
       "      <td>home improvements</td>\n",
       "      <td>Short Term</td>\n",
       "      <td>129734.0</td>\n",
       "      <td>19.0</td>\n",
       "      <td>17.0</td>\n",
       "      <td>NaN</td>\n",
       "      <td>0</td>\n",
       "    </tr>\n",
       "    <tr>\n",
       "      <th>9</th>\n",
       "      <td>Home Mortgage</td>\n",
       "      <td>NaN</td>\n",
       "      <td>1 year</td>\n",
       "      <td>0.0</td>\n",
       "      <td>10.0</td>\n",
       "      <td>24.6</td>\n",
       "      <td>511302.0</td>\n",
       "      <td>0.0</td>\n",
       "      <td>6.0</td>\n",
       "      <td>0.0</td>\n",
       "      <td>debt consolidation</td>\n",
       "      <td>Long Term</td>\n",
       "      <td>572880.0</td>\n",
       "      <td>205333.0</td>\n",
       "      <td>17613.0</td>\n",
       "      <td>NaN</td>\n",
       "      <td>1</td>\n",
       "    </tr>\n",
       "  </tbody>\n",
       "</table>\n",
       "</div>"
      ],
      "text/plain": [
       "  Home Ownership  Annual Income Years in current job  Tax Liens  \\\n",
       "0       Own Home       482087.0                  NaN        0.0   \n",
       "1       Own Home      1025487.0            10+ years        0.0   \n",
       "2  Home Mortgage       751412.0              8 years        0.0   \n",
       "3       Own Home       805068.0              6 years        0.0   \n",
       "4           Rent       776264.0              8 years        0.0   \n",
       "5           Rent            NaN              7 years        0.0   \n",
       "6  Home Mortgage      1511108.0            10+ years        0.0   \n",
       "7           Rent      1040060.0            10+ years        0.0   \n",
       "8  Home Mortgage            NaN              5 years        0.0   \n",
       "9  Home Mortgage            NaN               1 year        0.0   \n",
       "\n",
       "   Number of Open Accounts  Years of Credit History  Maximum Open Credit  \\\n",
       "0                     11.0                     26.3             685960.0   \n",
       "1                     15.0                     15.3            1181730.0   \n",
       "2                     11.0                     35.0            1182434.0   \n",
       "3                      8.0                     22.5             147400.0   \n",
       "4                     13.0                     13.6             385836.0   \n",
       "5                     12.0                     14.6             366784.0   \n",
       "6                      9.0                     20.3             388124.0   \n",
       "7                     13.0                     12.0             330374.0   \n",
       "8                     17.0                     15.7                  0.0   \n",
       "9                     10.0                     24.6             511302.0   \n",
       "\n",
       "   Number of Credit Problems  Months since last delinquent  Bankruptcies  \\\n",
       "0                        1.0                           NaN           1.0   \n",
       "1                        0.0                           NaN           0.0   \n",
       "2                        0.0                           NaN           0.0   \n",
       "3                        1.0                           NaN           1.0   \n",
       "4                        1.0                           NaN           0.0   \n",
       "5                        0.0                           NaN           0.0   \n",
       "6                        0.0                          73.0           0.0   \n",
       "7                        0.0                          18.0           0.0   \n",
       "8                        1.0                           NaN           1.0   \n",
       "9                        0.0                           6.0           0.0   \n",
       "\n",
       "              Purpose        Term  Current Loan Amount  \\\n",
       "0  debt consolidation  Short Term           99999999.0   \n",
       "1  debt consolidation   Long Term             264968.0   \n",
       "2  debt consolidation  Short Term           99999999.0   \n",
       "3  debt consolidation  Short Term             121396.0   \n",
       "4  debt consolidation  Short Term             125840.0   \n",
       "5               other   Long Term             337304.0   \n",
       "6   home improvements  Short Term           99999999.0   \n",
       "7               other  Short Term             250888.0   \n",
       "8   home improvements  Short Term             129734.0   \n",
       "9  debt consolidation   Long Term             572880.0   \n",
       "\n",
       "   Current Credit Balance  Monthly Debt  Credit Score  Credit Default  \n",
       "0                 47386.0        7914.0         749.0               0  \n",
       "1                394972.0       18373.0         737.0               1  \n",
       "2                308389.0       13651.0         742.0               0  \n",
       "3                 95855.0       11338.0         694.0               0  \n",
       "4                 93309.0        7180.0         719.0               0  \n",
       "5                165680.0       18692.0           NaN               1  \n",
       "6                 51623.0        2317.0         745.0               0  \n",
       "7                 89015.0       19761.0         705.0               1  \n",
       "8                    19.0          17.0           NaN               0  \n",
       "9                205333.0       17613.0           NaN               1  "
      ]
     },
     "execution_count": 3,
     "metadata": {},
     "output_type": "execute_result"
    }
   ],
   "source": [
    "data = pd.read_csv(r'C:\\gb-credit-default\\train.csv', delimiter=',')\n",
    "data_test = pd.read_csv(r'C:\\gb-credit-default\\test.csv', delimiter=',')\n",
    "#data = pd.read_csv(r'C:\\titanic\\BTC-USD.csv', delimiter=',')\n",
    "data.head(10)\n"
   ]
  },
  {
   "cell_type": "code",
   "execution_count": 4,
   "metadata": {},
   "outputs": [],
   "source": [
    "#X[[\"Annual Income\"]].describe()"
   ]
  },
  {
   "cell_type": "code",
   "execution_count": 5,
   "metadata": {},
   "outputs": [
    {
     "data": {
      "text/plain": [
       "(Short Term    5556\n",
       " Long Term     1944\n",
       " Name: Term, dtype: int64,\n",
       " 0    5387\n",
       " 1    2113\n",
       " Name: Credit Default, dtype: int64,\n",
       " Home Mortgage    3637\n",
       " Rent             3204\n",
       " Own Home          647\n",
       " Have Mortgage      12\n",
       " Name: Home Ownership, dtype: int64,\n",
       " debt consolidation      5944\n",
       " other                    665\n",
       " home improvements        412\n",
       " business loan            129\n",
       " buy a car                 96\n",
       " medical bills             71\n",
       " major purchase            40\n",
       " take a trip               37\n",
       " buy house                 34\n",
       " small business            26\n",
       " wedding                   15\n",
       " moving                    11\n",
       " educational expenses      10\n",
       " vacation                   8\n",
       " renewable energy           2\n",
       " Name: Purpose, dtype: int64)"
      ]
     },
     "execution_count": 5,
     "metadata": {},
     "output_type": "execute_result"
    }
   ],
   "source": [
    "data.Term.value_counts(), data[\"Credit Default\"].value_counts(), data[\"Home Ownership\"].value_counts(), data.Purpose.value_counts()"
   ]
  },
  {
   "cell_type": "code",
   "execution_count": 6,
   "metadata": {},
   "outputs": [
    {
     "data": {
      "text/plain": [
       "'Home Ownership'"
      ]
     },
     "execution_count": 6,
     "metadata": {},
     "output_type": "execute_result"
    }
   ],
   "source": [
    "data.columns[0]"
   ]
  },
  {
   "cell_type": "code",
   "execution_count": 7,
   "metadata": {},
   "outputs": [
    {
     "data": {
      "text/plain": [
       "Home Ownership                     0\n",
       "Annual Income                   1557\n",
       "Years in current job             371\n",
       "Tax Liens                          0\n",
       "Number of Open Accounts            0\n",
       "Years of Credit History            0\n",
       "Maximum Open Credit                0\n",
       "Number of Credit Problems          0\n",
       "Months since last delinquent    4081\n",
       "Bankruptcies                      14\n",
       "Purpose                            0\n",
       "Term                               0\n",
       "Current Loan Amount                0\n",
       "Current Credit Balance             0\n",
       "Monthly Debt                       0\n",
       "Credit Score                    1557\n",
       "Credit Default                     0\n",
       "dtype: int64"
      ]
     },
     "execution_count": 7,
     "metadata": {},
     "output_type": "execute_result"
    }
   ],
   "source": [
    "data.isna().sum()"
   ]
  },
  {
   "cell_type": "code",
   "execution_count": 8,
   "metadata": {},
   "outputs": [
    {
     "data": {
      "text/plain": [
       "['Term', 'Credit Default']"
      ]
     },
     "execution_count": 8,
     "metadata": {},
     "output_type": "execute_result"
    }
   ],
   "source": [
    "columns = data.columns\n",
    "binary_cols = []\n",
    "for col in columns:\n",
    "    if data[col].value_counts().shape[0] == 2:\n",
    "        binary_cols.append(col)\n",
    "binary_cols"
   ]
  },
  {
   "cell_type": "markdown",
   "metadata": {},
   "source": [
    "1. Разведывательный анализ. \n",
    "Ищем и находим зависимости. "
   ]
  },
  {
   "cell_type": "code",
   "execution_count": 9,
   "metadata": {},
   "outputs": [
    {
     "data": {
      "text/html": [
       "<div>\n",
       "<style scoped>\n",
       "    .dataframe tbody tr th:only-of-type {\n",
       "        vertical-align: middle;\n",
       "    }\n",
       "\n",
       "    .dataframe tbody tr th {\n",
       "        vertical-align: top;\n",
       "    }\n",
       "\n",
       "    .dataframe thead th {\n",
       "        text-align: right;\n",
       "    }\n",
       "</style>\n",
       "<table border=\"1\" class=\"dataframe\">\n",
       "  <thead>\n",
       "    <tr style=\"text-align: right;\">\n",
       "      <th></th>\n",
       "      <th>Annual Income</th>\n",
       "      <th>Tax Liens</th>\n",
       "      <th>Number of Open Accounts</th>\n",
       "      <th>Years of Credit History</th>\n",
       "      <th>Maximum Open Credit</th>\n",
       "      <th>Number of Credit Problems</th>\n",
       "      <th>Months since last delinquent</th>\n",
       "      <th>Bankruptcies</th>\n",
       "      <th>Current Loan Amount</th>\n",
       "      <th>Current Credit Balance</th>\n",
       "      <th>Monthly Debt</th>\n",
       "      <th>Credit Score</th>\n",
       "      <th>Credit Default</th>\n",
       "    </tr>\n",
       "  </thead>\n",
       "  <tbody>\n",
       "    <tr>\n",
       "      <th>count</th>\n",
       "      <td>5.943000e+03</td>\n",
       "      <td>7500.000000</td>\n",
       "      <td>7500.000000</td>\n",
       "      <td>7500.000000</td>\n",
       "      <td>7.500000e+03</td>\n",
       "      <td>7500.000000</td>\n",
       "      <td>3419.000000</td>\n",
       "      <td>7486.000000</td>\n",
       "      <td>7.500000e+03</td>\n",
       "      <td>7.500000e+03</td>\n",
       "      <td>7500.000000</td>\n",
       "      <td>5943.000000</td>\n",
       "      <td>7500.000000</td>\n",
       "    </tr>\n",
       "    <tr>\n",
       "      <th>mean</th>\n",
       "      <td>1.366392e+06</td>\n",
       "      <td>0.030133</td>\n",
       "      <td>11.130933</td>\n",
       "      <td>18.317467</td>\n",
       "      <td>9.451537e+05</td>\n",
       "      <td>0.170000</td>\n",
       "      <td>34.692600</td>\n",
       "      <td>0.117152</td>\n",
       "      <td>1.187318e+07</td>\n",
       "      <td>2.898332e+05</td>\n",
       "      <td>18314.454133</td>\n",
       "      <td>1151.087498</td>\n",
       "      <td>0.281733</td>\n",
       "    </tr>\n",
       "    <tr>\n",
       "      <th>std</th>\n",
       "      <td>8.453392e+05</td>\n",
       "      <td>0.271604</td>\n",
       "      <td>4.908924</td>\n",
       "      <td>7.041946</td>\n",
       "      <td>1.602622e+07</td>\n",
       "      <td>0.498598</td>\n",
       "      <td>21.688806</td>\n",
       "      <td>0.347192</td>\n",
       "      <td>3.192612e+07</td>\n",
       "      <td>3.178714e+05</td>\n",
       "      <td>11926.764673</td>\n",
       "      <td>1604.451418</td>\n",
       "      <td>0.449874</td>\n",
       "    </tr>\n",
       "    <tr>\n",
       "      <th>min</th>\n",
       "      <td>1.645970e+05</td>\n",
       "      <td>0.000000</td>\n",
       "      <td>2.000000</td>\n",
       "      <td>4.000000</td>\n",
       "      <td>0.000000e+00</td>\n",
       "      <td>0.000000</td>\n",
       "      <td>0.000000</td>\n",
       "      <td>0.000000</td>\n",
       "      <td>1.124200e+04</td>\n",
       "      <td>0.000000e+00</td>\n",
       "      <td>0.000000</td>\n",
       "      <td>585.000000</td>\n",
       "      <td>0.000000</td>\n",
       "    </tr>\n",
       "    <tr>\n",
       "      <th>25%</th>\n",
       "      <td>8.443410e+05</td>\n",
       "      <td>0.000000</td>\n",
       "      <td>8.000000</td>\n",
       "      <td>13.500000</td>\n",
       "      <td>2.792295e+05</td>\n",
       "      <td>0.000000</td>\n",
       "      <td>16.000000</td>\n",
       "      <td>0.000000</td>\n",
       "      <td>1.801690e+05</td>\n",
       "      <td>1.142565e+05</td>\n",
       "      <td>10067.500000</td>\n",
       "      <td>711.000000</td>\n",
       "      <td>0.000000</td>\n",
       "    </tr>\n",
       "    <tr>\n",
       "      <th>50%</th>\n",
       "      <td>1.168386e+06</td>\n",
       "      <td>0.000000</td>\n",
       "      <td>10.000000</td>\n",
       "      <td>17.000000</td>\n",
       "      <td>4.781590e+05</td>\n",
       "      <td>0.000000</td>\n",
       "      <td>32.000000</td>\n",
       "      <td>0.000000</td>\n",
       "      <td>3.095730e+05</td>\n",
       "      <td>2.093230e+05</td>\n",
       "      <td>16076.500000</td>\n",
       "      <td>731.000000</td>\n",
       "      <td>0.000000</td>\n",
       "    </tr>\n",
       "    <tr>\n",
       "      <th>75%</th>\n",
       "      <td>1.640137e+06</td>\n",
       "      <td>0.000000</td>\n",
       "      <td>14.000000</td>\n",
       "      <td>21.800000</td>\n",
       "      <td>7.935015e+05</td>\n",
       "      <td>0.000000</td>\n",
       "      <td>50.000000</td>\n",
       "      <td>0.000000</td>\n",
       "      <td>5.198820e+05</td>\n",
       "      <td>3.604062e+05</td>\n",
       "      <td>23818.000000</td>\n",
       "      <td>743.000000</td>\n",
       "      <td>1.000000</td>\n",
       "    </tr>\n",
       "    <tr>\n",
       "      <th>max</th>\n",
       "      <td>1.014934e+07</td>\n",
       "      <td>7.000000</td>\n",
       "      <td>43.000000</td>\n",
       "      <td>57.700000</td>\n",
       "      <td>1.304726e+09</td>\n",
       "      <td>7.000000</td>\n",
       "      <td>118.000000</td>\n",
       "      <td>4.000000</td>\n",
       "      <td>1.000000e+08</td>\n",
       "      <td>6.506797e+06</td>\n",
       "      <td>136679.000000</td>\n",
       "      <td>7510.000000</td>\n",
       "      <td>1.000000</td>\n",
       "    </tr>\n",
       "  </tbody>\n",
       "</table>\n",
       "</div>"
      ],
      "text/plain": [
       "       Annual Income    Tax Liens  Number of Open Accounts  \\\n",
       "count   5.943000e+03  7500.000000              7500.000000   \n",
       "mean    1.366392e+06     0.030133                11.130933   \n",
       "std     8.453392e+05     0.271604                 4.908924   \n",
       "min     1.645970e+05     0.000000                 2.000000   \n",
       "25%     8.443410e+05     0.000000                 8.000000   \n",
       "50%     1.168386e+06     0.000000                10.000000   \n",
       "75%     1.640137e+06     0.000000                14.000000   \n",
       "max     1.014934e+07     7.000000                43.000000   \n",
       "\n",
       "       Years of Credit History  Maximum Open Credit  \\\n",
       "count              7500.000000         7.500000e+03   \n",
       "mean                 18.317467         9.451537e+05   \n",
       "std                   7.041946         1.602622e+07   \n",
       "min                   4.000000         0.000000e+00   \n",
       "25%                  13.500000         2.792295e+05   \n",
       "50%                  17.000000         4.781590e+05   \n",
       "75%                  21.800000         7.935015e+05   \n",
       "max                  57.700000         1.304726e+09   \n",
       "\n",
       "       Number of Credit Problems  Months since last delinquent  Bankruptcies  \\\n",
       "count                7500.000000                   3419.000000   7486.000000   \n",
       "mean                    0.170000                     34.692600      0.117152   \n",
       "std                     0.498598                     21.688806      0.347192   \n",
       "min                     0.000000                      0.000000      0.000000   \n",
       "25%                     0.000000                     16.000000      0.000000   \n",
       "50%                     0.000000                     32.000000      0.000000   \n",
       "75%                     0.000000                     50.000000      0.000000   \n",
       "max                     7.000000                    118.000000      4.000000   \n",
       "\n",
       "       Current Loan Amount  Current Credit Balance   Monthly Debt  \\\n",
       "count         7.500000e+03            7.500000e+03    7500.000000   \n",
       "mean          1.187318e+07            2.898332e+05   18314.454133   \n",
       "std           3.192612e+07            3.178714e+05   11926.764673   \n",
       "min           1.124200e+04            0.000000e+00       0.000000   \n",
       "25%           1.801690e+05            1.142565e+05   10067.500000   \n",
       "50%           3.095730e+05            2.093230e+05   16076.500000   \n",
       "75%           5.198820e+05            3.604062e+05   23818.000000   \n",
       "max           1.000000e+08            6.506797e+06  136679.000000   \n",
       "\n",
       "       Credit Score  Credit Default  \n",
       "count   5943.000000     7500.000000  \n",
       "mean    1151.087498        0.281733  \n",
       "std     1604.451418        0.449874  \n",
       "min      585.000000        0.000000  \n",
       "25%      711.000000        0.000000  \n",
       "50%      731.000000        0.000000  \n",
       "75%      743.000000        1.000000  \n",
       "max     7510.000000        1.000000  "
      ]
     },
     "execution_count": 9,
     "metadata": {},
     "output_type": "execute_result"
    }
   ],
   "source": [
    "data.describe()"
   ]
  },
  {
   "cell_type": "code",
   "execution_count": 10,
   "metadata": {},
   "outputs": [
    {
     "data": {
      "text/html": [
       "<div>\n",
       "<style scoped>\n",
       "    .dataframe tbody tr th:only-of-type {\n",
       "        vertical-align: middle;\n",
       "    }\n",
       "\n",
       "    .dataframe tbody tr th {\n",
       "        vertical-align: top;\n",
       "    }\n",
       "\n",
       "    .dataframe thead th {\n",
       "        text-align: right;\n",
       "    }\n",
       "</style>\n",
       "<table border=\"1\" class=\"dataframe\">\n",
       "  <thead>\n",
       "    <tr style=\"text-align: right;\">\n",
       "      <th></th>\n",
       "      <th>Annual Income</th>\n",
       "      <th>Tax Liens</th>\n",
       "      <th>Number of Open Accounts</th>\n",
       "      <th>Years of Credit History</th>\n",
       "      <th>Maximum Open Credit</th>\n",
       "      <th>Number of Credit Problems</th>\n",
       "      <th>Months since last delinquent</th>\n",
       "      <th>Bankruptcies</th>\n",
       "      <th>Current Loan Amount</th>\n",
       "      <th>Current Credit Balance</th>\n",
       "      <th>Monthly Debt</th>\n",
       "      <th>Credit Score</th>\n",
       "      <th>Credit Default</th>\n",
       "    </tr>\n",
       "  </thead>\n",
       "  <tbody>\n",
       "    <tr>\n",
       "      <th>count</th>\n",
       "      <td>6.790000e+02</td>\n",
       "      <td>679.000000</td>\n",
       "      <td>679.000000</td>\n",
       "      <td>679.000000</td>\n",
       "      <td>6.790000e+02</td>\n",
       "      <td>679.000000</td>\n",
       "      <td>679.000000</td>\n",
       "      <td>679.000000</td>\n",
       "      <td>679.000000</td>\n",
       "      <td>6.790000e+02</td>\n",
       "      <td>679.000000</td>\n",
       "      <td>679.000000</td>\n",
       "      <td>679.0</td>\n",
       "    </tr>\n",
       "    <tr>\n",
       "      <th>mean</th>\n",
       "      <td>1.291526e+06</td>\n",
       "      <td>0.047128</td>\n",
       "      <td>11.702504</td>\n",
       "      <td>18.926951</td>\n",
       "      <td>5.342403e+05</td>\n",
       "      <td>0.194404</td>\n",
       "      <td>34.004418</td>\n",
       "      <td>0.116348</td>\n",
       "      <td>328162.076583</td>\n",
       "      <td>2.405831e+05</td>\n",
       "      <td>19021.051546</td>\n",
       "      <td>2323.509573</td>\n",
       "      <td>1.0</td>\n",
       "    </tr>\n",
       "    <tr>\n",
       "      <th>std</th>\n",
       "      <td>6.939190e+05</td>\n",
       "      <td>0.340250</td>\n",
       "      <td>4.654732</td>\n",
       "      <td>6.925501</td>\n",
       "      <td>5.439024e+05</td>\n",
       "      <td>0.559628</td>\n",
       "      <td>21.810967</td>\n",
       "      <td>0.351584</td>\n",
       "      <td>178777.561521</td>\n",
       "      <td>2.120452e+05</td>\n",
       "      <td>11155.778552</td>\n",
       "      <td>2793.527844</td>\n",
       "      <td>0.0</td>\n",
       "    </tr>\n",
       "    <tr>\n",
       "      <th>min</th>\n",
       "      <td>2.876790e+05</td>\n",
       "      <td>0.000000</td>\n",
       "      <td>2.000000</td>\n",
       "      <td>5.000000</td>\n",
       "      <td>0.000000e+00</td>\n",
       "      <td>0.000000</td>\n",
       "      <td>0.000000</td>\n",
       "      <td>0.000000</td>\n",
       "      <td>32670.000000</td>\n",
       "      <td>0.000000e+00</td>\n",
       "      <td>57.000000</td>\n",
       "      <td>588.000000</td>\n",
       "      <td>1.0</td>\n",
       "    </tr>\n",
       "    <tr>\n",
       "      <th>25%</th>\n",
       "      <td>8.546295e+05</td>\n",
       "      <td>0.000000</td>\n",
       "      <td>9.000000</td>\n",
       "      <td>14.500000</td>\n",
       "      <td>2.365110e+05</td>\n",
       "      <td>0.000000</td>\n",
       "      <td>15.000000</td>\n",
       "      <td>0.000000</td>\n",
       "      <td>196042.000000</td>\n",
       "      <td>1.029800e+05</td>\n",
       "      <td>11498.500000</td>\n",
       "      <td>698.000000</td>\n",
       "      <td>1.0</td>\n",
       "    </tr>\n",
       "    <tr>\n",
       "      <th>50%</th>\n",
       "      <td>1.146954e+06</td>\n",
       "      <td>0.000000</td>\n",
       "      <td>11.000000</td>\n",
       "      <td>17.500000</td>\n",
       "      <td>4.078360e+05</td>\n",
       "      <td>0.000000</td>\n",
       "      <td>32.000000</td>\n",
       "      <td>0.000000</td>\n",
       "      <td>300850.000000</td>\n",
       "      <td>1.827040e+05</td>\n",
       "      <td>17242.000000</td>\n",
       "      <td>727.000000</td>\n",
       "      <td>1.0</td>\n",
       "    </tr>\n",
       "    <tr>\n",
       "      <th>75%</th>\n",
       "      <td>1.538896e+06</td>\n",
       "      <td>0.000000</td>\n",
       "      <td>14.000000</td>\n",
       "      <td>22.700000</td>\n",
       "      <td>6.860920e+05</td>\n",
       "      <td>0.000000</td>\n",
       "      <td>48.000000</td>\n",
       "      <td>0.000000</td>\n",
       "      <td>443872.000000</td>\n",
       "      <td>3.073630e+05</td>\n",
       "      <td>24218.500000</td>\n",
       "      <td>6085.000000</td>\n",
       "      <td>1.0</td>\n",
       "    </tr>\n",
       "    <tr>\n",
       "      <th>max</th>\n",
       "      <td>8.200229e+06</td>\n",
       "      <td>5.000000</td>\n",
       "      <td>32.000000</td>\n",
       "      <td>46.500000</td>\n",
       "      <td>6.639358e+06</td>\n",
       "      <td>5.000000</td>\n",
       "      <td>86.000000</td>\n",
       "      <td>3.000000</td>\n",
       "      <td>788634.000000</td>\n",
       "      <td>2.097353e+06</td>\n",
       "      <td>89789.000000</td>\n",
       "      <td>7510.000000</td>\n",
       "      <td>1.0</td>\n",
       "    </tr>\n",
       "  </tbody>\n",
       "</table>\n",
       "</div>"
      ],
      "text/plain": [
       "       Annual Income   Tax Liens  Number of Open Accounts  \\\n",
       "count   6.790000e+02  679.000000               679.000000   \n",
       "mean    1.291526e+06    0.047128                11.702504   \n",
       "std     6.939190e+05    0.340250                 4.654732   \n",
       "min     2.876790e+05    0.000000                 2.000000   \n",
       "25%     8.546295e+05    0.000000                 9.000000   \n",
       "50%     1.146954e+06    0.000000                11.000000   \n",
       "75%     1.538896e+06    0.000000                14.000000   \n",
       "max     8.200229e+06    5.000000                32.000000   \n",
       "\n",
       "       Years of Credit History  Maximum Open Credit  \\\n",
       "count               679.000000         6.790000e+02   \n",
       "mean                 18.926951         5.342403e+05   \n",
       "std                   6.925501         5.439024e+05   \n",
       "min                   5.000000         0.000000e+00   \n",
       "25%                  14.500000         2.365110e+05   \n",
       "50%                  17.500000         4.078360e+05   \n",
       "75%                  22.700000         6.860920e+05   \n",
       "max                  46.500000         6.639358e+06   \n",
       "\n",
       "       Number of Credit Problems  Months since last delinquent  Bankruptcies  \\\n",
       "count                 679.000000                    679.000000    679.000000   \n",
       "mean                    0.194404                     34.004418      0.116348   \n",
       "std                     0.559628                     21.810967      0.351584   \n",
       "min                     0.000000                      0.000000      0.000000   \n",
       "25%                     0.000000                     15.000000      0.000000   \n",
       "50%                     0.000000                     32.000000      0.000000   \n",
       "75%                     0.000000                     48.000000      0.000000   \n",
       "max                     5.000000                     86.000000      3.000000   \n",
       "\n",
       "       Current Loan Amount  Current Credit Balance  Monthly Debt  \\\n",
       "count           679.000000            6.790000e+02    679.000000   \n",
       "mean         328162.076583            2.405831e+05  19021.051546   \n",
       "std          178777.561521            2.120452e+05  11155.778552   \n",
       "min           32670.000000            0.000000e+00     57.000000   \n",
       "25%          196042.000000            1.029800e+05  11498.500000   \n",
       "50%          300850.000000            1.827040e+05  17242.000000   \n",
       "75%          443872.000000            3.073630e+05  24218.500000   \n",
       "max          788634.000000            2.097353e+06  89789.000000   \n",
       "\n",
       "       Credit Score  Credit Default  \n",
       "count    679.000000           679.0  \n",
       "mean    2323.509573             1.0  \n",
       "std     2793.527844             0.0  \n",
       "min      588.000000             1.0  \n",
       "25%      698.000000             1.0  \n",
       "50%      727.000000             1.0  \n",
       "75%     6085.000000             1.0  \n",
       "max     7510.000000             1.0  "
      ]
     },
     "execution_count": 10,
     "metadata": {},
     "output_type": "execute_result"
    }
   ],
   "source": [
    "data[data[\"Credit Default\"]==1].dropna().describe()"
   ]
  },
  {
   "cell_type": "code",
   "execution_count": 11,
   "metadata": {},
   "outputs": [
    {
     "name": "stderr",
     "output_type": "stream",
     "text": [
      "C:\\ProgramData\\Anaconda3\\lib\\site-packages\\ipykernel_launcher.py:1: UserWarning: Boolean Series key will be reindexed to match DataFrame index.\n",
      "  \"\"\"Entry point for launching an IPython kernel.\n"
     ]
    },
    {
     "data": {
      "text/html": [
       "<div>\n",
       "<style scoped>\n",
       "    .dataframe tbody tr th:only-of-type {\n",
       "        vertical-align: middle;\n",
       "    }\n",
       "\n",
       "    .dataframe tbody tr th {\n",
       "        vertical-align: top;\n",
       "    }\n",
       "\n",
       "    .dataframe thead th {\n",
       "        text-align: right;\n",
       "    }\n",
       "</style>\n",
       "<table border=\"1\" class=\"dataframe\">\n",
       "  <thead>\n",
       "    <tr style=\"text-align: right;\">\n",
       "      <th></th>\n",
       "      <th>Annual Income</th>\n",
       "      <th>Tax Liens</th>\n",
       "      <th>Number of Open Accounts</th>\n",
       "      <th>Years of Credit History</th>\n",
       "      <th>Maximum Open Credit</th>\n",
       "      <th>Number of Credit Problems</th>\n",
       "      <th>Months since last delinquent</th>\n",
       "      <th>Bankruptcies</th>\n",
       "      <th>Current Loan Amount</th>\n",
       "      <th>Current Credit Balance</th>\n",
       "      <th>Monthly Debt</th>\n",
       "      <th>Credit Score</th>\n",
       "      <th>Credit Default</th>\n",
       "    </tr>\n",
       "  </thead>\n",
       "  <tbody>\n",
       "    <tr>\n",
       "      <th>count</th>\n",
       "      <td>0.0</td>\n",
       "      <td>529.000000</td>\n",
       "      <td>529.000000</td>\n",
       "      <td>529.000000</td>\n",
       "      <td>5.290000e+02</td>\n",
       "      <td>529.000000</td>\n",
       "      <td>250.000000</td>\n",
       "      <td>529.000000</td>\n",
       "      <td>529.000000</td>\n",
       "      <td>5.290000e+02</td>\n",
       "      <td>529.000000</td>\n",
       "      <td>0.0</td>\n",
       "      <td>529.0</td>\n",
       "    </tr>\n",
       "    <tr>\n",
       "      <th>mean</th>\n",
       "      <td>NaN</td>\n",
       "      <td>0.060491</td>\n",
       "      <td>11.381853</td>\n",
       "      <td>17.970699</td>\n",
       "      <td>5.965566e+05</td>\n",
       "      <td>0.224953</td>\n",
       "      <td>36.328000</td>\n",
       "      <td>0.132325</td>\n",
       "      <td>339163.519849</td>\n",
       "      <td>2.928782e+05</td>\n",
       "      <td>18995.637051</td>\n",
       "      <td>NaN</td>\n",
       "      <td>1.0</td>\n",
       "    </tr>\n",
       "    <tr>\n",
       "      <th>std</th>\n",
       "      <td>NaN</td>\n",
       "      <td>0.389406</td>\n",
       "      <td>4.841203</td>\n",
       "      <td>7.300884</td>\n",
       "      <td>6.086026e+05</td>\n",
       "      <td>0.621933</td>\n",
       "      <td>22.580966</td>\n",
       "      <td>0.350155</td>\n",
       "      <td>189445.398544</td>\n",
       "      <td>3.148293e+05</td>\n",
       "      <td>12239.110354</td>\n",
       "      <td>NaN</td>\n",
       "      <td>0.0</td>\n",
       "    </tr>\n",
       "    <tr>\n",
       "      <th>min</th>\n",
       "      <td>NaN</td>\n",
       "      <td>0.000000</td>\n",
       "      <td>2.000000</td>\n",
       "      <td>4.500000</td>\n",
       "      <td>0.000000e+00</td>\n",
       "      <td>0.000000</td>\n",
       "      <td>0.000000</td>\n",
       "      <td>0.000000</td>\n",
       "      <td>21912.000000</td>\n",
       "      <td>0.000000e+00</td>\n",
       "      <td>0.000000</td>\n",
       "      <td>NaN</td>\n",
       "      <td>1.0</td>\n",
       "    </tr>\n",
       "    <tr>\n",
       "      <th>25%</th>\n",
       "      <td>NaN</td>\n",
       "      <td>0.000000</td>\n",
       "      <td>8.000000</td>\n",
       "      <td>13.000000</td>\n",
       "      <td>2.542540e+05</td>\n",
       "      <td>0.000000</td>\n",
       "      <td>15.250000</td>\n",
       "      <td>0.000000</td>\n",
       "      <td>201498.000000</td>\n",
       "      <td>1.083000e+05</td>\n",
       "      <td>10858.000000</td>\n",
       "      <td>NaN</td>\n",
       "      <td>1.0</td>\n",
       "    </tr>\n",
       "    <tr>\n",
       "      <th>50%</th>\n",
       "      <td>NaN</td>\n",
       "      <td>0.000000</td>\n",
       "      <td>11.000000</td>\n",
       "      <td>16.900000</td>\n",
       "      <td>4.651900e+05</td>\n",
       "      <td>0.000000</td>\n",
       "      <td>34.500000</td>\n",
       "      <td>0.000000</td>\n",
       "      <td>312026.000000</td>\n",
       "      <td>2.164290e+05</td>\n",
       "      <td>16383.000000</td>\n",
       "      <td>NaN</td>\n",
       "      <td>1.0</td>\n",
       "    </tr>\n",
       "    <tr>\n",
       "      <th>75%</th>\n",
       "      <td>NaN</td>\n",
       "      <td>0.000000</td>\n",
       "      <td>14.000000</td>\n",
       "      <td>21.500000</td>\n",
       "      <td>7.265720e+05</td>\n",
       "      <td>0.000000</td>\n",
       "      <td>54.000000</td>\n",
       "      <td>0.000000</td>\n",
       "      <td>458854.000000</td>\n",
       "      <td>3.625010e+05</td>\n",
       "      <td>24262.000000</td>\n",
       "      <td>NaN</td>\n",
       "      <td>1.0</td>\n",
       "    </tr>\n",
       "    <tr>\n",
       "      <th>max</th>\n",
       "      <td>NaN</td>\n",
       "      <td>4.000000</td>\n",
       "      <td>30.000000</td>\n",
       "      <td>51.500000</td>\n",
       "      <td>6.619316e+06</td>\n",
       "      <td>5.000000</td>\n",
       "      <td>83.000000</td>\n",
       "      <td>2.000000</td>\n",
       "      <td>787644.000000</td>\n",
       "      <td>3.944514e+06</td>\n",
       "      <td>95508.000000</td>\n",
       "      <td>NaN</td>\n",
       "      <td>1.0</td>\n",
       "    </tr>\n",
       "  </tbody>\n",
       "</table>\n",
       "</div>"
      ],
      "text/plain": [
       "       Annual Income   Tax Liens  Number of Open Accounts  \\\n",
       "count            0.0  529.000000               529.000000   \n",
       "mean             NaN    0.060491                11.381853   \n",
       "std              NaN    0.389406                 4.841203   \n",
       "min              NaN    0.000000                 2.000000   \n",
       "25%              NaN    0.000000                 8.000000   \n",
       "50%              NaN    0.000000                11.000000   \n",
       "75%              NaN    0.000000                14.000000   \n",
       "max              NaN    4.000000                30.000000   \n",
       "\n",
       "       Years of Credit History  Maximum Open Credit  \\\n",
       "count               529.000000         5.290000e+02   \n",
       "mean                 17.970699         5.965566e+05   \n",
       "std                   7.300884         6.086026e+05   \n",
       "min                   4.500000         0.000000e+00   \n",
       "25%                  13.000000         2.542540e+05   \n",
       "50%                  16.900000         4.651900e+05   \n",
       "75%                  21.500000         7.265720e+05   \n",
       "max                  51.500000         6.619316e+06   \n",
       "\n",
       "       Number of Credit Problems  Months since last delinquent  Bankruptcies  \\\n",
       "count                 529.000000                    250.000000    529.000000   \n",
       "mean                    0.224953                     36.328000      0.132325   \n",
       "std                     0.621933                     22.580966      0.350155   \n",
       "min                     0.000000                      0.000000      0.000000   \n",
       "25%                     0.000000                     15.250000      0.000000   \n",
       "50%                     0.000000                     34.500000      0.000000   \n",
       "75%                     0.000000                     54.000000      0.000000   \n",
       "max                     5.000000                     83.000000      2.000000   \n",
       "\n",
       "       Current Loan Amount  Current Credit Balance  Monthly Debt  \\\n",
       "count           529.000000            5.290000e+02    529.000000   \n",
       "mean         339163.519849            2.928782e+05  18995.637051   \n",
       "std          189445.398544            3.148293e+05  12239.110354   \n",
       "min           21912.000000            0.000000e+00      0.000000   \n",
       "25%          201498.000000            1.083000e+05  10858.000000   \n",
       "50%          312026.000000            2.164290e+05  16383.000000   \n",
       "75%          458854.000000            3.625010e+05  24262.000000   \n",
       "max          787644.000000            3.944514e+06  95508.000000   \n",
       "\n",
       "       Credit Score  Credit Default  \n",
       "count           0.0           529.0  \n",
       "mean            NaN             1.0  \n",
       "std             NaN             0.0  \n",
       "min             NaN             1.0  \n",
       "25%             NaN             1.0  \n",
       "50%             NaN             1.0  \n",
       "75%             NaN             1.0  \n",
       "max             NaN             1.0  "
      ]
     },
     "execution_count": 11,
     "metadata": {},
     "output_type": "execute_result"
    }
   ],
   "source": [
    "data[data[\"Credit Score\"].isnull()][data[\"Credit Default\"]==1].describe()"
   ]
  },
  {
   "cell_type": "code",
   "execution_count": 12,
   "metadata": {},
   "outputs": [
    {
     "data": {
      "text/html": [
       "<div>\n",
       "<style scoped>\n",
       "    .dataframe tbody tr th:only-of-type {\n",
       "        vertical-align: middle;\n",
       "    }\n",
       "\n",
       "    .dataframe tbody tr th {\n",
       "        vertical-align: top;\n",
       "    }\n",
       "\n",
       "    .dataframe thead th {\n",
       "        text-align: right;\n",
       "    }\n",
       "</style>\n",
       "<table border=\"1\" class=\"dataframe\">\n",
       "  <thead>\n",
       "    <tr style=\"text-align: right;\">\n",
       "      <th></th>\n",
       "      <th>Annual Income</th>\n",
       "      <th>Tax Liens</th>\n",
       "      <th>Number of Open Accounts</th>\n",
       "      <th>Years of Credit History</th>\n",
       "      <th>Maximum Open Credit</th>\n",
       "      <th>Number of Credit Problems</th>\n",
       "      <th>Months since last delinquent</th>\n",
       "      <th>Bankruptcies</th>\n",
       "      <th>Current Loan Amount</th>\n",
       "      <th>Current Credit Balance</th>\n",
       "      <th>Monthly Debt</th>\n",
       "      <th>Credit Score</th>\n",
       "      <th>Credit Default</th>\n",
       "    </tr>\n",
       "  </thead>\n",
       "  <tbody>\n",
       "    <tr>\n",
       "      <th>count</th>\n",
       "      <td>1.906000e+03</td>\n",
       "      <td>1906.000000</td>\n",
       "      <td>1906.000000</td>\n",
       "      <td>1906.000000</td>\n",
       "      <td>1.906000e+03</td>\n",
       "      <td>1906.000000</td>\n",
       "      <td>1906.000000</td>\n",
       "      <td>1906.000000</td>\n",
       "      <td>1.906000e+03</td>\n",
       "      <td>1.906000e+03</td>\n",
       "      <td>1906.000000</td>\n",
       "      <td>1906.000000</td>\n",
       "      <td>1906.0</td>\n",
       "    </tr>\n",
       "    <tr>\n",
       "      <th>mean</th>\n",
       "      <td>1.515680e+06</td>\n",
       "      <td>0.042497</td>\n",
       "      <td>11.443861</td>\n",
       "      <td>19.209496</td>\n",
       "      <td>8.504658e+05</td>\n",
       "      <td>0.188353</td>\n",
       "      <td>34.838405</td>\n",
       "      <td>0.110178</td>\n",
       "      <td>1.871888e+07</td>\n",
       "      <td>2.663554e+05</td>\n",
       "      <td>18850.145855</td>\n",
       "      <td>720.642183</td>\n",
       "      <td>0.0</td>\n",
       "    </tr>\n",
       "    <tr>\n",
       "      <th>std</th>\n",
       "      <td>9.351926e+05</td>\n",
       "      <td>0.361941</td>\n",
       "      <td>4.804334</td>\n",
       "      <td>6.678568</td>\n",
       "      <td>8.806743e+06</td>\n",
       "      <td>0.568362</td>\n",
       "      <td>21.530156</td>\n",
       "      <td>0.342035</td>\n",
       "      <td>3.869486e+07</td>\n",
       "      <td>3.141938e+05</td>\n",
       "      <td>11671.708430</td>\n",
       "      <td>25.765589</td>\n",
       "      <td>0.0</td>\n",
       "    </tr>\n",
       "    <tr>\n",
       "      <th>min</th>\n",
       "      <td>1.645970e+05</td>\n",
       "      <td>0.000000</td>\n",
       "      <td>2.000000</td>\n",
       "      <td>4.800000</td>\n",
       "      <td>0.000000e+00</td>\n",
       "      <td>0.000000</td>\n",
       "      <td>0.000000</td>\n",
       "      <td>0.000000</td>\n",
       "      <td>2.171400e+04</td>\n",
       "      <td>0.000000e+00</td>\n",
       "      <td>0.000000</td>\n",
       "      <td>590.000000</td>\n",
       "      <td>0.0</td>\n",
       "    </tr>\n",
       "    <tr>\n",
       "      <th>25%</th>\n",
       "      <td>9.438535e+05</td>\n",
       "      <td>0.000000</td>\n",
       "      <td>8.000000</td>\n",
       "      <td>14.500000</td>\n",
       "      <td>2.632190e+05</td>\n",
       "      <td>0.000000</td>\n",
       "      <td>17.000000</td>\n",
       "      <td>0.000000</td>\n",
       "      <td>1.996005e+05</td>\n",
       "      <td>1.040915e+05</td>\n",
       "      <td>10644.500000</td>\n",
       "      <td>709.250000</td>\n",
       "      <td>0.0</td>\n",
       "    </tr>\n",
       "    <tr>\n",
       "      <th>50%</th>\n",
       "      <td>1.313052e+06</td>\n",
       "      <td>0.000000</td>\n",
       "      <td>11.000000</td>\n",
       "      <td>17.900000</td>\n",
       "      <td>4.432340e+05</td>\n",
       "      <td>0.000000</td>\n",
       "      <td>32.000000</td>\n",
       "      <td>0.000000</td>\n",
       "      <td>3.285590e+05</td>\n",
       "      <td>1.884515e+05</td>\n",
       "      <td>16874.500000</td>\n",
       "      <td>728.000000</td>\n",
       "      <td>0.0</td>\n",
       "    </tr>\n",
       "    <tr>\n",
       "      <th>75%</th>\n",
       "      <td>1.785192e+06</td>\n",
       "      <td>0.000000</td>\n",
       "      <td>14.000000</td>\n",
       "      <td>22.700000</td>\n",
       "      <td>7.241245e+05</td>\n",
       "      <td>0.000000</td>\n",
       "      <td>50.000000</td>\n",
       "      <td>0.000000</td>\n",
       "      <td>6.118310e+05</td>\n",
       "      <td>3.187868e+05</td>\n",
       "      <td>24195.250000</td>\n",
       "      <td>740.000000</td>\n",
       "      <td>0.0</td>\n",
       "    </tr>\n",
       "    <tr>\n",
       "      <th>max</th>\n",
       "      <td>1.014934e+07</td>\n",
       "      <td>7.000000</td>\n",
       "      <td>37.000000</td>\n",
       "      <td>50.600000</td>\n",
       "      <td>3.800523e+08</td>\n",
       "      <td>7.000000</td>\n",
       "      <td>118.000000</td>\n",
       "      <td>4.000000</td>\n",
       "      <td>1.000000e+08</td>\n",
       "      <td>4.367245e+06</td>\n",
       "      <td>93640.000000</td>\n",
       "      <td>751.000000</td>\n",
       "      <td>0.0</td>\n",
       "    </tr>\n",
       "  </tbody>\n",
       "</table>\n",
       "</div>"
      ],
      "text/plain": [
       "       Annual Income    Tax Liens  Number of Open Accounts  \\\n",
       "count   1.906000e+03  1906.000000              1906.000000   \n",
       "mean    1.515680e+06     0.042497                11.443861   \n",
       "std     9.351926e+05     0.361941                 4.804334   \n",
       "min     1.645970e+05     0.000000                 2.000000   \n",
       "25%     9.438535e+05     0.000000                 8.000000   \n",
       "50%     1.313052e+06     0.000000                11.000000   \n",
       "75%     1.785192e+06     0.000000                14.000000   \n",
       "max     1.014934e+07     7.000000                37.000000   \n",
       "\n",
       "       Years of Credit History  Maximum Open Credit  \\\n",
       "count              1906.000000         1.906000e+03   \n",
       "mean                 19.209496         8.504658e+05   \n",
       "std                   6.678568         8.806743e+06   \n",
       "min                   4.800000         0.000000e+00   \n",
       "25%                  14.500000         2.632190e+05   \n",
       "50%                  17.900000         4.432340e+05   \n",
       "75%                  22.700000         7.241245e+05   \n",
       "max                  50.600000         3.800523e+08   \n",
       "\n",
       "       Number of Credit Problems  Months since last delinquent  Bankruptcies  \\\n",
       "count                1906.000000                   1906.000000   1906.000000   \n",
       "mean                    0.188353                     34.838405      0.110178   \n",
       "std                     0.568362                     21.530156      0.342035   \n",
       "min                     0.000000                      0.000000      0.000000   \n",
       "25%                     0.000000                     17.000000      0.000000   \n",
       "50%                     0.000000                     32.000000      0.000000   \n",
       "75%                     0.000000                     50.000000      0.000000   \n",
       "max                     7.000000                    118.000000      4.000000   \n",
       "\n",
       "       Current Loan Amount  Current Credit Balance  Monthly Debt  \\\n",
       "count         1.906000e+03            1.906000e+03   1906.000000   \n",
       "mean          1.871888e+07            2.663554e+05  18850.145855   \n",
       "std           3.869486e+07            3.141938e+05  11671.708430   \n",
       "min           2.171400e+04            0.000000e+00      0.000000   \n",
       "25%           1.996005e+05            1.040915e+05  10644.500000   \n",
       "50%           3.285590e+05            1.884515e+05  16874.500000   \n",
       "75%           6.118310e+05            3.187868e+05  24195.250000   \n",
       "max           1.000000e+08            4.367245e+06  93640.000000   \n",
       "\n",
       "       Credit Score  Credit Default  \n",
       "count   1906.000000          1906.0  \n",
       "mean     720.642183             0.0  \n",
       "std       25.765589             0.0  \n",
       "min      590.000000             0.0  \n",
       "25%      709.250000             0.0  \n",
       "50%      728.000000             0.0  \n",
       "75%      740.000000             0.0  \n",
       "max      751.000000             0.0  "
      ]
     },
     "execution_count": 12,
     "metadata": {},
     "output_type": "execute_result"
    }
   ],
   "source": [
    "data[data[\"Credit Default\"]==0].dropna().describe()"
   ]
  },
  {
   "cell_type": "code",
   "execution_count": 13,
   "metadata": {},
   "outputs": [
    {
     "name": "stderr",
     "output_type": "stream",
     "text": [
      "C:\\ProgramData\\Anaconda3\\lib\\site-packages\\ipykernel_launcher.py:1: UserWarning: Boolean Series key will be reindexed to match DataFrame index.\n",
      "  \"\"\"Entry point for launching an IPython kernel.\n"
     ]
    },
    {
     "data": {
      "text/html": [
       "<div>\n",
       "<style scoped>\n",
       "    .dataframe tbody tr th:only-of-type {\n",
       "        vertical-align: middle;\n",
       "    }\n",
       "\n",
       "    .dataframe tbody tr th {\n",
       "        vertical-align: top;\n",
       "    }\n",
       "\n",
       "    .dataframe thead th {\n",
       "        text-align: right;\n",
       "    }\n",
       "</style>\n",
       "<table border=\"1\" class=\"dataframe\">\n",
       "  <thead>\n",
       "    <tr style=\"text-align: right;\">\n",
       "      <th></th>\n",
       "      <th>Annual Income</th>\n",
       "      <th>Tax Liens</th>\n",
       "      <th>Number of Open Accounts</th>\n",
       "      <th>Years of Credit History</th>\n",
       "      <th>Maximum Open Credit</th>\n",
       "      <th>Number of Credit Problems</th>\n",
       "      <th>Months since last delinquent</th>\n",
       "      <th>Bankruptcies</th>\n",
       "      <th>Current Loan Amount</th>\n",
       "      <th>Current Credit Balance</th>\n",
       "      <th>Monthly Debt</th>\n",
       "      <th>Credit Score</th>\n",
       "      <th>Credit Default</th>\n",
       "    </tr>\n",
       "  </thead>\n",
       "  <tbody>\n",
       "    <tr>\n",
       "      <th>count</th>\n",
       "      <td>0.0</td>\n",
       "      <td>1028.000000</td>\n",
       "      <td>1028.000000</td>\n",
       "      <td>1028.000000</td>\n",
       "      <td>1.028000e+03</td>\n",
       "      <td>1028.000000</td>\n",
       "      <td>433.000000</td>\n",
       "      <td>1026.000000</td>\n",
       "      <td>1028.000000</td>\n",
       "      <td>1.028000e+03</td>\n",
       "      <td>1028.00000</td>\n",
       "      <td>0.0</td>\n",
       "      <td>1028.0</td>\n",
       "    </tr>\n",
       "    <tr>\n",
       "      <th>mean</th>\n",
       "      <td>NaN</td>\n",
       "      <td>0.019455</td>\n",
       "      <td>11.033074</td>\n",
       "      <td>18.525097</td>\n",
       "      <td>1.948383e+06</td>\n",
       "      <td>0.143969</td>\n",
       "      <td>33.577367</td>\n",
       "      <td>0.104288</td>\n",
       "      <td>280974.027237</td>\n",
       "      <td>2.825520e+05</td>\n",
       "      <td>18170.89786</td>\n",
       "      <td>NaN</td>\n",
       "      <td>0.0</td>\n",
       "    </tr>\n",
       "    <tr>\n",
       "      <th>std</th>\n",
       "      <td>NaN</td>\n",
       "      <td>0.201288</td>\n",
       "      <td>4.981648</td>\n",
       "      <td>6.895782</td>\n",
       "      <td>4.067861e+07</td>\n",
       "      <td>0.421770</td>\n",
       "      <td>21.193643</td>\n",
       "      <td>0.315210</td>\n",
       "      <td>170409.279191</td>\n",
       "      <td>2.997553e+05</td>\n",
       "      <td>11999.81668</td>\n",
       "      <td>NaN</td>\n",
       "      <td>0.0</td>\n",
       "    </tr>\n",
       "    <tr>\n",
       "      <th>min</th>\n",
       "      <td>NaN</td>\n",
       "      <td>0.000000</td>\n",
       "      <td>2.000000</td>\n",
       "      <td>4.300000</td>\n",
       "      <td>0.000000e+00</td>\n",
       "      <td>0.000000</td>\n",
       "      <td>0.000000</td>\n",
       "      <td>0.000000</td>\n",
       "      <td>21472.000000</td>\n",
       "      <td>0.000000e+00</td>\n",
       "      <td>0.00000</td>\n",
       "      <td>NaN</td>\n",
       "      <td>0.0</td>\n",
       "    </tr>\n",
       "    <tr>\n",
       "      <th>25%</th>\n",
       "      <td>NaN</td>\n",
       "      <td>0.000000</td>\n",
       "      <td>7.000000</td>\n",
       "      <td>13.700000</td>\n",
       "      <td>2.935075e+05</td>\n",
       "      <td>0.000000</td>\n",
       "      <td>15.000000</td>\n",
       "      <td>0.000000</td>\n",
       "      <td>153692.000000</td>\n",
       "      <td>1.144085e+05</td>\n",
       "      <td>9709.75000</td>\n",
       "      <td>NaN</td>\n",
       "      <td>0.0</td>\n",
       "    </tr>\n",
       "    <tr>\n",
       "      <th>50%</th>\n",
       "      <td>NaN</td>\n",
       "      <td>0.000000</td>\n",
       "      <td>10.000000</td>\n",
       "      <td>17.500000</td>\n",
       "      <td>4.978930e+05</td>\n",
       "      <td>0.000000</td>\n",
       "      <td>31.000000</td>\n",
       "      <td>0.000000</td>\n",
       "      <td>240999.000000</td>\n",
       "      <td>2.026730e+05</td>\n",
       "      <td>15952.50000</td>\n",
       "      <td>NaN</td>\n",
       "      <td>0.0</td>\n",
       "    </tr>\n",
       "    <tr>\n",
       "      <th>75%</th>\n",
       "      <td>NaN</td>\n",
       "      <td>0.000000</td>\n",
       "      <td>14.000000</td>\n",
       "      <td>22.100000</td>\n",
       "      <td>8.336460e+05</td>\n",
       "      <td>0.000000</td>\n",
       "      <td>49.000000</td>\n",
       "      <td>0.000000</td>\n",
       "      <td>368098.500000</td>\n",
       "      <td>3.525878e+05</td>\n",
       "      <td>23617.00000</td>\n",
       "      <td>NaN</td>\n",
       "      <td>0.0</td>\n",
       "    </tr>\n",
       "    <tr>\n",
       "      <th>max</th>\n",
       "      <td>NaN</td>\n",
       "      <td>3.000000</td>\n",
       "      <td>33.000000</td>\n",
       "      <td>51.900000</td>\n",
       "      <td>1.304726e+09</td>\n",
       "      <td>3.000000</td>\n",
       "      <td>81.000000</td>\n",
       "      <td>2.000000</td>\n",
       "      <td>788942.000000</td>\n",
       "      <td>3.683340e+06</td>\n",
       "      <td>96177.00000</td>\n",
       "      <td>NaN</td>\n",
       "      <td>0.0</td>\n",
       "    </tr>\n",
       "  </tbody>\n",
       "</table>\n",
       "</div>"
      ],
      "text/plain": [
       "       Annual Income    Tax Liens  Number of Open Accounts  \\\n",
       "count            0.0  1028.000000              1028.000000   \n",
       "mean             NaN     0.019455                11.033074   \n",
       "std              NaN     0.201288                 4.981648   \n",
       "min              NaN     0.000000                 2.000000   \n",
       "25%              NaN     0.000000                 7.000000   \n",
       "50%              NaN     0.000000                10.000000   \n",
       "75%              NaN     0.000000                14.000000   \n",
       "max              NaN     3.000000                33.000000   \n",
       "\n",
       "       Years of Credit History  Maximum Open Credit  \\\n",
       "count              1028.000000         1.028000e+03   \n",
       "mean                 18.525097         1.948383e+06   \n",
       "std                   6.895782         4.067861e+07   \n",
       "min                   4.300000         0.000000e+00   \n",
       "25%                  13.700000         2.935075e+05   \n",
       "50%                  17.500000         4.978930e+05   \n",
       "75%                  22.100000         8.336460e+05   \n",
       "max                  51.900000         1.304726e+09   \n",
       "\n",
       "       Number of Credit Problems  Months since last delinquent  Bankruptcies  \\\n",
       "count                1028.000000                    433.000000   1026.000000   \n",
       "mean                    0.143969                     33.577367      0.104288   \n",
       "std                     0.421770                     21.193643      0.315210   \n",
       "min                     0.000000                      0.000000      0.000000   \n",
       "25%                     0.000000                     15.000000      0.000000   \n",
       "50%                     0.000000                     31.000000      0.000000   \n",
       "75%                     0.000000                     49.000000      0.000000   \n",
       "max                     3.000000                     81.000000      2.000000   \n",
       "\n",
       "       Current Loan Amount  Current Credit Balance  Monthly Debt  \\\n",
       "count          1028.000000            1.028000e+03    1028.00000   \n",
       "mean         280974.027237            2.825520e+05   18170.89786   \n",
       "std          170409.279191            2.997553e+05   11999.81668   \n",
       "min           21472.000000            0.000000e+00       0.00000   \n",
       "25%          153692.000000            1.144085e+05    9709.75000   \n",
       "50%          240999.000000            2.026730e+05   15952.50000   \n",
       "75%          368098.500000            3.525878e+05   23617.00000   \n",
       "max          788942.000000            3.683340e+06   96177.00000   \n",
       "\n",
       "       Credit Score  Credit Default  \n",
       "count           0.0          1028.0  \n",
       "mean            NaN             0.0  \n",
       "std             NaN             0.0  \n",
       "min             NaN             0.0  \n",
       "25%             NaN             0.0  \n",
       "50%             NaN             0.0  \n",
       "75%             NaN             0.0  \n",
       "max             NaN             0.0  "
      ]
     },
     "execution_count": 13,
     "metadata": {},
     "output_type": "execute_result"
    }
   ],
   "source": [
    "data[data[\"Credit Score\"].isnull()][data[\"Credit Default\"]==0].describe()"
   ]
  },
  {
   "cell_type": "code",
   "execution_count": 14,
   "metadata": {},
   "outputs": [
    {
     "data": {
      "text/html": [
       "<div>\n",
       "<style scoped>\n",
       "    .dataframe tbody tr th:only-of-type {\n",
       "        vertical-align: middle;\n",
       "    }\n",
       "\n",
       "    .dataframe tbody tr th {\n",
       "        vertical-align: top;\n",
       "    }\n",
       "\n",
       "    .dataframe thead th {\n",
       "        text-align: right;\n",
       "    }\n",
       "</style>\n",
       "<table border=\"1\" class=\"dataframe\">\n",
       "  <thead>\n",
       "    <tr style=\"text-align: right;\">\n",
       "      <th></th>\n",
       "      <th>Annual Income</th>\n",
       "      <th>Tax Liens</th>\n",
       "      <th>Number of Open Accounts</th>\n",
       "      <th>Years of Credit History</th>\n",
       "      <th>Maximum Open Credit</th>\n",
       "      <th>Number of Credit Problems</th>\n",
       "      <th>Months since last delinquent</th>\n",
       "      <th>Bankruptcies</th>\n",
       "      <th>Current Loan Amount</th>\n",
       "      <th>Current Credit Balance</th>\n",
       "      <th>Monthly Debt</th>\n",
       "      <th>Credit Score</th>\n",
       "      <th>Credit Default</th>\n",
       "    </tr>\n",
       "  </thead>\n",
       "  <tbody>\n",
       "    <tr>\n",
       "      <th>count</th>\n",
       "      <td>0.0</td>\n",
       "      <td>1557.000000</td>\n",
       "      <td>1557.000000</td>\n",
       "      <td>1557.000000</td>\n",
       "      <td>1.557000e+03</td>\n",
       "      <td>1557.000000</td>\n",
       "      <td>683.000000</td>\n",
       "      <td>1555.000000</td>\n",
       "      <td>1557.000000</td>\n",
       "      <td>1.557000e+03</td>\n",
       "      <td>1557.000000</td>\n",
       "      <td>0.0</td>\n",
       "      <td>1557.000000</td>\n",
       "    </tr>\n",
       "    <tr>\n",
       "      <th>mean</th>\n",
       "      <td>NaN</td>\n",
       "      <td>0.033398</td>\n",
       "      <td>11.151574</td>\n",
       "      <td>18.336737</td>\n",
       "      <td>1.489092e+06</td>\n",
       "      <td>0.171484</td>\n",
       "      <td>34.584187</td>\n",
       "      <td>0.113826</td>\n",
       "      <td>300744.253051</td>\n",
       "      <td>2.860604e+05</td>\n",
       "      <td>18451.107900</td>\n",
       "      <td>NaN</td>\n",
       "      <td>0.339756</td>\n",
       "    </tr>\n",
       "    <tr>\n",
       "      <th>std</th>\n",
       "      <td>NaN</td>\n",
       "      <td>0.280313</td>\n",
       "      <td>4.935590</td>\n",
       "      <td>7.038592</td>\n",
       "      <td>3.305621e+07</td>\n",
       "      <td>0.500137</td>\n",
       "      <td>21.735747</td>\n",
       "      <td>0.327673</td>\n",
       "      <td>179179.260062</td>\n",
       "      <td>3.048984e+05</td>\n",
       "      <td>12084.036473</td>\n",
       "      <td>NaN</td>\n",
       "      <td>0.473778</td>\n",
       "    </tr>\n",
       "    <tr>\n",
       "      <th>min</th>\n",
       "      <td>NaN</td>\n",
       "      <td>0.000000</td>\n",
       "      <td>2.000000</td>\n",
       "      <td>4.300000</td>\n",
       "      <td>0.000000e+00</td>\n",
       "      <td>0.000000</td>\n",
       "      <td>0.000000</td>\n",
       "      <td>0.000000</td>\n",
       "      <td>21472.000000</td>\n",
       "      <td>0.000000e+00</td>\n",
       "      <td>0.000000</td>\n",
       "      <td>NaN</td>\n",
       "      <td>0.000000</td>\n",
       "    </tr>\n",
       "    <tr>\n",
       "      <th>25%</th>\n",
       "      <td>NaN</td>\n",
       "      <td>0.000000</td>\n",
       "      <td>8.000000</td>\n",
       "      <td>13.500000</td>\n",
       "      <td>2.832280e+05</td>\n",
       "      <td>0.000000</td>\n",
       "      <td>15.000000</td>\n",
       "      <td>0.000000</td>\n",
       "      <td>167684.000000</td>\n",
       "      <td>1.140760e+05</td>\n",
       "      <td>10071.000000</td>\n",
       "      <td>NaN</td>\n",
       "      <td>0.000000</td>\n",
       "    </tr>\n",
       "    <tr>\n",
       "      <th>50%</th>\n",
       "      <td>NaN</td>\n",
       "      <td>0.000000</td>\n",
       "      <td>10.000000</td>\n",
       "      <td>17.300000</td>\n",
       "      <td>4.862660e+05</td>\n",
       "      <td>0.000000</td>\n",
       "      <td>32.000000</td>\n",
       "      <td>0.000000</td>\n",
       "      <td>262856.000000</td>\n",
       "      <td>2.058650e+05</td>\n",
       "      <td>16048.000000</td>\n",
       "      <td>NaN</td>\n",
       "      <td>0.000000</td>\n",
       "    </tr>\n",
       "    <tr>\n",
       "      <th>75%</th>\n",
       "      <td>NaN</td>\n",
       "      <td>0.000000</td>\n",
       "      <td>14.000000</td>\n",
       "      <td>21.900000</td>\n",
       "      <td>7.942660e+05</td>\n",
       "      <td>0.000000</td>\n",
       "      <td>50.000000</td>\n",
       "      <td>0.000000</td>\n",
       "      <td>404096.000000</td>\n",
       "      <td>3.572190e+05</td>\n",
       "      <td>23883.000000</td>\n",
       "      <td>NaN</td>\n",
       "      <td>1.000000</td>\n",
       "    </tr>\n",
       "    <tr>\n",
       "      <th>max</th>\n",
       "      <td>NaN</td>\n",
       "      <td>4.000000</td>\n",
       "      <td>33.000000</td>\n",
       "      <td>51.900000</td>\n",
       "      <td>1.304726e+09</td>\n",
       "      <td>5.000000</td>\n",
       "      <td>83.000000</td>\n",
       "      <td>2.000000</td>\n",
       "      <td>788942.000000</td>\n",
       "      <td>3.944514e+06</td>\n",
       "      <td>96177.000000</td>\n",
       "      <td>NaN</td>\n",
       "      <td>1.000000</td>\n",
       "    </tr>\n",
       "  </tbody>\n",
       "</table>\n",
       "</div>"
      ],
      "text/plain": [
       "       Annual Income    Tax Liens  Number of Open Accounts  \\\n",
       "count            0.0  1557.000000              1557.000000   \n",
       "mean             NaN     0.033398                11.151574   \n",
       "std              NaN     0.280313                 4.935590   \n",
       "min              NaN     0.000000                 2.000000   \n",
       "25%              NaN     0.000000                 8.000000   \n",
       "50%              NaN     0.000000                10.000000   \n",
       "75%              NaN     0.000000                14.000000   \n",
       "max              NaN     4.000000                33.000000   \n",
       "\n",
       "       Years of Credit History  Maximum Open Credit  \\\n",
       "count              1557.000000         1.557000e+03   \n",
       "mean                 18.336737         1.489092e+06   \n",
       "std                   7.038592         3.305621e+07   \n",
       "min                   4.300000         0.000000e+00   \n",
       "25%                  13.500000         2.832280e+05   \n",
       "50%                  17.300000         4.862660e+05   \n",
       "75%                  21.900000         7.942660e+05   \n",
       "max                  51.900000         1.304726e+09   \n",
       "\n",
       "       Number of Credit Problems  Months since last delinquent  Bankruptcies  \\\n",
       "count                1557.000000                    683.000000   1555.000000   \n",
       "mean                    0.171484                     34.584187      0.113826   \n",
       "std                     0.500137                     21.735747      0.327673   \n",
       "min                     0.000000                      0.000000      0.000000   \n",
       "25%                     0.000000                     15.000000      0.000000   \n",
       "50%                     0.000000                     32.000000      0.000000   \n",
       "75%                     0.000000                     50.000000      0.000000   \n",
       "max                     5.000000                     83.000000      2.000000   \n",
       "\n",
       "       Current Loan Amount  Current Credit Balance  Monthly Debt  \\\n",
       "count          1557.000000            1.557000e+03   1557.000000   \n",
       "mean         300744.253051            2.860604e+05  18451.107900   \n",
       "std          179179.260062            3.048984e+05  12084.036473   \n",
       "min           21472.000000            0.000000e+00      0.000000   \n",
       "25%          167684.000000            1.140760e+05  10071.000000   \n",
       "50%          262856.000000            2.058650e+05  16048.000000   \n",
       "75%          404096.000000            3.572190e+05  23883.000000   \n",
       "max          788942.000000            3.944514e+06  96177.000000   \n",
       "\n",
       "       Credit Score  Credit Default  \n",
       "count           0.0     1557.000000  \n",
       "mean            NaN        0.339756  \n",
       "std             NaN        0.473778  \n",
       "min             NaN        0.000000  \n",
       "25%             NaN        0.000000  \n",
       "50%             NaN        0.000000  \n",
       "75%             NaN        1.000000  \n",
       "max             NaN        1.000000  "
      ]
     },
     "execution_count": 14,
     "metadata": {},
     "output_type": "execute_result"
    }
   ],
   "source": [
    "data[data[\"Credit Score\"].isnull()].describe()"
   ]
  },
  {
   "cell_type": "code",
   "execution_count": 15,
   "metadata": {},
   "outputs": [
    {
     "name": "stderr",
     "output_type": "stream",
     "text": [
      "C:\\ProgramData\\Anaconda3\\lib\\site-packages\\ipykernel_launcher.py:1: UserWarning: Boolean Series key will be reindexed to match DataFrame index.\n",
      "  \"\"\"Entry point for launching an IPython kernel.\n"
     ]
    },
    {
     "data": {
      "text/html": [
       "<div>\n",
       "<style scoped>\n",
       "    .dataframe tbody tr th:only-of-type {\n",
       "        vertical-align: middle;\n",
       "    }\n",
       "\n",
       "    .dataframe tbody tr th {\n",
       "        vertical-align: top;\n",
       "    }\n",
       "\n",
       "    .dataframe thead th {\n",
       "        text-align: right;\n",
       "    }\n",
       "</style>\n",
       "<table border=\"1\" class=\"dataframe\">\n",
       "  <thead>\n",
       "    <tr style=\"text-align: right;\">\n",
       "      <th></th>\n",
       "      <th>Annual Income</th>\n",
       "      <th>Tax Liens</th>\n",
       "      <th>Number of Open Accounts</th>\n",
       "      <th>Years of Credit History</th>\n",
       "      <th>Maximum Open Credit</th>\n",
       "      <th>Number of Credit Problems</th>\n",
       "      <th>Months since last delinquent</th>\n",
       "      <th>Bankruptcies</th>\n",
       "      <th>Current Loan Amount</th>\n",
       "      <th>Current Credit Balance</th>\n",
       "      <th>Monthly Debt</th>\n",
       "      <th>Credit Score</th>\n",
       "      <th>Credit Default</th>\n",
       "    </tr>\n",
       "  </thead>\n",
       "  <tbody>\n",
       "    <tr>\n",
       "      <th>count</th>\n",
       "      <td>0.0</td>\n",
       "      <td>1028.000000</td>\n",
       "      <td>1028.000000</td>\n",
       "      <td>1028.000000</td>\n",
       "      <td>1.028000e+03</td>\n",
       "      <td>1028.000000</td>\n",
       "      <td>433.000000</td>\n",
       "      <td>1026.000000</td>\n",
       "      <td>1028.000000</td>\n",
       "      <td>1.028000e+03</td>\n",
       "      <td>1028.00000</td>\n",
       "      <td>0.0</td>\n",
       "      <td>1028.0</td>\n",
       "    </tr>\n",
       "    <tr>\n",
       "      <th>mean</th>\n",
       "      <td>NaN</td>\n",
       "      <td>0.019455</td>\n",
       "      <td>11.033074</td>\n",
       "      <td>18.525097</td>\n",
       "      <td>1.948383e+06</td>\n",
       "      <td>0.143969</td>\n",
       "      <td>33.577367</td>\n",
       "      <td>0.104288</td>\n",
       "      <td>280974.027237</td>\n",
       "      <td>2.825520e+05</td>\n",
       "      <td>18170.89786</td>\n",
       "      <td>NaN</td>\n",
       "      <td>0.0</td>\n",
       "    </tr>\n",
       "    <tr>\n",
       "      <th>std</th>\n",
       "      <td>NaN</td>\n",
       "      <td>0.201288</td>\n",
       "      <td>4.981648</td>\n",
       "      <td>6.895782</td>\n",
       "      <td>4.067861e+07</td>\n",
       "      <td>0.421770</td>\n",
       "      <td>21.193643</td>\n",
       "      <td>0.315210</td>\n",
       "      <td>170409.279191</td>\n",
       "      <td>2.997553e+05</td>\n",
       "      <td>11999.81668</td>\n",
       "      <td>NaN</td>\n",
       "      <td>0.0</td>\n",
       "    </tr>\n",
       "    <tr>\n",
       "      <th>min</th>\n",
       "      <td>NaN</td>\n",
       "      <td>0.000000</td>\n",
       "      <td>2.000000</td>\n",
       "      <td>4.300000</td>\n",
       "      <td>0.000000e+00</td>\n",
       "      <td>0.000000</td>\n",
       "      <td>0.000000</td>\n",
       "      <td>0.000000</td>\n",
       "      <td>21472.000000</td>\n",
       "      <td>0.000000e+00</td>\n",
       "      <td>0.00000</td>\n",
       "      <td>NaN</td>\n",
       "      <td>0.0</td>\n",
       "    </tr>\n",
       "    <tr>\n",
       "      <th>25%</th>\n",
       "      <td>NaN</td>\n",
       "      <td>0.000000</td>\n",
       "      <td>7.000000</td>\n",
       "      <td>13.700000</td>\n",
       "      <td>2.935075e+05</td>\n",
       "      <td>0.000000</td>\n",
       "      <td>15.000000</td>\n",
       "      <td>0.000000</td>\n",
       "      <td>153692.000000</td>\n",
       "      <td>1.144085e+05</td>\n",
       "      <td>9709.75000</td>\n",
       "      <td>NaN</td>\n",
       "      <td>0.0</td>\n",
       "    </tr>\n",
       "    <tr>\n",
       "      <th>50%</th>\n",
       "      <td>NaN</td>\n",
       "      <td>0.000000</td>\n",
       "      <td>10.000000</td>\n",
       "      <td>17.500000</td>\n",
       "      <td>4.978930e+05</td>\n",
       "      <td>0.000000</td>\n",
       "      <td>31.000000</td>\n",
       "      <td>0.000000</td>\n",
       "      <td>240999.000000</td>\n",
       "      <td>2.026730e+05</td>\n",
       "      <td>15952.50000</td>\n",
       "      <td>NaN</td>\n",
       "      <td>0.0</td>\n",
       "    </tr>\n",
       "    <tr>\n",
       "      <th>75%</th>\n",
       "      <td>NaN</td>\n",
       "      <td>0.000000</td>\n",
       "      <td>14.000000</td>\n",
       "      <td>22.100000</td>\n",
       "      <td>8.336460e+05</td>\n",
       "      <td>0.000000</td>\n",
       "      <td>49.000000</td>\n",
       "      <td>0.000000</td>\n",
       "      <td>368098.500000</td>\n",
       "      <td>3.525878e+05</td>\n",
       "      <td>23617.00000</td>\n",
       "      <td>NaN</td>\n",
       "      <td>0.0</td>\n",
       "    </tr>\n",
       "    <tr>\n",
       "      <th>max</th>\n",
       "      <td>NaN</td>\n",
       "      <td>3.000000</td>\n",
       "      <td>33.000000</td>\n",
       "      <td>51.900000</td>\n",
       "      <td>1.304726e+09</td>\n",
       "      <td>3.000000</td>\n",
       "      <td>81.000000</td>\n",
       "      <td>2.000000</td>\n",
       "      <td>788942.000000</td>\n",
       "      <td>3.683340e+06</td>\n",
       "      <td>96177.00000</td>\n",
       "      <td>NaN</td>\n",
       "      <td>0.0</td>\n",
       "    </tr>\n",
       "  </tbody>\n",
       "</table>\n",
       "</div>"
      ],
      "text/plain": [
       "       Annual Income    Tax Liens  Number of Open Accounts  \\\n",
       "count            0.0  1028.000000              1028.000000   \n",
       "mean             NaN     0.019455                11.033074   \n",
       "std              NaN     0.201288                 4.981648   \n",
       "min              NaN     0.000000                 2.000000   \n",
       "25%              NaN     0.000000                 7.000000   \n",
       "50%              NaN     0.000000                10.000000   \n",
       "75%              NaN     0.000000                14.000000   \n",
       "max              NaN     3.000000                33.000000   \n",
       "\n",
       "       Years of Credit History  Maximum Open Credit  \\\n",
       "count              1028.000000         1.028000e+03   \n",
       "mean                 18.525097         1.948383e+06   \n",
       "std                   6.895782         4.067861e+07   \n",
       "min                   4.300000         0.000000e+00   \n",
       "25%                  13.700000         2.935075e+05   \n",
       "50%                  17.500000         4.978930e+05   \n",
       "75%                  22.100000         8.336460e+05   \n",
       "max                  51.900000         1.304726e+09   \n",
       "\n",
       "       Number of Credit Problems  Months since last delinquent  Bankruptcies  \\\n",
       "count                1028.000000                    433.000000   1026.000000   \n",
       "mean                    0.143969                     33.577367      0.104288   \n",
       "std                     0.421770                     21.193643      0.315210   \n",
       "min                     0.000000                      0.000000      0.000000   \n",
       "25%                     0.000000                     15.000000      0.000000   \n",
       "50%                     0.000000                     31.000000      0.000000   \n",
       "75%                     0.000000                     49.000000      0.000000   \n",
       "max                     3.000000                     81.000000      2.000000   \n",
       "\n",
       "       Current Loan Amount  Current Credit Balance  Monthly Debt  \\\n",
       "count          1028.000000            1.028000e+03    1028.00000   \n",
       "mean         280974.027237            2.825520e+05   18170.89786   \n",
       "std          170409.279191            2.997553e+05   11999.81668   \n",
       "min           21472.000000            0.000000e+00       0.00000   \n",
       "25%          153692.000000            1.144085e+05    9709.75000   \n",
       "50%          240999.000000            2.026730e+05   15952.50000   \n",
       "75%          368098.500000            3.525878e+05   23617.00000   \n",
       "max          788942.000000            3.683340e+06   96177.00000   \n",
       "\n",
       "       Credit Score  Credit Default  \n",
       "count           0.0          1028.0  \n",
       "mean            NaN             0.0  \n",
       "std             NaN             0.0  \n",
       "min             NaN             0.0  \n",
       "25%             NaN             0.0  \n",
       "50%             NaN             0.0  \n",
       "75%             NaN             0.0  \n",
       "max             NaN             0.0  "
      ]
     },
     "execution_count": 15,
     "metadata": {},
     "output_type": "execute_result"
    }
   ],
   "source": [
    "data[data[\"Credit Score\"].isnull()][data[\"Credit Default\"]==0].describe()"
   ]
  },
  {
   "cell_type": "code",
   "execution_count": 16,
   "metadata": {},
   "outputs": [
    {
     "name": "stderr",
     "output_type": "stream",
     "text": [
      "C:\\ProgramData\\Anaconda3\\lib\\site-packages\\ipykernel_launcher.py:1: UserWarning: Boolean Series key will be reindexed to match DataFrame index.\n",
      "  \"\"\"Entry point for launching an IPython kernel.\n"
     ]
    },
    {
     "data": {
      "text/html": [
       "<div>\n",
       "<style scoped>\n",
       "    .dataframe tbody tr th:only-of-type {\n",
       "        vertical-align: middle;\n",
       "    }\n",
       "\n",
       "    .dataframe tbody tr th {\n",
       "        vertical-align: top;\n",
       "    }\n",
       "\n",
       "    .dataframe thead th {\n",
       "        text-align: right;\n",
       "    }\n",
       "</style>\n",
       "<table border=\"1\" class=\"dataframe\">\n",
       "  <thead>\n",
       "    <tr style=\"text-align: right;\">\n",
       "      <th></th>\n",
       "      <th>Annual Income</th>\n",
       "      <th>Tax Liens</th>\n",
       "      <th>Number of Open Accounts</th>\n",
       "      <th>Years of Credit History</th>\n",
       "      <th>Maximum Open Credit</th>\n",
       "      <th>Number of Credit Problems</th>\n",
       "      <th>Months since last delinquent</th>\n",
       "      <th>Bankruptcies</th>\n",
       "      <th>Current Loan Amount</th>\n",
       "      <th>Current Credit Balance</th>\n",
       "      <th>Monthly Debt</th>\n",
       "      <th>Credit Score</th>\n",
       "      <th>Credit Default</th>\n",
       "    </tr>\n",
       "  </thead>\n",
       "  <tbody>\n",
       "    <tr>\n",
       "      <th>count</th>\n",
       "      <td>0.0</td>\n",
       "      <td>529.000000</td>\n",
       "      <td>529.000000</td>\n",
       "      <td>529.000000</td>\n",
       "      <td>5.290000e+02</td>\n",
       "      <td>529.000000</td>\n",
       "      <td>250.000000</td>\n",
       "      <td>529.000000</td>\n",
       "      <td>529.000000</td>\n",
       "      <td>5.290000e+02</td>\n",
       "      <td>529.000000</td>\n",
       "      <td>0.0</td>\n",
       "      <td>529.0</td>\n",
       "    </tr>\n",
       "    <tr>\n",
       "      <th>mean</th>\n",
       "      <td>NaN</td>\n",
       "      <td>0.060491</td>\n",
       "      <td>11.381853</td>\n",
       "      <td>17.970699</td>\n",
       "      <td>5.965566e+05</td>\n",
       "      <td>0.224953</td>\n",
       "      <td>36.328000</td>\n",
       "      <td>0.132325</td>\n",
       "      <td>339163.519849</td>\n",
       "      <td>2.928782e+05</td>\n",
       "      <td>18995.637051</td>\n",
       "      <td>NaN</td>\n",
       "      <td>1.0</td>\n",
       "    </tr>\n",
       "    <tr>\n",
       "      <th>std</th>\n",
       "      <td>NaN</td>\n",
       "      <td>0.389406</td>\n",
       "      <td>4.841203</td>\n",
       "      <td>7.300884</td>\n",
       "      <td>6.086026e+05</td>\n",
       "      <td>0.621933</td>\n",
       "      <td>22.580966</td>\n",
       "      <td>0.350155</td>\n",
       "      <td>189445.398544</td>\n",
       "      <td>3.148293e+05</td>\n",
       "      <td>12239.110354</td>\n",
       "      <td>NaN</td>\n",
       "      <td>0.0</td>\n",
       "    </tr>\n",
       "    <tr>\n",
       "      <th>min</th>\n",
       "      <td>NaN</td>\n",
       "      <td>0.000000</td>\n",
       "      <td>2.000000</td>\n",
       "      <td>4.500000</td>\n",
       "      <td>0.000000e+00</td>\n",
       "      <td>0.000000</td>\n",
       "      <td>0.000000</td>\n",
       "      <td>0.000000</td>\n",
       "      <td>21912.000000</td>\n",
       "      <td>0.000000e+00</td>\n",
       "      <td>0.000000</td>\n",
       "      <td>NaN</td>\n",
       "      <td>1.0</td>\n",
       "    </tr>\n",
       "    <tr>\n",
       "      <th>25%</th>\n",
       "      <td>NaN</td>\n",
       "      <td>0.000000</td>\n",
       "      <td>8.000000</td>\n",
       "      <td>13.000000</td>\n",
       "      <td>2.542540e+05</td>\n",
       "      <td>0.000000</td>\n",
       "      <td>15.250000</td>\n",
       "      <td>0.000000</td>\n",
       "      <td>201498.000000</td>\n",
       "      <td>1.083000e+05</td>\n",
       "      <td>10858.000000</td>\n",
       "      <td>NaN</td>\n",
       "      <td>1.0</td>\n",
       "    </tr>\n",
       "    <tr>\n",
       "      <th>50%</th>\n",
       "      <td>NaN</td>\n",
       "      <td>0.000000</td>\n",
       "      <td>11.000000</td>\n",
       "      <td>16.900000</td>\n",
       "      <td>4.651900e+05</td>\n",
       "      <td>0.000000</td>\n",
       "      <td>34.500000</td>\n",
       "      <td>0.000000</td>\n",
       "      <td>312026.000000</td>\n",
       "      <td>2.164290e+05</td>\n",
       "      <td>16383.000000</td>\n",
       "      <td>NaN</td>\n",
       "      <td>1.0</td>\n",
       "    </tr>\n",
       "    <tr>\n",
       "      <th>75%</th>\n",
       "      <td>NaN</td>\n",
       "      <td>0.000000</td>\n",
       "      <td>14.000000</td>\n",
       "      <td>21.500000</td>\n",
       "      <td>7.265720e+05</td>\n",
       "      <td>0.000000</td>\n",
       "      <td>54.000000</td>\n",
       "      <td>0.000000</td>\n",
       "      <td>458854.000000</td>\n",
       "      <td>3.625010e+05</td>\n",
       "      <td>24262.000000</td>\n",
       "      <td>NaN</td>\n",
       "      <td>1.0</td>\n",
       "    </tr>\n",
       "    <tr>\n",
       "      <th>max</th>\n",
       "      <td>NaN</td>\n",
       "      <td>4.000000</td>\n",
       "      <td>30.000000</td>\n",
       "      <td>51.500000</td>\n",
       "      <td>6.619316e+06</td>\n",
       "      <td>5.000000</td>\n",
       "      <td>83.000000</td>\n",
       "      <td>2.000000</td>\n",
       "      <td>787644.000000</td>\n",
       "      <td>3.944514e+06</td>\n",
       "      <td>95508.000000</td>\n",
       "      <td>NaN</td>\n",
       "      <td>1.0</td>\n",
       "    </tr>\n",
       "  </tbody>\n",
       "</table>\n",
       "</div>"
      ],
      "text/plain": [
       "       Annual Income   Tax Liens  Number of Open Accounts  \\\n",
       "count            0.0  529.000000               529.000000   \n",
       "mean             NaN    0.060491                11.381853   \n",
       "std              NaN    0.389406                 4.841203   \n",
       "min              NaN    0.000000                 2.000000   \n",
       "25%              NaN    0.000000                 8.000000   \n",
       "50%              NaN    0.000000                11.000000   \n",
       "75%              NaN    0.000000                14.000000   \n",
       "max              NaN    4.000000                30.000000   \n",
       "\n",
       "       Years of Credit History  Maximum Open Credit  \\\n",
       "count               529.000000         5.290000e+02   \n",
       "mean                 17.970699         5.965566e+05   \n",
       "std                   7.300884         6.086026e+05   \n",
       "min                   4.500000         0.000000e+00   \n",
       "25%                  13.000000         2.542540e+05   \n",
       "50%                  16.900000         4.651900e+05   \n",
       "75%                  21.500000         7.265720e+05   \n",
       "max                  51.500000         6.619316e+06   \n",
       "\n",
       "       Number of Credit Problems  Months since last delinquent  Bankruptcies  \\\n",
       "count                 529.000000                    250.000000    529.000000   \n",
       "mean                    0.224953                     36.328000      0.132325   \n",
       "std                     0.621933                     22.580966      0.350155   \n",
       "min                     0.000000                      0.000000      0.000000   \n",
       "25%                     0.000000                     15.250000      0.000000   \n",
       "50%                     0.000000                     34.500000      0.000000   \n",
       "75%                     0.000000                     54.000000      0.000000   \n",
       "max                     5.000000                     83.000000      2.000000   \n",
       "\n",
       "       Current Loan Amount  Current Credit Balance  Monthly Debt  \\\n",
       "count           529.000000            5.290000e+02    529.000000   \n",
       "mean         339163.519849            2.928782e+05  18995.637051   \n",
       "std          189445.398544            3.148293e+05  12239.110354   \n",
       "min           21912.000000            0.000000e+00      0.000000   \n",
       "25%          201498.000000            1.083000e+05  10858.000000   \n",
       "50%          312026.000000            2.164290e+05  16383.000000   \n",
       "75%          458854.000000            3.625010e+05  24262.000000   \n",
       "max          787644.000000            3.944514e+06  95508.000000   \n",
       "\n",
       "       Credit Score  Credit Default  \n",
       "count           0.0           529.0  \n",
       "mean            NaN             1.0  \n",
       "std             NaN             0.0  \n",
       "min             NaN             1.0  \n",
       "25%             NaN             1.0  \n",
       "50%             NaN             1.0  \n",
       "75%             NaN             1.0  \n",
       "max             NaN             1.0  "
      ]
     },
     "execution_count": 16,
     "metadata": {},
     "output_type": "execute_result"
    }
   ],
   "source": [
    "data[data[\"Credit Score\"].isnull()][data[\"Credit Default\"]==1].describe()"
   ]
  },
  {
   "cell_type": "code",
   "execution_count": 17,
   "metadata": {},
   "outputs": [
    {
     "name": "stderr",
     "output_type": "stream",
     "text": [
      "C:\\ProgramData\\Anaconda3\\lib\\site-packages\\ipykernel_launcher.py:1: UserWarning: Boolean Series key will be reindexed to match DataFrame index.\n",
      "  \"\"\"Entry point for launching an IPython kernel.\n"
     ]
    },
    {
     "data": {
      "text/html": [
       "<div>\n",
       "<style scoped>\n",
       "    .dataframe tbody tr th:only-of-type {\n",
       "        vertical-align: middle;\n",
       "    }\n",
       "\n",
       "    .dataframe tbody tr th {\n",
       "        vertical-align: top;\n",
       "    }\n",
       "\n",
       "    .dataframe thead th {\n",
       "        text-align: right;\n",
       "    }\n",
       "</style>\n",
       "<table border=\"1\" class=\"dataframe\">\n",
       "  <thead>\n",
       "    <tr style=\"text-align: right;\">\n",
       "      <th></th>\n",
       "      <th>Home Ownership</th>\n",
       "      <th>Annual Income</th>\n",
       "      <th>Years in current job</th>\n",
       "      <th>Tax Liens</th>\n",
       "      <th>Number of Open Accounts</th>\n",
       "      <th>Years of Credit History</th>\n",
       "      <th>Maximum Open Credit</th>\n",
       "      <th>Number of Credit Problems</th>\n",
       "      <th>Months since last delinquent</th>\n",
       "      <th>Bankruptcies</th>\n",
       "      <th>Purpose</th>\n",
       "      <th>Term</th>\n",
       "      <th>Current Loan Amount</th>\n",
       "      <th>Current Credit Balance</th>\n",
       "      <th>Monthly Debt</th>\n",
       "      <th>Credit Score</th>\n",
       "      <th>Credit Default</th>\n",
       "    </tr>\n",
       "  </thead>\n",
       "  <tbody>\n",
       "    <tr>\n",
       "      <th>617</th>\n",
       "      <td>Home Mortgage</td>\n",
       "      <td>NaN</td>\n",
       "      <td>3 years</td>\n",
       "      <td>0.0</td>\n",
       "      <td>13.0</td>\n",
       "      <td>27.5</td>\n",
       "      <td>1.304726e+09</td>\n",
       "      <td>0.0</td>\n",
       "      <td>NaN</td>\n",
       "      <td>0.0</td>\n",
       "      <td>debt consolidation</td>\n",
       "      <td>Short Term</td>\n",
       "      <td>529892.0</td>\n",
       "      <td>1126814.0</td>\n",
       "      <td>5492.0</td>\n",
       "      <td>NaN</td>\n",
       "      <td>0</td>\n",
       "    </tr>\n",
       "    <tr>\n",
       "      <th>1476</th>\n",
       "      <td>Own Home</td>\n",
       "      <td>NaN</td>\n",
       "      <td>8 years</td>\n",
       "      <td>0.0</td>\n",
       "      <td>14.0</td>\n",
       "      <td>28.9</td>\n",
       "      <td>1.042866e+07</td>\n",
       "      <td>0.0</td>\n",
       "      <td>NaN</td>\n",
       "      <td>0.0</td>\n",
       "      <td>debt consolidation</td>\n",
       "      <td>Short Term</td>\n",
       "      <td>656766.0</td>\n",
       "      <td>1089802.0</td>\n",
       "      <td>16531.0</td>\n",
       "      <td>NaN</td>\n",
       "      <td>0</td>\n",
       "    </tr>\n",
       "    <tr>\n",
       "      <th>6265</th>\n",
       "      <td>Home Mortgage</td>\n",
       "      <td>NaN</td>\n",
       "      <td>10+ years</td>\n",
       "      <td>0.0</td>\n",
       "      <td>13.0</td>\n",
       "      <td>22.8</td>\n",
       "      <td>9.167356e+06</td>\n",
       "      <td>0.0</td>\n",
       "      <td>41.0</td>\n",
       "      <td>0.0</td>\n",
       "      <td>home improvements</td>\n",
       "      <td>Short Term</td>\n",
       "      <td>769384.0</td>\n",
       "      <td>2240594.0</td>\n",
       "      <td>69413.0</td>\n",
       "      <td>NaN</td>\n",
       "      <td>0</td>\n",
       "    </tr>\n",
       "  </tbody>\n",
       "</table>\n",
       "</div>"
      ],
      "text/plain": [
       "     Home Ownership  Annual Income Years in current job  Tax Liens  \\\n",
       "617   Home Mortgage            NaN              3 years        0.0   \n",
       "1476       Own Home            NaN              8 years        0.0   \n",
       "6265  Home Mortgage            NaN            10+ years        0.0   \n",
       "\n",
       "      Number of Open Accounts  Years of Credit History  Maximum Open Credit  \\\n",
       "617                      13.0                     27.5         1.304726e+09   \n",
       "1476                     14.0                     28.9         1.042866e+07   \n",
       "6265                     13.0                     22.8         9.167356e+06   \n",
       "\n",
       "      Number of Credit Problems  Months since last delinquent  Bankruptcies  \\\n",
       "617                         0.0                           NaN           0.0   \n",
       "1476                        0.0                           NaN           0.0   \n",
       "6265                        0.0                          41.0           0.0   \n",
       "\n",
       "                 Purpose        Term  Current Loan Amount  \\\n",
       "617   debt consolidation  Short Term             529892.0   \n",
       "1476  debt consolidation  Short Term             656766.0   \n",
       "6265   home improvements  Short Term             769384.0   \n",
       "\n",
       "      Current Credit Balance  Monthly Debt  Credit Score  Credit Default  \n",
       "617                1126814.0        5492.0           NaN               0  \n",
       "1476               1089802.0       16531.0           NaN               0  \n",
       "6265               2240594.0       69413.0           NaN               0  "
      ]
     },
     "execution_count": 17,
     "metadata": {},
     "output_type": "execute_result"
    }
   ],
   "source": [
    "data[data[\"Maximum Open Credit\"]>6600000][data[\"Credit Score\"].isnull()][data[\"Credit Default\"]==0]\n"
   ]
  },
  {
   "cell_type": "code",
   "execution_count": 18,
   "metadata": {},
   "outputs": [
    {
     "name": "stderr",
     "output_type": "stream",
     "text": [
      "C:\\ProgramData\\Anaconda3\\lib\\site-packages\\ipykernel_launcher.py:1: UserWarning: Boolean Series key will be reindexed to match DataFrame index.\n",
      "  \"\"\"Entry point for launching an IPython kernel.\n"
     ]
    },
    {
     "data": {
      "text/html": [
       "<div>\n",
       "<style scoped>\n",
       "    .dataframe tbody tr th:only-of-type {\n",
       "        vertical-align: middle;\n",
       "    }\n",
       "\n",
       "    .dataframe tbody tr th {\n",
       "        vertical-align: top;\n",
       "    }\n",
       "\n",
       "    .dataframe thead th {\n",
       "        text-align: right;\n",
       "    }\n",
       "</style>\n",
       "<table border=\"1\" class=\"dataframe\">\n",
       "  <thead>\n",
       "    <tr style=\"text-align: right;\">\n",
       "      <th></th>\n",
       "      <th>Home Ownership</th>\n",
       "      <th>Annual Income</th>\n",
       "      <th>Years in current job</th>\n",
       "      <th>Tax Liens</th>\n",
       "      <th>Number of Open Accounts</th>\n",
       "      <th>Years of Credit History</th>\n",
       "      <th>Maximum Open Credit</th>\n",
       "      <th>Number of Credit Problems</th>\n",
       "      <th>Months since last delinquent</th>\n",
       "      <th>Bankruptcies</th>\n",
       "      <th>Purpose</th>\n",
       "      <th>Term</th>\n",
       "      <th>Current Loan Amount</th>\n",
       "      <th>Current Credit Balance</th>\n",
       "      <th>Monthly Debt</th>\n",
       "      <th>Credit Score</th>\n",
       "      <th>Credit Default</th>\n",
       "    </tr>\n",
       "  </thead>\n",
       "  <tbody>\n",
       "    <tr>\n",
       "      <th>3316</th>\n",
       "      <td>Home Mortgage</td>\n",
       "      <td>NaN</td>\n",
       "      <td>9 years</td>\n",
       "      <td>0.0</td>\n",
       "      <td>17.0</td>\n",
       "      <td>28.4</td>\n",
       "      <td>6619316.0</td>\n",
       "      <td>0.0</td>\n",
       "      <td>NaN</td>\n",
       "      <td>0.0</td>\n",
       "      <td>debt consolidation</td>\n",
       "      <td>Long Term</td>\n",
       "      <td>522874.0</td>\n",
       "      <td>3944514.0</td>\n",
       "      <td>65905.0</td>\n",
       "      <td>NaN</td>\n",
       "      <td>1</td>\n",
       "    </tr>\n",
       "  </tbody>\n",
       "</table>\n",
       "</div>"
      ],
      "text/plain": [
       "     Home Ownership  Annual Income Years in current job  Tax Liens  \\\n",
       "3316  Home Mortgage            NaN              9 years        0.0   \n",
       "\n",
       "      Number of Open Accounts  Years of Credit History  Maximum Open Credit  \\\n",
       "3316                     17.0                     28.4            6619316.0   \n",
       "\n",
       "      Number of Credit Problems  Months since last delinquent  Bankruptcies  \\\n",
       "3316                        0.0                           NaN           0.0   \n",
       "\n",
       "                 Purpose       Term  Current Loan Amount  \\\n",
       "3316  debt consolidation  Long Term             522874.0   \n",
       "\n",
       "      Current Credit Balance  Monthly Debt  Credit Score  Credit Default  \n",
       "3316               3944514.0       65905.0           NaN               1  "
      ]
     },
     "execution_count": 18,
     "metadata": {},
     "output_type": "execute_result"
    }
   ],
   "source": [
    "data[data[\"Maximum Open Credit\"]>6600000][data[\"Credit Score\"].isnull()][data[\"Credit Default\"]==1]"
   ]
  },
  {
   "cell_type": "code",
   "execution_count": 19,
   "metadata": {},
   "outputs": [
    {
     "name": "stderr",
     "output_type": "stream",
     "text": [
      "C:\\ProgramData\\Anaconda3\\lib\\site-packages\\ipykernel_launcher.py:1: UserWarning: Boolean Series key will be reindexed to match DataFrame index.\n",
      "  \"\"\"Entry point for launching an IPython kernel.\n"
     ]
    },
    {
     "data": {
      "text/html": [
       "<div>\n",
       "<style scoped>\n",
       "    .dataframe tbody tr th:only-of-type {\n",
       "        vertical-align: middle;\n",
       "    }\n",
       "\n",
       "    .dataframe tbody tr th {\n",
       "        vertical-align: top;\n",
       "    }\n",
       "\n",
       "    .dataframe thead th {\n",
       "        text-align: right;\n",
       "    }\n",
       "</style>\n",
       "<table border=\"1\" class=\"dataframe\">\n",
       "  <thead>\n",
       "    <tr style=\"text-align: right;\">\n",
       "      <th></th>\n",
       "      <th>Home Ownership</th>\n",
       "      <th>Annual Income</th>\n",
       "      <th>Years in current job</th>\n",
       "      <th>Tax Liens</th>\n",
       "      <th>Number of Open Accounts</th>\n",
       "      <th>Years of Credit History</th>\n",
       "      <th>Maximum Open Credit</th>\n",
       "      <th>Number of Credit Problems</th>\n",
       "      <th>Months since last delinquent</th>\n",
       "      <th>Bankruptcies</th>\n",
       "      <th>Purpose</th>\n",
       "      <th>Term</th>\n",
       "      <th>Current Loan Amount</th>\n",
       "      <th>Current Credit Balance</th>\n",
       "      <th>Monthly Debt</th>\n",
       "      <th>Credit Score</th>\n",
       "    </tr>\n",
       "  </thead>\n",
       "  <tbody>\n",
       "    <tr>\n",
       "      <th>2152</th>\n",
       "      <td>Home Mortgage</td>\n",
       "      <td>NaN</td>\n",
       "      <td>10+ years</td>\n",
       "      <td>0.0</td>\n",
       "      <td>16.0</td>\n",
       "      <td>32.3</td>\n",
       "      <td>20842404.0</td>\n",
       "      <td>0.0</td>\n",
       "      <td>NaN</td>\n",
       "      <td>0.0</td>\n",
       "      <td>debt consolidation</td>\n",
       "      <td>Short Term</td>\n",
       "      <td>612502.0</td>\n",
       "      <td>6030087.0</td>\n",
       "      <td>75206.0</td>\n",
       "      <td>NaN</td>\n",
       "    </tr>\n",
       "  </tbody>\n",
       "</table>\n",
       "</div>"
      ],
      "text/plain": [
       "     Home Ownership  Annual Income Years in current job  Tax Liens  \\\n",
       "2152  Home Mortgage            NaN            10+ years        0.0   \n",
       "\n",
       "      Number of Open Accounts  Years of Credit History  Maximum Open Credit  \\\n",
       "2152                     16.0                     32.3           20842404.0   \n",
       "\n",
       "      Number of Credit Problems  Months since last delinquent  Bankruptcies  \\\n",
       "2152                        0.0                           NaN           0.0   \n",
       "\n",
       "                 Purpose        Term  Current Loan Amount  \\\n",
       "2152  debt consolidation  Short Term             612502.0   \n",
       "\n",
       "      Current Credit Balance  Monthly Debt  Credit Score  \n",
       "2152               6030087.0       75206.0           NaN  "
      ]
     },
     "execution_count": 19,
     "metadata": {},
     "output_type": "execute_result"
    }
   ],
   "source": [
    "data_test[data_test[\"Maximum Open Credit\"]>6600000][data_test[\"Credit Score\"].isnull()]"
   ]
  },
  {
   "cell_type": "code",
   "execution_count": 20,
   "metadata": {},
   "outputs": [
    {
     "data": {
      "text/html": [
       "<div>\n",
       "<style scoped>\n",
       "    .dataframe tbody tr th:only-of-type {\n",
       "        vertical-align: middle;\n",
       "    }\n",
       "\n",
       "    .dataframe tbody tr th {\n",
       "        vertical-align: top;\n",
       "    }\n",
       "\n",
       "    .dataframe thead th {\n",
       "        text-align: right;\n",
       "    }\n",
       "</style>\n",
       "<table border=\"1\" class=\"dataframe\">\n",
       "  <thead>\n",
       "    <tr style=\"text-align: right;\">\n",
       "      <th></th>\n",
       "      <th>Annual Income</th>\n",
       "      <th>Tax Liens</th>\n",
       "      <th>Number of Open Accounts</th>\n",
       "      <th>Years of Credit History</th>\n",
       "      <th>Maximum Open Credit</th>\n",
       "      <th>Number of Credit Problems</th>\n",
       "      <th>Months since last delinquent</th>\n",
       "      <th>Bankruptcies</th>\n",
       "      <th>Current Loan Amount</th>\n",
       "      <th>Current Credit Balance</th>\n",
       "      <th>Monthly Debt</th>\n",
       "      <th>Credit Score</th>\n",
       "      <th>Credit Default</th>\n",
       "    </tr>\n",
       "  </thead>\n",
       "  <tbody>\n",
       "    <tr>\n",
       "      <th>count</th>\n",
       "      <td>3.000000e+00</td>\n",
       "      <td>6.0</td>\n",
       "      <td>6.000000</td>\n",
       "      <td>6.000000</td>\n",
       "      <td>6.0</td>\n",
       "      <td>6.0</td>\n",
       "      <td>4.000000</td>\n",
       "      <td>5.0</td>\n",
       "      <td>6.000000e+00</td>\n",
       "      <td>6.0</td>\n",
       "      <td>6.0</td>\n",
       "      <td>3.000000</td>\n",
       "      <td>6.000000</td>\n",
       "    </tr>\n",
       "    <tr>\n",
       "      <th>mean</th>\n",
       "      <td>7.852763e+05</td>\n",
       "      <td>0.0</td>\n",
       "      <td>4.166667</td>\n",
       "      <td>15.183333</td>\n",
       "      <td>0.0</td>\n",
       "      <td>0.0</td>\n",
       "      <td>44.000000</td>\n",
       "      <td>0.0</td>\n",
       "      <td>1.680515e+07</td>\n",
       "      <td>0.0</td>\n",
       "      <td>0.0</td>\n",
       "      <td>732.666667</td>\n",
       "      <td>0.166667</td>\n",
       "    </tr>\n",
       "    <tr>\n",
       "      <th>std</th>\n",
       "      <td>5.154454e+05</td>\n",
       "      <td>0.0</td>\n",
       "      <td>1.940790</td>\n",
       "      <td>5.229691</td>\n",
       "      <td>0.0</td>\n",
       "      <td>0.0</td>\n",
       "      <td>30.066593</td>\n",
       "      <td>0.0</td>\n",
       "      <td>4.075710e+07</td>\n",
       "      <td>0.0</td>\n",
       "      <td>0.0</td>\n",
       "      <td>24.846194</td>\n",
       "      <td>0.408248</td>\n",
       "    </tr>\n",
       "    <tr>\n",
       "      <th>min</th>\n",
       "      <td>2.335670e+05</td>\n",
       "      <td>0.0</td>\n",
       "      <td>2.000000</td>\n",
       "      <td>10.000000</td>\n",
       "      <td>0.0</td>\n",
       "      <td>0.0</td>\n",
       "      <td>0.000000</td>\n",
       "      <td>0.0</td>\n",
       "      <td>7.535000e+04</td>\n",
       "      <td>0.0</td>\n",
       "      <td>0.0</td>\n",
       "      <td>704.000000</td>\n",
       "      <td>0.000000</td>\n",
       "    </tr>\n",
       "    <tr>\n",
       "      <th>25%</th>\n",
       "      <td>5.506580e+05</td>\n",
       "      <td>0.0</td>\n",
       "      <td>3.000000</td>\n",
       "      <td>11.175000</td>\n",
       "      <td>0.0</td>\n",
       "      <td>0.0</td>\n",
       "      <td>37.500000</td>\n",
       "      <td>0.0</td>\n",
       "      <td>9.290600e+04</td>\n",
       "      <td>0.0</td>\n",
       "      <td>0.0</td>\n",
       "      <td>725.000000</td>\n",
       "      <td>0.000000</td>\n",
       "    </tr>\n",
       "    <tr>\n",
       "      <th>50%</th>\n",
       "      <td>8.677490e+05</td>\n",
       "      <td>0.0</td>\n",
       "      <td>3.500000</td>\n",
       "      <td>14.100000</td>\n",
       "      <td>0.0</td>\n",
       "      <td>0.0</td>\n",
       "      <td>55.000000</td>\n",
       "      <td>0.0</td>\n",
       "      <td>1.720950e+05</td>\n",
       "      <td>0.0</td>\n",
       "      <td>0.0</td>\n",
       "      <td>746.000000</td>\n",
       "      <td>0.000000</td>\n",
       "    </tr>\n",
       "    <tr>\n",
       "      <th>75%</th>\n",
       "      <td>1.061131e+06</td>\n",
       "      <td>0.0</td>\n",
       "      <td>5.500000</td>\n",
       "      <td>18.000000</td>\n",
       "      <td>0.0</td>\n",
       "      <td>0.0</td>\n",
       "      <td>61.500000</td>\n",
       "      <td>0.0</td>\n",
       "      <td>3.016585e+05</td>\n",
       "      <td>0.0</td>\n",
       "      <td>0.0</td>\n",
       "      <td>747.000000</td>\n",
       "      <td>0.000000</td>\n",
       "    </tr>\n",
       "    <tr>\n",
       "      <th>max</th>\n",
       "      <td>1.254513e+06</td>\n",
       "      <td>0.0</td>\n",
       "      <td>7.000000</td>\n",
       "      <td>23.400000</td>\n",
       "      <td>0.0</td>\n",
       "      <td>0.0</td>\n",
       "      <td>66.000000</td>\n",
       "      <td>0.0</td>\n",
       "      <td>1.000000e+08</td>\n",
       "      <td>0.0</td>\n",
       "      <td>0.0</td>\n",
       "      <td>748.000000</td>\n",
       "      <td>1.000000</td>\n",
       "    </tr>\n",
       "  </tbody>\n",
       "</table>\n",
       "</div>"
      ],
      "text/plain": [
       "       Annual Income  Tax Liens  Number of Open Accounts  \\\n",
       "count   3.000000e+00        6.0                 6.000000   \n",
       "mean    7.852763e+05        0.0                 4.166667   \n",
       "std     5.154454e+05        0.0                 1.940790   \n",
       "min     2.335670e+05        0.0                 2.000000   \n",
       "25%     5.506580e+05        0.0                 3.000000   \n",
       "50%     8.677490e+05        0.0                 3.500000   \n",
       "75%     1.061131e+06        0.0                 5.500000   \n",
       "max     1.254513e+06        0.0                 7.000000   \n",
       "\n",
       "       Years of Credit History  Maximum Open Credit  \\\n",
       "count                 6.000000                  6.0   \n",
       "mean                 15.183333                  0.0   \n",
       "std                   5.229691                  0.0   \n",
       "min                  10.000000                  0.0   \n",
       "25%                  11.175000                  0.0   \n",
       "50%                  14.100000                  0.0   \n",
       "75%                  18.000000                  0.0   \n",
       "max                  23.400000                  0.0   \n",
       "\n",
       "       Number of Credit Problems  Months since last delinquent  Bankruptcies  \\\n",
       "count                        6.0                      4.000000           5.0   \n",
       "mean                         0.0                     44.000000           0.0   \n",
       "std                          0.0                     30.066593           0.0   \n",
       "min                          0.0                      0.000000           0.0   \n",
       "25%                          0.0                     37.500000           0.0   \n",
       "50%                          0.0                     55.000000           0.0   \n",
       "75%                          0.0                     61.500000           0.0   \n",
       "max                          0.0                     66.000000           0.0   \n",
       "\n",
       "       Current Loan Amount  Current Credit Balance  Monthly Debt  \\\n",
       "count         6.000000e+00                     6.0           6.0   \n",
       "mean          1.680515e+07                     0.0           0.0   \n",
       "std           4.075710e+07                     0.0           0.0   \n",
       "min           7.535000e+04                     0.0           0.0   \n",
       "25%           9.290600e+04                     0.0           0.0   \n",
       "50%           1.720950e+05                     0.0           0.0   \n",
       "75%           3.016585e+05                     0.0           0.0   \n",
       "max           1.000000e+08                     0.0           0.0   \n",
       "\n",
       "       Credit Score  Credit Default  \n",
       "count      3.000000        6.000000  \n",
       "mean     732.666667        0.166667  \n",
       "std       24.846194        0.408248  \n",
       "min      704.000000        0.000000  \n",
       "25%      725.000000        0.000000  \n",
       "50%      746.000000        0.000000  \n",
       "75%      747.000000        0.000000  \n",
       "max      748.000000        1.000000  "
      ]
     },
     "execution_count": 20,
     "metadata": {},
     "output_type": "execute_result"
    }
   ],
   "source": [
    "data[data[\"Monthly Debt\"]==0].describe()"
   ]
  },
  {
   "cell_type": "code",
   "execution_count": 21,
   "metadata": {},
   "outputs": [
    {
     "data": {
      "text/html": [
       "<div>\n",
       "<style scoped>\n",
       "    .dataframe tbody tr th:only-of-type {\n",
       "        vertical-align: middle;\n",
       "    }\n",
       "\n",
       "    .dataframe tbody tr th {\n",
       "        vertical-align: top;\n",
       "    }\n",
       "\n",
       "    .dataframe thead th {\n",
       "        text-align: right;\n",
       "    }\n",
       "</style>\n",
       "<table border=\"1\" class=\"dataframe\">\n",
       "  <thead>\n",
       "    <tr style=\"text-align: right;\">\n",
       "      <th></th>\n",
       "      <th>Annual Income</th>\n",
       "      <th>Tax Liens</th>\n",
       "      <th>Number of Open Accounts</th>\n",
       "      <th>Years of Credit History</th>\n",
       "      <th>Maximum Open Credit</th>\n",
       "      <th>Number of Credit Problems</th>\n",
       "      <th>Months since last delinquent</th>\n",
       "      <th>Bankruptcies</th>\n",
       "      <th>Current Loan Amount</th>\n",
       "      <th>Current Credit Balance</th>\n",
       "      <th>Monthly Debt</th>\n",
       "      <th>Credit Score</th>\n",
       "    </tr>\n",
       "  </thead>\n",
       "  <tbody>\n",
       "    <tr>\n",
       "      <th>count</th>\n",
       "      <td>1.987000e+03</td>\n",
       "      <td>2500.000000</td>\n",
       "      <td>2500.000000</td>\n",
       "      <td>2500.000000</td>\n",
       "      <td>2.500000e+03</td>\n",
       "      <td>2500.000000</td>\n",
       "      <td>1142.000000</td>\n",
       "      <td>2497.000000</td>\n",
       "      <td>2.500000e+03</td>\n",
       "      <td>2.500000e+03</td>\n",
       "      <td>2500.000000</td>\n",
       "      <td>1987.000000</td>\n",
       "    </tr>\n",
       "    <tr>\n",
       "      <th>mean</th>\n",
       "      <td>1.366922e+06</td>\n",
       "      <td>0.035200</td>\n",
       "      <td>11.184400</td>\n",
       "      <td>18.325920</td>\n",
       "      <td>7.105704e+05</td>\n",
       "      <td>0.162000</td>\n",
       "      <td>34.181261</td>\n",
       "      <td>0.106928</td>\n",
       "      <td>1.215572e+07</td>\n",
       "      <td>2.963966e+05</td>\n",
       "      <td>18271.340000</td>\n",
       "      <td>1234.516860</td>\n",
       "    </tr>\n",
       "    <tr>\n",
       "      <th>std</th>\n",
       "      <td>9.171252e+05</td>\n",
       "      <td>0.386291</td>\n",
       "      <td>4.852774</td>\n",
       "      <td>7.254659</td>\n",
       "      <td>1.511983e+06</td>\n",
       "      <td>0.559894</td>\n",
       "      <td>22.024277</td>\n",
       "      <td>0.357189</td>\n",
       "      <td>3.226097e+07</td>\n",
       "      <td>3.783020e+05</td>\n",
       "      <td>11543.881469</td>\n",
       "      <td>1740.219442</td>\n",
       "    </tr>\n",
       "    <tr>\n",
       "      <th>min</th>\n",
       "      <td>1.065330e+05</td>\n",
       "      <td>0.000000</td>\n",
       "      <td>1.000000</td>\n",
       "      <td>3.900000</td>\n",
       "      <td>0.000000e+00</td>\n",
       "      <td>0.000000</td>\n",
       "      <td>0.000000</td>\n",
       "      <td>0.000000</td>\n",
       "      <td>1.542200e+04</td>\n",
       "      <td>0.000000e+00</td>\n",
       "      <td>93.000000</td>\n",
       "      <td>585.000000</td>\n",
       "    </tr>\n",
       "    <tr>\n",
       "      <th>25%</th>\n",
       "      <td>8.523115e+05</td>\n",
       "      <td>0.000000</td>\n",
       "      <td>8.000000</td>\n",
       "      <td>13.400000</td>\n",
       "      <td>2.785860e+05</td>\n",
       "      <td>0.000000</td>\n",
       "      <td>16.000000</td>\n",
       "      <td>0.000000</td>\n",
       "      <td>1.871265e+05</td>\n",
       "      <td>1.101145e+05</td>\n",
       "      <td>10024.750000</td>\n",
       "      <td>710.000000</td>\n",
       "    </tr>\n",
       "    <tr>\n",
       "      <th>50%</th>\n",
       "      <td>1.178475e+06</td>\n",
       "      <td>0.000000</td>\n",
       "      <td>10.000000</td>\n",
       "      <td>17.000000</td>\n",
       "      <td>4.786760e+05</td>\n",
       "      <td>0.000000</td>\n",
       "      <td>30.000000</td>\n",
       "      <td>0.000000</td>\n",
       "      <td>3.223660e+05</td>\n",
       "      <td>2.073850e+05</td>\n",
       "      <td>16642.500000</td>\n",
       "      <td>731.000000</td>\n",
       "    </tr>\n",
       "    <tr>\n",
       "      <th>75%</th>\n",
       "      <td>1.629734e+06</td>\n",
       "      <td>0.000000</td>\n",
       "      <td>14.000000</td>\n",
       "      <td>22.100000</td>\n",
       "      <td>8.025985e+05</td>\n",
       "      <td>0.000000</td>\n",
       "      <td>50.000000</td>\n",
       "      <td>0.000000</td>\n",
       "      <td>5.225825e+05</td>\n",
       "      <td>3.663485e+05</td>\n",
       "      <td>24146.000000</td>\n",
       "      <td>743.000000</td>\n",
       "    </tr>\n",
       "    <tr>\n",
       "      <th>max</th>\n",
       "      <td>1.497561e+07</td>\n",
       "      <td>15.000000</td>\n",
       "      <td>48.000000</td>\n",
       "      <td>53.400000</td>\n",
       "      <td>5.448439e+07</td>\n",
       "      <td>15.000000</td>\n",
       "      <td>82.000000</td>\n",
       "      <td>5.000000</td>\n",
       "      <td>1.000000e+08</td>\n",
       "      <td>6.030087e+06</td>\n",
       "      <td>93555.000000</td>\n",
       "      <td>7480.000000</td>\n",
       "    </tr>\n",
       "  </tbody>\n",
       "</table>\n",
       "</div>"
      ],
      "text/plain": [
       "       Annual Income    Tax Liens  Number of Open Accounts  \\\n",
       "count   1.987000e+03  2500.000000              2500.000000   \n",
       "mean    1.366922e+06     0.035200                11.184400   \n",
       "std     9.171252e+05     0.386291                 4.852774   \n",
       "min     1.065330e+05     0.000000                 1.000000   \n",
       "25%     8.523115e+05     0.000000                 8.000000   \n",
       "50%     1.178475e+06     0.000000                10.000000   \n",
       "75%     1.629734e+06     0.000000                14.000000   \n",
       "max     1.497561e+07    15.000000                48.000000   \n",
       "\n",
       "       Years of Credit History  Maximum Open Credit  \\\n",
       "count              2500.000000         2.500000e+03   \n",
       "mean                 18.325920         7.105704e+05   \n",
       "std                   7.254659         1.511983e+06   \n",
       "min                   3.900000         0.000000e+00   \n",
       "25%                  13.400000         2.785860e+05   \n",
       "50%                  17.000000         4.786760e+05   \n",
       "75%                  22.100000         8.025985e+05   \n",
       "max                  53.400000         5.448439e+07   \n",
       "\n",
       "       Number of Credit Problems  Months since last delinquent  Bankruptcies  \\\n",
       "count                2500.000000                   1142.000000   2497.000000   \n",
       "mean                    0.162000                     34.181261      0.106928   \n",
       "std                     0.559894                     22.024277      0.357189   \n",
       "min                     0.000000                      0.000000      0.000000   \n",
       "25%                     0.000000                     16.000000      0.000000   \n",
       "50%                     0.000000                     30.000000      0.000000   \n",
       "75%                     0.000000                     50.000000      0.000000   \n",
       "max                    15.000000                     82.000000      5.000000   \n",
       "\n",
       "       Current Loan Amount  Current Credit Balance  Monthly Debt  Credit Score  \n",
       "count         2.500000e+03            2.500000e+03   2500.000000   1987.000000  \n",
       "mean          1.215572e+07            2.963966e+05  18271.340000   1234.516860  \n",
       "std           3.226097e+07            3.783020e+05  11543.881469   1740.219442  \n",
       "min           1.542200e+04            0.000000e+00     93.000000    585.000000  \n",
       "25%           1.871265e+05            1.101145e+05  10024.750000    710.000000  \n",
       "50%           3.223660e+05            2.073850e+05  16642.500000    731.000000  \n",
       "75%           5.225825e+05            3.663485e+05  24146.000000    743.000000  \n",
       "max           1.000000e+08            6.030087e+06  93555.000000   7480.000000  "
      ]
     },
     "execution_count": 21,
     "metadata": {},
     "output_type": "execute_result"
    }
   ],
   "source": [
    "data_test.describe()"
   ]
  },
  {
   "cell_type": "code",
   "execution_count": 22,
   "metadata": {},
   "outputs": [
    {
     "name": "stdout",
     "output_type": "stream",
     "text": [
      "<class 'pandas.core.frame.DataFrame'>\n",
      "RangeIndex: 7500 entries, 0 to 7499\n",
      "Data columns (total 17 columns):\n",
      " #   Column                        Non-Null Count  Dtype  \n",
      "---  ------                        --------------  -----  \n",
      " 0   Home Ownership                7500 non-null   object \n",
      " 1   Annual Income                 5943 non-null   float64\n",
      " 2   Years in current job          7129 non-null   object \n",
      " 3   Tax Liens                     7500 non-null   float64\n",
      " 4   Number of Open Accounts       7500 non-null   float64\n",
      " 5   Years of Credit History       7500 non-null   float64\n",
      " 6   Maximum Open Credit           7500 non-null   float64\n",
      " 7   Number of Credit Problems     7500 non-null   float64\n",
      " 8   Months since last delinquent  3419 non-null   float64\n",
      " 9   Bankruptcies                  7486 non-null   float64\n",
      " 10  Purpose                       7500 non-null   object \n",
      " 11  Term                          7500 non-null   object \n",
      " 12  Current Loan Amount           7500 non-null   float64\n",
      " 13  Current Credit Balance        7500 non-null   float64\n",
      " 14  Monthly Debt                  7500 non-null   float64\n",
      " 15  Credit Score                  5943 non-null   float64\n",
      " 16  Credit Default                7500 non-null   int64  \n",
      "dtypes: float64(12), int64(1), object(4)\n",
      "memory usage: 996.2+ KB\n"
     ]
    }
   ],
   "source": [
    "data.info()"
   ]
  },
  {
   "cell_type": "code",
   "execution_count": 23,
   "metadata": {},
   "outputs": [
    {
     "name": "stdout",
     "output_type": "stream",
     "text": [
      "<class 'pandas.core.frame.DataFrame'>\n",
      "RangeIndex: 2500 entries, 0 to 2499\n",
      "Data columns (total 16 columns):\n",
      " #   Column                        Non-Null Count  Dtype  \n",
      "---  ------                        --------------  -----  \n",
      " 0   Home Ownership                2500 non-null   object \n",
      " 1   Annual Income                 1987 non-null   float64\n",
      " 2   Years in current job          2414 non-null   object \n",
      " 3   Tax Liens                     2500 non-null   float64\n",
      " 4   Number of Open Accounts       2500 non-null   float64\n",
      " 5   Years of Credit History       2500 non-null   float64\n",
      " 6   Maximum Open Credit           2500 non-null   float64\n",
      " 7   Number of Credit Problems     2500 non-null   float64\n",
      " 8   Months since last delinquent  1142 non-null   float64\n",
      " 9   Bankruptcies                  2497 non-null   float64\n",
      " 10  Purpose                       2500 non-null   object \n",
      " 11  Term                          2500 non-null   object \n",
      " 12  Current Loan Amount           2500 non-null   float64\n",
      " 13  Current Credit Balance        2500 non-null   float64\n",
      " 14  Monthly Debt                  2500 non-null   float64\n",
      " 15  Credit Score                  1987 non-null   float64\n",
      "dtypes: float64(12), object(4)\n",
      "memory usage: 312.6+ KB\n"
     ]
    }
   ],
   "source": [
    "data_test.info()"
   ]
  },
  {
   "cell_type": "code",
   "execution_count": null,
   "metadata": {},
   "outputs": [],
   "source": []
  },
  {
   "cell_type": "code",
   "execution_count": 24,
   "metadata": {},
   "outputs": [],
   "source": [
    "c = data.corr(method=\"pearson\")\n",
    "# pd.options.display.max_columns = None\n",
    "# display(c)"
   ]
  },
  {
   "cell_type": "code",
   "execution_count": 25,
   "metadata": {},
   "outputs": [],
   "source": [
    "#X_test.corr(method=\"spearman\")"
   ]
  },
  {
   "cell_type": "code",
   "execution_count": 26,
   "metadata": {},
   "outputs": [],
   "source": [
    "#X.corr(method=\"pearson\")"
   ]
  },
  {
   "cell_type": "code",
   "execution_count": 27,
   "metadata": {},
   "outputs": [
    {
     "name": "stdout",
     "output_type": "stream",
     "text": [
      "Annual Income                   7.145984e+11\n",
      "Tax Liens                       7.376848e-02\n",
      "Number of Open Accounts         2.409754e+01\n",
      "Years of Credit History         4.958900e+01\n",
      "Maximum Open Credit             2.568396e+14\n",
      "Number of Credit Problems       2.485998e-01\n",
      "Months since last delinquent    4.704043e+02\n",
      "Bankruptcies                    1.205421e-01\n",
      "Current Loan Amount             1.019277e+15\n",
      "Current Credit Balance          1.010422e+11\n",
      "Monthly Debt                    1.422477e+08\n",
      "Credit Score                    2.574264e+06\n",
      "Credit Default                  2.023866e-01\n",
      "dtype: float64\n",
      "Annual Income                   8.411185e+11\n",
      "Tax Liens                       1.492206e-01\n",
      "Number of Open Accounts         2.354942e+01\n",
      "Years of Credit History         5.263008e+01\n",
      "Maximum Open Credit             2.286094e+12\n",
      "Number of Credit Problems       3.134814e-01\n",
      "Months since last delinquent    4.850688e+02\n",
      "Bankruptcies                    1.275842e-01\n",
      "Current Loan Amount             1.040770e+15\n",
      "Current Credit Balance          1.431124e+11\n",
      "Monthly Debt                    1.332612e+08\n",
      "Credit Score                    3.028364e+06\n",
      "dtype: float64\n"
     ]
    },
    {
     "data": {
      "text/plain": [
       "(None, None)"
      ]
     },
     "execution_count": 27,
     "metadata": {},
     "output_type": "execute_result"
    }
   ],
   "source": [
    "print(data.var()), print(data_test.var())"
   ]
  },
  {
   "cell_type": "code",
   "execution_count": 28,
   "metadata": {},
   "outputs": [
    {
     "data": {
      "text/html": [
       "<div>\n",
       "<style scoped>\n",
       "    .dataframe tbody tr th:only-of-type {\n",
       "        vertical-align: middle;\n",
       "    }\n",
       "\n",
       "    .dataframe tbody tr th {\n",
       "        vertical-align: top;\n",
       "    }\n",
       "\n",
       "    .dataframe thead th {\n",
       "        text-align: right;\n",
       "    }\n",
       "</style>\n",
       "<table border=\"1\" class=\"dataframe\">\n",
       "  <thead>\n",
       "    <tr style=\"text-align: right;\">\n",
       "      <th></th>\n",
       "      <th>Credit Default</th>\n",
       "      <th>Credit Score</th>\n",
       "      <th>Current Loan Amount</th>\n",
       "    </tr>\n",
       "  </thead>\n",
       "  <tbody>\n",
       "    <tr>\n",
       "      <th>Credit Default</th>\n",
       "      <td>1.000000</td>\n",
       "      <td>0.442050</td>\n",
       "      <td>-0.226522</td>\n",
       "    </tr>\n",
       "    <tr>\n",
       "      <th>Credit Score</th>\n",
       "      <td>0.442050</td>\n",
       "      <td>1.000000</td>\n",
       "      <td>-0.108552</td>\n",
       "    </tr>\n",
       "    <tr>\n",
       "      <th>Current Loan Amount</th>\n",
       "      <td>-0.226522</td>\n",
       "      <td>-0.108552</td>\n",
       "      <td>1.000000</td>\n",
       "    </tr>\n",
       "  </tbody>\n",
       "</table>\n",
       "</div>"
      ],
      "text/plain": [
       "                     Credit Default  Credit Score  Current Loan Amount\n",
       "Credit Default             1.000000      0.442050            -0.226522\n",
       "Credit Score               0.442050      1.000000            -0.108552\n",
       "Current Loan Amount       -0.226522     -0.108552             1.000000"
      ]
     },
     "execution_count": 28,
     "metadata": {},
     "output_type": "execute_result"
    }
   ],
   "source": [
    "data[[\"Credit Default\", \"Credit Score\", \"Current Loan Amount\"]].corr(method=\"pearson\")\n"
   ]
  },
  {
   "cell_type": "code",
   "execution_count": 29,
   "metadata": {},
   "outputs": [
    {
     "data": {
      "text/plain": [
       "False    5943\n",
       "True     1557\n",
       "Name: Credit Score, dtype: int64"
      ]
     },
     "execution_count": 29,
     "metadata": {},
     "output_type": "execute_result"
    }
   ],
   "source": [
    "data[\"Credit Score\"].isnull().value_counts()"
   ]
  },
  {
   "cell_type": "code",
   "execution_count": 30,
   "metadata": {},
   "outputs": [
    {
     "name": "stderr",
     "output_type": "stream",
     "text": [
      "C:\\ProgramData\\Anaconda3\\lib\\site-packages\\ipykernel_launcher.py:1: UserWarning: Boolean Series key will be reindexed to match DataFrame index.\n",
      "  \"\"\"Entry point for launching an IPython kernel.\n"
     ]
    },
    {
     "data": {
      "text/plain": [
       "Home Ownership                  529\n",
       "Annual Income                     0\n",
       "Years in current job            493\n",
       "Tax Liens                       529\n",
       "Number of Open Accounts         529\n",
       "Years of Credit History         529\n",
       "Maximum Open Credit             529\n",
       "Number of Credit Problems       529\n",
       "Months since last delinquent    250\n",
       "Bankruptcies                    529\n",
       "Purpose                         529\n",
       "Term                            529\n",
       "Current Loan Amount             529\n",
       "Current Credit Balance          529\n",
       "Monthly Debt                    529\n",
       "Credit Score                      0\n",
       "Credit Default                  529\n",
       "dtype: int64"
      ]
     },
     "execution_count": 30,
     "metadata": {},
     "output_type": "execute_result"
    }
   ],
   "source": [
    "data[data[\"Credit Score\"].isnull()][data[\"Credit Default\"]==1].count()"
   ]
  },
  {
   "cell_type": "code",
   "execution_count": null,
   "metadata": {},
   "outputs": [],
   "source": []
  },
  {
   "cell_type": "code",
   "execution_count": 31,
   "metadata": {},
   "outputs": [
    {
     "data": {
      "text/plain": [
       "Home Ownership                  1557\n",
       "Annual Income                      0\n",
       "Years in current job            1482\n",
       "Tax Liens                       1557\n",
       "Number of Open Accounts         1557\n",
       "Years of Credit History         1557\n",
       "Maximum Open Credit             1557\n",
       "Number of Credit Problems       1557\n",
       "Months since last delinquent     683\n",
       "Bankruptcies                    1555\n",
       "Purpose                         1557\n",
       "Term                            1557\n",
       "Current Loan Amount             1557\n",
       "Current Credit Balance          1557\n",
       "Monthly Debt                    1557\n",
       "Credit Score                       0\n",
       "Credit Default                  1557\n",
       "dtype: int64"
      ]
     },
     "execution_count": 31,
     "metadata": {},
     "output_type": "execute_result"
    }
   ],
   "source": [
    "data[data[\"Credit Score\"].isnull()].count()"
   ]
  },
  {
   "cell_type": "code",
   "execution_count": 32,
   "metadata": {},
   "outputs": [
    {
     "data": {
      "text/html": [
       "<div>\n",
       "<style scoped>\n",
       "    .dataframe tbody tr th:only-of-type {\n",
       "        vertical-align: middle;\n",
       "    }\n",
       "\n",
       "    .dataframe tbody tr th {\n",
       "        vertical-align: top;\n",
       "    }\n",
       "\n",
       "    .dataframe thead th {\n",
       "        text-align: right;\n",
       "    }\n",
       "</style>\n",
       "<table border=\"1\" class=\"dataframe\">\n",
       "  <thead>\n",
       "    <tr style=\"text-align: right;\">\n",
       "      <th></th>\n",
       "      <th>Credit Default</th>\n",
       "    </tr>\n",
       "    <tr>\n",
       "      <th>Purpose</th>\n",
       "      <th></th>\n",
       "    </tr>\n",
       "  </thead>\n",
       "  <tbody>\n",
       "    <tr>\n",
       "      <th>business loan</th>\n",
       "      <td>55</td>\n",
       "    </tr>\n",
       "    <tr>\n",
       "      <th>buy a car</th>\n",
       "      <td>24</td>\n",
       "    </tr>\n",
       "    <tr>\n",
       "      <th>buy house</th>\n",
       "      <td>9</td>\n",
       "    </tr>\n",
       "    <tr>\n",
       "      <th>debt consolidation</th>\n",
       "      <td>1654</td>\n",
       "    </tr>\n",
       "    <tr>\n",
       "      <th>educational expenses</th>\n",
       "      <td>1</td>\n",
       "    </tr>\n",
       "    <tr>\n",
       "      <th>home improvements</th>\n",
       "      <td>108</td>\n",
       "    </tr>\n",
       "    <tr>\n",
       "      <th>major purchase</th>\n",
       "      <td>9</td>\n",
       "    </tr>\n",
       "    <tr>\n",
       "      <th>medical bills</th>\n",
       "      <td>22</td>\n",
       "    </tr>\n",
       "    <tr>\n",
       "      <th>moving</th>\n",
       "      <td>2</td>\n",
       "    </tr>\n",
       "    <tr>\n",
       "      <th>other</th>\n",
       "      <td>197</td>\n",
       "    </tr>\n",
       "    <tr>\n",
       "      <th>renewable energy</th>\n",
       "      <td>2</td>\n",
       "    </tr>\n",
       "    <tr>\n",
       "      <th>small business</th>\n",
       "      <td>14</td>\n",
       "    </tr>\n",
       "    <tr>\n",
       "      <th>take a trip</th>\n",
       "      <td>10</td>\n",
       "    </tr>\n",
       "    <tr>\n",
       "      <th>vacation</th>\n",
       "      <td>2</td>\n",
       "    </tr>\n",
       "    <tr>\n",
       "      <th>wedding</th>\n",
       "      <td>4</td>\n",
       "    </tr>\n",
       "  </tbody>\n",
       "</table>\n",
       "</div>"
      ],
      "text/plain": [
       "                      Credit Default\n",
       "Purpose                             \n",
       "business loan                     55\n",
       "buy a car                         24\n",
       "buy house                          9\n",
       "debt consolidation              1654\n",
       "educational expenses               1\n",
       "home improvements                108\n",
       "major purchase                     9\n",
       "medical bills                     22\n",
       "moving                             2\n",
       "other                            197\n",
       "renewable energy                   2\n",
       "small business                    14\n",
       "take a trip                       10\n",
       "vacation                           2\n",
       "wedding                            4"
      ]
     },
     "execution_count": 32,
     "metadata": {},
     "output_type": "execute_result"
    }
   ],
   "source": [
    "data[['Purpose','Credit Default']].groupby(['Purpose']).sum()"
   ]
  },
  {
   "cell_type": "code",
   "execution_count": 33,
   "metadata": {},
   "outputs": [
    {
     "data": {
      "text/html": [
       "<div>\n",
       "<style scoped>\n",
       "    .dataframe tbody tr th:only-of-type {\n",
       "        vertical-align: middle;\n",
       "    }\n",
       "\n",
       "    .dataframe tbody tr th {\n",
       "        vertical-align: top;\n",
       "    }\n",
       "\n",
       "    .dataframe thead th {\n",
       "        text-align: right;\n",
       "    }\n",
       "</style>\n",
       "<table border=\"1\" class=\"dataframe\">\n",
       "  <thead>\n",
       "    <tr style=\"text-align: right;\">\n",
       "      <th></th>\n",
       "      <th>Credit Default</th>\n",
       "    </tr>\n",
       "    <tr>\n",
       "      <th>Number of Credit Problems</th>\n",
       "      <th></th>\n",
       "    </tr>\n",
       "  </thead>\n",
       "  <tbody>\n",
       "    <tr>\n",
       "      <th>0.0</th>\n",
       "      <td>6469</td>\n",
       "    </tr>\n",
       "    <tr>\n",
       "      <th>1.0</th>\n",
       "      <td>882</td>\n",
       "    </tr>\n",
       "    <tr>\n",
       "      <th>2.0</th>\n",
       "      <td>93</td>\n",
       "    </tr>\n",
       "    <tr>\n",
       "      <th>3.0</th>\n",
       "      <td>35</td>\n",
       "    </tr>\n",
       "    <tr>\n",
       "      <th>4.0</th>\n",
       "      <td>9</td>\n",
       "    </tr>\n",
       "    <tr>\n",
       "      <th>5.0</th>\n",
       "      <td>7</td>\n",
       "    </tr>\n",
       "    <tr>\n",
       "      <th>6.0</th>\n",
       "      <td>4</td>\n",
       "    </tr>\n",
       "    <tr>\n",
       "      <th>7.0</th>\n",
       "      <td>1</td>\n",
       "    </tr>\n",
       "  </tbody>\n",
       "</table>\n",
       "</div>"
      ],
      "text/plain": [
       "                           Credit Default\n",
       "Number of Credit Problems                \n",
       "0.0                                  6469\n",
       "1.0                                   882\n",
       "2.0                                    93\n",
       "3.0                                    35\n",
       "4.0                                     9\n",
       "5.0                                     7\n",
       "6.0                                     4\n",
       "7.0                                     1"
      ]
     },
     "execution_count": 33,
     "metadata": {},
     "output_type": "execute_result"
    }
   ],
   "source": [
    "data[['Number of Credit Problems','Credit Default']].groupby(['Number of Credit Problems']).count()"
   ]
  },
  {
   "cell_type": "code",
   "execution_count": 34,
   "metadata": {},
   "outputs": [
    {
     "data": {
      "image/png": "[encoded data removed]",
      "text/plain": [
       "<Figure size 1152x1152 with 16 Axes>"
      ]
     },
     "metadata": {
      "needs_background": "light"
     },
     "output_type": "display_data"
    }
   ],
   "source": [
    "data.hist(bins = 20, figsize = (16, 16))\n",
    "plt.show()"
   ]
  },
  {
   "cell_type": "code",
   "execution_count": 35,
   "metadata": {},
   "outputs": [
    {
     "data": {
      "image/png": "[encoded data removed]",
      "text/plain": [
       "<Figure size 1152x1152 with 12 Axes>"
      ]
     },
     "metadata": {
      "needs_background": "light"
     },
     "output_type": "display_data"
    }
   ],
   "source": [
    "data_test.hist(bins = 20, figsize = (16, 16))\n",
    "plt.show()"
   ]
  },
  {
   "cell_type": "code",
   "execution_count": 36,
   "metadata": {},
   "outputs": [
    {
     "data": {
      "text/plain": [
       "<matplotlib.axes._subplots.AxesSubplot at 0x1893b2d7308>"
      ]
     },
     "execution_count": 36,
     "metadata": {},
     "output_type": "execute_result"
    },
    {
     "data": {
      "image/png": "[encoded data removed]",
      "text/plain": [
       "<Figure size 432x288 with 1 Axes>"
      ]
     },
     "metadata": {
      "needs_background": "light"
     },
     "output_type": "display_data"
    }
   ],
   "source": [
    "sns.scatterplot(data=data, x=\"Credit Default\", y=\"Maximum Open Credit\")"
   ]
  },
  {
   "cell_type": "code",
   "execution_count": 37,
   "metadata": {},
   "outputs": [
    {
     "data": {
      "text/plain": [
       "<matplotlib.axes._subplots.AxesSubplot at 0x1893a397108>"
      ]
     },
     "execution_count": 37,
     "metadata": {},
     "output_type": "execute_result"
    },
    {
     "data": {
      "image/png": "[encoded data removed]",
      "text/plain": [
       "<Figure size 432x288 with 1 Axes>"
      ]
     },
     "metadata": {
      "needs_background": "light"
     },
     "output_type": "display_data"
    }
   ],
   "source": [
    "sns.scatterplot(data=data, x=\"Credit Default\", y=\"Current Loan Amount\")"
   ]
  },
  {
   "cell_type": "code",
   "execution_count": 38,
   "metadata": {},
   "outputs": [
    {
     "data": {
      "text/plain": [
       "<matplotlib.axes._subplots.AxesSubplot at 0x1893b22b048>"
      ]
     },
     "execution_count": 38,
     "metadata": {},
     "output_type": "execute_result"
    },
    {
     "data": {
      "image/png": "[encoded data removed]",
      "text/plain": [
       "<Figure size 432x288 with 1 Axes>"
      ]
     },
     "metadata": {
      "needs_background": "light"
     },
     "output_type": "display_data"
    }
   ],
   "source": [
    "sns.scatterplot(data=data, x=range(len(data.Purpose)), y=\"Credit Default\", hue=\"Term\")"
   ]
  },
  {
   "cell_type": "code",
   "execution_count": 39,
   "metadata": {},
   "outputs": [
    {
     "data": {
      "text/plain": [
       "<matplotlib.axes._subplots.AxesSubplot at 0x1893b27fb88>"
      ]
     },
     "execution_count": 39,
     "metadata": {},
     "output_type": "execute_result"
    },
    {
     "data": {
      "image/png": "[encoded data removed]",
      "text/plain": [
       "<Figure size 432x288 with 1 Axes>"
      ]
     },
     "metadata": {
      "needs_background": "light"
     },
     "output_type": "display_data"
    }
   ],
   "source": [
    "sns.scatterplot(data=data_test, x=range(len(data_test.Purpose)), y=\"Credit Score\")"
   ]
  },
  {
   "cell_type": "code",
   "execution_count": 40,
   "metadata": {},
   "outputs": [],
   "source": [
    "#data['Number of Open Accounts'].value_counts(0)"
   ]
  },
  {
   "cell_type": "code",
   "execution_count": 41,
   "metadata": {},
   "outputs": [
    {
     "name": "stdout",
     "output_type": "stream",
     "text": [
      "(101,)\n",
      "(255,)\n"
     ]
    }
   ],
   "source": [
    "n = 20\n",
    "apl = data['Number of Open Accounts'][data[\"Credit Default\"]==1]\n",
    "cpl = data['Number of Open Accounts'][data[\"Credit Default\"]==0]\n",
    "print(data['Number of Open Accounts'][data[\"Number of Open Accounts\"]>n][data[\"Credit Default\"]==1].shape)\n",
    "print(data['Number of Open Accounts'][data[\"Number of Open Accounts\"]>n][data[\"Credit Default\"]==0].shape)"
   ]
  },
  {
   "cell_type": "code",
   "execution_count": 42,
   "metadata": {},
   "outputs": [
    {
     "data": {
      "text/plain": [
       "<matplotlib.axes._subplots.AxesSubplot at 0x1893b8f8108>"
      ]
     },
     "execution_count": 42,
     "metadata": {},
     "output_type": "execute_result"
    },
    {
     "data": {
      "image/png": "[encoded data removed]",
      "text/plain": [
       "<Figure size 432x288 with 1 Axes>"
      ]
     },
     "metadata": {
      "needs_background": "light"
     },
     "output_type": "display_data"
    }
   ],
   "source": [
    "\n",
    "sns.distplot(apl, kde = False, color ='blue', bins = 39)\n",
    "sns.distplot(cpl, kde = False, color ='blue', bins = 39)\n",
    "#sns.distplot(data['Number of Open Accounts'], kde = False, color ='blue', bins = 39)"
   ]
  },
  {
   "cell_type": "code",
   "execution_count": 43,
   "metadata": {},
   "outputs": [
    {
     "data": {
      "text/plain": [
       "0.0    6469\n",
       "1.0     882\n",
       "2.0      93\n",
       "3.0      35\n",
       "4.0       9\n",
       "5.0       7\n",
       "6.0       4\n",
       "7.0       1\n",
       "Name: Number of Credit Problems, dtype: int64"
      ]
     },
     "execution_count": 43,
     "metadata": {},
     "output_type": "execute_result"
    }
   ],
   "source": [
    "data['Number of Credit Problems'].value_counts()"
   ]
  },
  {
   "cell_type": "code",
   "execution_count": 44,
   "metadata": {},
   "outputs": [
    {
     "name": "stdout",
     "output_type": "stream",
     "text": [
      "(0,)\n",
      "(4,)\n"
     ]
    }
   ],
   "source": [
    "n = 6\n",
    "print(data['Number of Credit Problems'][data[\"Number of Credit Problems\"]==n][data[\"Credit Default\"]==1].shape)\n",
    "print(data['Number of Credit Problems'][data[\"Number of Credit Problems\"]==n][data[\"Credit Default\"]==0].shape)\n"
   ]
  },
  {
   "cell_type": "code",
   "execution_count": 45,
   "metadata": {},
   "outputs": [
    {
     "name": "stdout",
     "output_type": "stream",
     "text": [
      "(2,)\n"
     ]
    }
   ],
   "source": [
    "n = 5\n",
    "print(data_test['Number of Credit Problems'][data_test[\"Number of Credit Problems\"]>n].shape)\n"
   ]
  },
  {
   "cell_type": "code",
   "execution_count": 46,
   "metadata": {},
   "outputs": [
    {
     "data": {
      "text/plain": [
       "<matplotlib.axes._subplots.AxesSubplot at 0x1893a49dbc8>"
      ]
     },
     "execution_count": 46,
     "metadata": {},
     "output_type": "execute_result"
    },
    {
     "data": {
      "image/png": "[encoded data removed]",
      "text/plain": [
       "<Figure size 432x288 with 1 Axes>"
      ]
     },
     "metadata": {
      "needs_background": "light"
     },
     "output_type": "display_data"
    }
   ],
   "source": [
    "sns.distplot(data['Number of Credit Problems'][data[\"Credit Default\"]==1], kde = False, color ='blue', bins = 8)\n",
    "sns.distplot(data['Number of Credit Problems'][data[\"Credit Default\"]==0], kde = False, color ='blue', bins = 8)"
   ]
  },
  {
   "cell_type": "code",
   "execution_count": 47,
   "metadata": {},
   "outputs": [
    {
     "data": {
      "text/plain": [
       "<matplotlib.axes._subplots.AxesSubplot at 0x1893af39488>"
      ]
     },
     "execution_count": 47,
     "metadata": {},
     "output_type": "execute_result"
    },
    {
     "data": {
      "image/png": "[encoded data removed]",
      "text/plain": [
       "<Figure size 432x288 with 1 Axes>"
      ]
     },
     "metadata": {
      "needs_background": "light"
     },
     "output_type": "display_data"
    }
   ],
   "source": [
    "sns.scatterplot(data=data, x=\"Credit Default\", y=\"Annual Income\", hue=\"Credit Score\")"
   ]
  },
  {
   "cell_type": "code",
   "execution_count": 48,
   "metadata": {},
   "outputs": [
    {
     "data": {
      "text/plain": [
       "<matplotlib.axes._subplots.AxesSubplot at 0x1893b07f048>"
      ]
     },
     "execution_count": 48,
     "metadata": {},
     "output_type": "execute_result"
    },
    {
     "data": {
      "image/png": "[encoded data removed]",
      "text/plain": [
       "<Figure size 432x288 with 1 Axes>"
      ]
     },
     "metadata": {
      "needs_background": "light"
     },
     "output_type": "display_data"
    }
   ],
   "source": [
    "sns.scatterplot(data=data, x=\"Annual Income\", y=\"Credit Score\", hue=\"Credit Default\")"
   ]
  },
  {
   "cell_type": "code",
   "execution_count": 49,
   "metadata": {},
   "outputs": [
    {
     "name": "stdout",
     "output_type": "stream",
     "text": [
      "(1295, 17)\n",
      "(3790, 17)\n",
      "(289, 17)\n",
      "(569, 17)\n"
     ]
    },
    {
     "name": "stderr",
     "output_type": "stream",
     "text": [
      "C:\\ProgramData\\Anaconda3\\lib\\site-packages\\ipykernel_launcher.py:3: UserWarning: Boolean Series key will be reindexed to match DataFrame index.\n",
      "  This is separate from the ipykernel package so we can avoid doing imports until\n",
      "C:\\ProgramData\\Anaconda3\\lib\\site-packages\\ipykernel_launcher.py:4: UserWarning: Boolean Series key will be reindexed to match DataFrame index.\n",
      "  after removing the cwd from sys.path.\n",
      "C:\\ProgramData\\Anaconda3\\lib\\site-packages\\ipykernel_launcher.py:6: UserWarning: Boolean Series key will be reindexed to match DataFrame index.\n",
      "  \n",
      "C:\\ProgramData\\Anaconda3\\lib\\site-packages\\ipykernel_launcher.py:7: UserWarning: Boolean Series key will be reindexed to match DataFrame index.\n",
      "  import sys\n"
     ]
    }
   ],
   "source": [
    "# 1584   /    4359\n",
    "val = 700000\n",
    "print(data[data[\"Annual Income\"]>val][data[\"Credit Default\"]==1].shape)\n",
    "print(data[data[\"Annual Income\"]>val][data[\"Credit Default\"]==0].shape)\n",
    "\n",
    "print(data[data[\"Annual Income\"]<=val][data[\"Credit Default\"]==1].shape)\n",
    "print(data[data[\"Annual Income\"]<=val][data[\"Credit Default\"]==0].shape)\n"
   ]
  },
  {
   "cell_type": "code",
   "execution_count": 50,
   "metadata": {},
   "outputs": [
    {
     "data": {
      "text/plain": [
       "<matplotlib.axes._subplots.AxesSubplot at 0x1893a3df588>"
      ]
     },
     "execution_count": 50,
     "metadata": {},
     "output_type": "execute_result"
    },
    {
     "data": {
      "image/png": "[encoded data removed]",
      "text/plain": [
       "<Figure size 432x288 with 1 Axes>"
      ]
     },
     "metadata": {
      "needs_background": "light"
     },
     "output_type": "display_data"
    }
   ],
   "source": [
    "sns.scatterplot(data=data, x=\"Credit Default\", y=\"Annual Income\", hue=\"Term\")"
   ]
  },
  {
   "cell_type": "code",
   "execution_count": 51,
   "metadata": {},
   "outputs": [
    {
     "data": {
      "text/plain": [
       "<matplotlib.axes._subplots.AxesSubplot at 0x1893b23edc8>"
      ]
     },
     "execution_count": 51,
     "metadata": {},
     "output_type": "execute_result"
    },
    {
     "data": {
      "image/png": "[encoded data removed]",
      "text/plain": [
       "<Figure size 432x288 with 1 Axes>"
      ]
     },
     "metadata": {
      "needs_background": "light"
     },
     "output_type": "display_data"
    }
   ],
   "source": [
    "sns.scatterplot(data=data, x=\"Credit Score\", y=\"Annual Income\", hue=\"Credit Default\")"
   ]
  },
  {
   "cell_type": "code",
   "execution_count": 52,
   "metadata": {},
   "outputs": [
    {
     "data": {
      "text/plain": [
       "<matplotlib.axes._subplots.AxesSubplot at 0x1893b572e48>"
      ]
     },
     "execution_count": 52,
     "metadata": {},
     "output_type": "execute_result"
    },
    {
     "data": {
      "image/png": "[encoded data removed]",
      "text/plain": [
       "<Figure size 432x288 with 1 Axes>"
      ]
     },
     "metadata": {
      "needs_background": "light"
     },
     "output_type": "display_data"
    }
   ],
   "source": [
    "sns.scatterplot(data=data, x=\"Current Loan Amount\", y=\"Annual Income\", hue=\"Credit Default\")"
   ]
  },
  {
   "cell_type": "code",
   "execution_count": 53,
   "metadata": {},
   "outputs": [
    {
     "data": {
      "text/plain": [
       "<matplotlib.axes._subplots.AxesSubplot at 0x1893b7b5e88>"
      ]
     },
     "execution_count": 53,
     "metadata": {},
     "output_type": "execute_result"
    },
    {
     "data": {
      "image/png": "[encoded data removed]",
      "text/plain": [
       "<Figure size 432x288 with 1 Axes>"
      ]
     },
     "metadata": {
      "needs_background": "light"
     },
     "output_type": "display_data"
    }
   ],
   "source": [
    "sns.scatterplot(data=data_test, x=\"Current Loan Amount\", y=\"Annual Income\")"
   ]
  },
  {
   "cell_type": "markdown",
   "metadata": {},
   "source": [
    "Нашли выбросы по Current Loan Amount и Credit Score"
   ]
  },
  {
   "cell_type": "code",
   "execution_count": 54,
   "metadata": {},
   "outputs": [
    {
     "name": "stdout",
     "output_type": "stream",
     "text": [
      "(0, 17)\n",
      "      Current Loan Amount\n",
      "0              99999999.0\n",
      "2              99999999.0\n",
      "6              99999999.0\n",
      "22             99999999.0\n",
      "27             99999999.0\n",
      "...                   ...\n",
      "7441           99999999.0\n",
      "7445           99999999.0\n",
      "7464           99999999.0\n",
      "7475           99999999.0\n",
      "7497           99999999.0\n",
      "\n",
      "[870 rows x 1 columns]\n",
      "(2113, 17)\n",
      "(4517, 17)\n"
     ]
    },
    {
     "name": "stderr",
     "output_type": "stream",
     "text": [
      "C:\\ProgramData\\Anaconda3\\lib\\site-packages\\ipykernel_launcher.py:3: UserWarning: Boolean Series key will be reindexed to match DataFrame index.\n",
      "  This is separate from the ipykernel package so we can avoid doing imports until\n",
      "C:\\ProgramData\\Anaconda3\\lib\\site-packages\\ipykernel_launcher.py:4: UserWarning: Boolean Series key will be reindexed to match DataFrame index.\n",
      "  after removing the cwd from sys.path.\n",
      "C:\\ProgramData\\Anaconda3\\lib\\site-packages\\ipykernel_launcher.py:6: UserWarning: Boolean Series key will be reindexed to match DataFrame index.\n",
      "  \n",
      "C:\\ProgramData\\Anaconda3\\lib\\site-packages\\ipykernel_launcher.py:7: UserWarning: Boolean Series key will be reindexed to match DataFrame index.\n",
      "  import sys\n"
     ]
    }
   ],
   "source": [
    "# 1584   /    4359\n",
    "val = 789500\n",
    "print(data[data[\"Current Loan Amount\"]>val][data[\"Credit Default\"]==1].shape)\n",
    "print(data[[\"Current Loan Amount\"]][data[\"Current Loan Amount\"]>val][data[\"Credit Default\"]==0])\n",
    "\n",
    "print(data[data[\"Current Loan Amount\"]<=val][data[\"Credit Default\"]==1].shape)\n",
    "print(data[data[\"Current Loan Amount\"]<=val][data[\"Credit Default\"]==0].shape)\n",
    "#data[data[\"Current Loan Amount\"]>789500] = None\n",
    "#data_test[data_test[\"Current Loan Amount\"]>789500] = None"
   ]
  },
  {
   "cell_type": "code",
   "execution_count": 55,
   "metadata": {},
   "outputs": [
    {
     "data": {
      "text/plain": [
       "(1557, 1987)"
      ]
     },
     "execution_count": 55,
     "metadata": {},
     "output_type": "execute_result"
    }
   ],
   "source": [
    "data[\"Credit Score\"].isnull().sum(), data_test[\"Credit Score\"].value_counts().sum()"
   ]
  },
  {
   "cell_type": "code",
   "execution_count": 56,
   "metadata": {},
   "outputs": [
    {
     "data": {
      "text/plain": [
       "160"
      ]
     },
     "execution_count": 56,
     "metadata": {},
     "output_type": "execute_result"
    }
   ],
   "source": [
    "data_test[\"Credit Score\"][data_test[\"Credit Score\"]>1000].value_counts().sum()"
   ]
  },
  {
   "cell_type": "code",
   "execution_count": 57,
   "metadata": {},
   "outputs": [
    {
     "name": "stderr",
     "output_type": "stream",
     "text": [
      "C:\\ProgramData\\Anaconda3\\lib\\site-packages\\ipykernel_launcher.py:1: UserWarning: Boolean Series key will be reindexed to match DataFrame index.\n",
      "  \"\"\"Entry point for launching an IPython kernel.\n"
     ]
    },
    {
     "data": {
      "text/plain": [
       "Credit Score              7510.0\n",
       "Maximum Open Credit    6639358.0\n",
       "dtype: float64"
      ]
     },
     "execution_count": 57,
     "metadata": {},
     "output_type": "execute_result"
    }
   ],
   "source": [
    "data[[\"Credit Score\", \"Maximum Open Credit\"]][data[\"Maximum Open Credit\"]>1000000][data[\"Credit Default\"]==1].max()\n"
   ]
  },
  {
   "cell_type": "code",
   "execution_count": 58,
   "metadata": {},
   "outputs": [
    {
     "name": "stderr",
     "output_type": "stream",
     "text": [
      "C:\\ProgramData\\Anaconda3\\lib\\site-packages\\ipykernel_launcher.py:1: UserWarning: Boolean Series key will be reindexed to match DataFrame index.\n",
      "  \"\"\"Entry point for launching an IPython kernel.\n"
     ]
    },
    {
     "data": {
      "text/plain": [
       "Credit Score               687.0\n",
       "Maximum Open Credit    8706038.0\n",
       "dtype: float64"
      ]
     },
     "execution_count": 58,
     "metadata": {},
     "output_type": "execute_result"
    }
   ],
   "source": [
    "data[[\"Credit Score\", \"Maximum Open Credit\"]][data[\"Maximum Open Credit\"]>8000000][data[\"Credit Default\"]==0].min()"
   ]
  },
  {
   "cell_type": "markdown",
   "metadata": {},
   "source": [
    "Индексируем выбросы в списки."
   ]
  },
  {
   "cell_type": "code",
   "execution_count": 59,
   "metadata": {},
   "outputs": [
    {
     "data": {
      "text/plain": [
       "[222, 228, 584, 1455, 1568, 2152]"
      ]
     },
     "execution_count": 59,
     "metadata": {},
     "output_type": "execute_result"
    }
   ],
   "source": [
    "credit_list = []\n",
    "for i in range(len(data_test[\"Maximum Open Credit\"])):\n",
    "    if data_test[\"Maximum Open Credit\"][i] > 8500000:\n",
    "        credit_list.append(i)\n",
    "credit_list"
   ]
  },
  {
   "cell_type": "code",
   "execution_count": 60,
   "metadata": {},
   "outputs": [
    {
     "data": {
      "text/plain": [
       "(160, 2500)"
      ]
     },
     "execution_count": 60,
     "metadata": {},
     "output_type": "execute_result"
    }
   ],
   "source": [
    "score_list = []\n",
    "for i in range(0, len(data_test[\"Credit Score\"])):\n",
    "    if data_test[\"Credit Score\"][i]>1000:\n",
    "        score_list.append(i)\n",
    "len(score_list), len(data_test[\"Credit Score\"])"
   ]
  },
  {
   "cell_type": "code",
   "execution_count": 61,
   "metadata": {},
   "outputs": [
    {
     "data": {
      "text/plain": [
       "297"
      ]
     },
     "execution_count": 61,
     "metadata": {},
     "output_type": "execute_result"
    }
   ],
   "source": [
    "loan_list = []\n",
    "for i in range(0, len(data_test[\"Current Loan Amount\"])):\n",
    "    if data_test[\"Current Loan Amount\"][i]>789500:\n",
    "        loan_list.append(i)\n",
    "len(loan_list)"
   ]
  },
  {
   "cell_type": "code",
   "execution_count": 62,
   "metadata": {},
   "outputs": [
    {
     "data": {
      "text/plain": [
       "297"
      ]
     },
     "execution_count": 62,
     "metadata": {},
     "output_type": "execute_result"
    }
   ],
   "source": [
    "loan_list = []\n",
    "score_list = []\n",
    "credit_list = []\n",
    "for i in range(len(data_test[\"Maximum Open Credit\"])):\n",
    "    if data_test[\"Maximum Open Credit\"][i] > 8500000:\n",
    "        credit_list.append(i)\n",
    "\n",
    "for i in range(0, len(data_test[\"Credit Score\"])):\n",
    "    if data_test[\"Credit Score\"][i]>1000:\n",
    "        score_list.append(i)\n",
    "len(score_list), len(data_test[\"Credit Score\"])\n",
    "\n",
    "for i in range(0, len(data_test[\"Current Loan Amount\"])):\n",
    "    if data_test[\"Current Loan Amount\"][i]>789500:\n",
    "        loan_list.append(i)\n",
    "len(loan_list)"
   ]
  },
  {
   "cell_type": "markdown",
   "metadata": {},
   "source": [
    "Ищем зависимости для пропущенных значений тестовой выборки, рассатривая связь данных трейн сета и Credit Default, в надежде что сможем лучше заполнить пропуски в тест сете."
   ]
  },
  {
   "cell_type": "code",
   "execution_count": 63,
   "metadata": {},
   "outputs": [
    {
     "name": "stderr",
     "output_type": "stream",
     "text": [
      "C:\\ProgramData\\Anaconda3\\lib\\site-packages\\ipykernel_launcher.py:1: UserWarning: Boolean Series key will be reindexed to match DataFrame index.\n",
      "  \"\"\"Entry point for launching an IPython kernel.\n"
     ]
    },
    {
     "data": {
      "text/html": [
       "<div>\n",
       "<style scoped>\n",
       "    .dataframe tbody tr th:only-of-type {\n",
       "        vertical-align: middle;\n",
       "    }\n",
       "\n",
       "    .dataframe tbody tr th {\n",
       "        vertical-align: top;\n",
       "    }\n",
       "\n",
       "    .dataframe thead th {\n",
       "        text-align: right;\n",
       "    }\n",
       "</style>\n",
       "<table border=\"1\" class=\"dataframe\">\n",
       "  <thead>\n",
       "    <tr style=\"text-align: right;\">\n",
       "      <th></th>\n",
       "      <th>Home Ownership</th>\n",
       "      <th>Annual Income</th>\n",
       "      <th>Years in current job</th>\n",
       "      <th>Tax Liens</th>\n",
       "      <th>Number of Open Accounts</th>\n",
       "      <th>Years of Credit History</th>\n",
       "      <th>Maximum Open Credit</th>\n",
       "      <th>Number of Credit Problems</th>\n",
       "      <th>Months since last delinquent</th>\n",
       "      <th>Bankruptcies</th>\n",
       "      <th>Purpose</th>\n",
       "      <th>Term</th>\n",
       "      <th>Current Loan Amount</th>\n",
       "      <th>Current Credit Balance</th>\n",
       "      <th>Monthly Debt</th>\n",
       "      <th>Credit Score</th>\n",
       "      <th>Credit Default</th>\n",
       "    </tr>\n",
       "  </thead>\n",
       "  <tbody>\n",
       "    <tr>\n",
       "      <th>5</th>\n",
       "      <td>Rent</td>\n",
       "      <td>NaN</td>\n",
       "      <td>7 years</td>\n",
       "      <td>0.0</td>\n",
       "      <td>12.0</td>\n",
       "      <td>14.6</td>\n",
       "      <td>366784.0</td>\n",
       "      <td>0.0</td>\n",
       "      <td>NaN</td>\n",
       "      <td>0.0</td>\n",
       "      <td>other</td>\n",
       "      <td>Long Term</td>\n",
       "      <td>337304.0</td>\n",
       "      <td>165680.0</td>\n",
       "      <td>18692.0</td>\n",
       "      <td>NaN</td>\n",
       "      <td>1</td>\n",
       "    </tr>\n",
       "    <tr>\n",
       "      <th>9</th>\n",
       "      <td>Home Mortgage</td>\n",
       "      <td>NaN</td>\n",
       "      <td>1 year</td>\n",
       "      <td>0.0</td>\n",
       "      <td>10.0</td>\n",
       "      <td>24.6</td>\n",
       "      <td>511302.0</td>\n",
       "      <td>0.0</td>\n",
       "      <td>6.0</td>\n",
       "      <td>0.0</td>\n",
       "      <td>debt consolidation</td>\n",
       "      <td>Long Term</td>\n",
       "      <td>572880.0</td>\n",
       "      <td>205333.0</td>\n",
       "      <td>17613.0</td>\n",
       "      <td>NaN</td>\n",
       "      <td>1</td>\n",
       "    </tr>\n",
       "    <tr>\n",
       "      <th>16</th>\n",
       "      <td>Rent</td>\n",
       "      <td>NaN</td>\n",
       "      <td>7 years</td>\n",
       "      <td>0.0</td>\n",
       "      <td>6.0</td>\n",
       "      <td>17.8</td>\n",
       "      <td>899492.0</td>\n",
       "      <td>0.0</td>\n",
       "      <td>NaN</td>\n",
       "      <td>0.0</td>\n",
       "      <td>debt consolidation</td>\n",
       "      <td>Long Term</td>\n",
       "      <td>313038.0</td>\n",
       "      <td>538346.0</td>\n",
       "      <td>18844.0</td>\n",
       "      <td>NaN</td>\n",
       "      <td>1</td>\n",
       "    </tr>\n",
       "    <tr>\n",
       "      <th>23</th>\n",
       "      <td>Own Home</td>\n",
       "      <td>NaN</td>\n",
       "      <td>10+ years</td>\n",
       "      <td>0.0</td>\n",
       "      <td>17.0</td>\n",
       "      <td>14.8</td>\n",
       "      <td>700040.0</td>\n",
       "      <td>0.0</td>\n",
       "      <td>17.0</td>\n",
       "      <td>0.0</td>\n",
       "      <td>debt consolidation</td>\n",
       "      <td>Short Term</td>\n",
       "      <td>174878.0</td>\n",
       "      <td>168074.0</td>\n",
       "      <td>17132.0</td>\n",
       "      <td>NaN</td>\n",
       "      <td>1</td>\n",
       "    </tr>\n",
       "    <tr>\n",
       "      <th>29</th>\n",
       "      <td>Rent</td>\n",
       "      <td>NaN</td>\n",
       "      <td>10+ years</td>\n",
       "      <td>0.0</td>\n",
       "      <td>9.0</td>\n",
       "      <td>18.6</td>\n",
       "      <td>186494.0</td>\n",
       "      <td>0.0</td>\n",
       "      <td>6.0</td>\n",
       "      <td>0.0</td>\n",
       "      <td>debt consolidation</td>\n",
       "      <td>Short Term</td>\n",
       "      <td>357918.0</td>\n",
       "      <td>72808.0</td>\n",
       "      <td>22352.0</td>\n",
       "      <td>NaN</td>\n",
       "      <td>1</td>\n",
       "    </tr>\n",
       "    <tr>\n",
       "      <th>...</th>\n",
       "      <td>...</td>\n",
       "      <td>...</td>\n",
       "      <td>...</td>\n",
       "      <td>...</td>\n",
       "      <td>...</td>\n",
       "      <td>...</td>\n",
       "      <td>...</td>\n",
       "      <td>...</td>\n",
       "      <td>...</td>\n",
       "      <td>...</td>\n",
       "      <td>...</td>\n",
       "      <td>...</td>\n",
       "      <td>...</td>\n",
       "      <td>...</td>\n",
       "      <td>...</td>\n",
       "      <td>...</td>\n",
       "      <td>...</td>\n",
       "    </tr>\n",
       "    <tr>\n",
       "      <th>7404</th>\n",
       "      <td>Home Mortgage</td>\n",
       "      <td>NaN</td>\n",
       "      <td>10+ years</td>\n",
       "      <td>0.0</td>\n",
       "      <td>21.0</td>\n",
       "      <td>16.2</td>\n",
       "      <td>2468026.0</td>\n",
       "      <td>0.0</td>\n",
       "      <td>NaN</td>\n",
       "      <td>0.0</td>\n",
       "      <td>debt consolidation</td>\n",
       "      <td>Short Term</td>\n",
       "      <td>400004.0</td>\n",
       "      <td>1157385.0</td>\n",
       "      <td>42990.0</td>\n",
       "      <td>NaN</td>\n",
       "      <td>1</td>\n",
       "    </tr>\n",
       "    <tr>\n",
       "      <th>7417</th>\n",
       "      <td>Home Mortgage</td>\n",
       "      <td>NaN</td>\n",
       "      <td>4 years</td>\n",
       "      <td>0.0</td>\n",
       "      <td>18.0</td>\n",
       "      <td>16.0</td>\n",
       "      <td>625922.0</td>\n",
       "      <td>0.0</td>\n",
       "      <td>76.0</td>\n",
       "      <td>0.0</td>\n",
       "      <td>debt consolidation</td>\n",
       "      <td>Long Term</td>\n",
       "      <td>562848.0</td>\n",
       "      <td>480035.0</td>\n",
       "      <td>37093.0</td>\n",
       "      <td>NaN</td>\n",
       "      <td>1</td>\n",
       "    </tr>\n",
       "    <tr>\n",
       "      <th>7428</th>\n",
       "      <td>Own Home</td>\n",
       "      <td>NaN</td>\n",
       "      <td>&lt; 1 year</td>\n",
       "      <td>0.0</td>\n",
       "      <td>9.0</td>\n",
       "      <td>18.9</td>\n",
       "      <td>234212.0</td>\n",
       "      <td>0.0</td>\n",
       "      <td>NaN</td>\n",
       "      <td>0.0</td>\n",
       "      <td>debt consolidation</td>\n",
       "      <td>Short Term</td>\n",
       "      <td>133320.0</td>\n",
       "      <td>114076.0</td>\n",
       "      <td>3306.0</td>\n",
       "      <td>NaN</td>\n",
       "      <td>1</td>\n",
       "    </tr>\n",
       "    <tr>\n",
       "      <th>7451</th>\n",
       "      <td>Rent</td>\n",
       "      <td>NaN</td>\n",
       "      <td>7 years</td>\n",
       "      <td>0.0</td>\n",
       "      <td>6.0</td>\n",
       "      <td>8.0</td>\n",
       "      <td>137544.0</td>\n",
       "      <td>0.0</td>\n",
       "      <td>10.0</td>\n",
       "      <td>0.0</td>\n",
       "      <td>take a trip</td>\n",
       "      <td>Short Term</td>\n",
       "      <td>225368.0</td>\n",
       "      <td>81966.0</td>\n",
       "      <td>12205.0</td>\n",
       "      <td>NaN</td>\n",
       "      <td>1</td>\n",
       "    </tr>\n",
       "    <tr>\n",
       "      <th>7453</th>\n",
       "      <td>Home Mortgage</td>\n",
       "      <td>NaN</td>\n",
       "      <td>10+ years</td>\n",
       "      <td>0.0</td>\n",
       "      <td>11.0</td>\n",
       "      <td>19.7</td>\n",
       "      <td>947540.0</td>\n",
       "      <td>0.0</td>\n",
       "      <td>46.0</td>\n",
       "      <td>0.0</td>\n",
       "      <td>debt consolidation</td>\n",
       "      <td>Long Term</td>\n",
       "      <td>540716.0</td>\n",
       "      <td>515546.0</td>\n",
       "      <td>20172.0</td>\n",
       "      <td>NaN</td>\n",
       "      <td>1</td>\n",
       "    </tr>\n",
       "  </tbody>\n",
       "</table>\n",
       "<p>529 rows × 17 columns</p>\n",
       "</div>"
      ],
      "text/plain": [
       "     Home Ownership  Annual Income Years in current job  Tax Liens  \\\n",
       "5              Rent            NaN              7 years        0.0   \n",
       "9     Home Mortgage            NaN               1 year        0.0   \n",
       "16             Rent            NaN              7 years        0.0   \n",
       "23         Own Home            NaN            10+ years        0.0   \n",
       "29             Rent            NaN            10+ years        0.0   \n",
       "...             ...            ...                  ...        ...   \n",
       "7404  Home Mortgage            NaN            10+ years        0.0   \n",
       "7417  Home Mortgage            NaN              4 years        0.0   \n",
       "7428       Own Home            NaN             < 1 year        0.0   \n",
       "7451           Rent            NaN              7 years        0.0   \n",
       "7453  Home Mortgage            NaN            10+ years        0.0   \n",
       "\n",
       "      Number of Open Accounts  Years of Credit History  Maximum Open Credit  \\\n",
       "5                        12.0                     14.6             366784.0   \n",
       "9                        10.0                     24.6             511302.0   \n",
       "16                        6.0                     17.8             899492.0   \n",
       "23                       17.0                     14.8             700040.0   \n",
       "29                        9.0                     18.6             186494.0   \n",
       "...                       ...                      ...                  ...   \n",
       "7404                     21.0                     16.2            2468026.0   \n",
       "7417                     18.0                     16.0             625922.0   \n",
       "7428                      9.0                     18.9             234212.0   \n",
       "7451                      6.0                      8.0             137544.0   \n",
       "7453                     11.0                     19.7             947540.0   \n",
       "\n",
       "      Number of Credit Problems  Months since last delinquent  Bankruptcies  \\\n",
       "5                           0.0                           NaN           0.0   \n",
       "9                           0.0                           6.0           0.0   \n",
       "16                          0.0                           NaN           0.0   \n",
       "23                          0.0                          17.0           0.0   \n",
       "29                          0.0                           6.0           0.0   \n",
       "...                         ...                           ...           ...   \n",
       "7404                        0.0                           NaN           0.0   \n",
       "7417                        0.0                          76.0           0.0   \n",
       "7428                        0.0                           NaN           0.0   \n",
       "7451                        0.0                          10.0           0.0   \n",
       "7453                        0.0                          46.0           0.0   \n",
       "\n",
       "                 Purpose        Term  Current Loan Amount  \\\n",
       "5                  other   Long Term             337304.0   \n",
       "9     debt consolidation   Long Term             572880.0   \n",
       "16    debt consolidation   Long Term             313038.0   \n",
       "23    debt consolidation  Short Term             174878.0   \n",
       "29    debt consolidation  Short Term             357918.0   \n",
       "...                  ...         ...                  ...   \n",
       "7404  debt consolidation  Short Term             400004.0   \n",
       "7417  debt consolidation   Long Term             562848.0   \n",
       "7428  debt consolidation  Short Term             133320.0   \n",
       "7451         take a trip  Short Term             225368.0   \n",
       "7453  debt consolidation   Long Term             540716.0   \n",
       "\n",
       "      Current Credit Balance  Monthly Debt  Credit Score  Credit Default  \n",
       "5                   165680.0       18692.0           NaN               1  \n",
       "9                   205333.0       17613.0           NaN               1  \n",
       "16                  538346.0       18844.0           NaN               1  \n",
       "23                  168074.0       17132.0           NaN               1  \n",
       "29                   72808.0       22352.0           NaN               1  \n",
       "...                      ...           ...           ...             ...  \n",
       "7404               1157385.0       42990.0           NaN               1  \n",
       "7417                480035.0       37093.0           NaN               1  \n",
       "7428                114076.0        3306.0           NaN               1  \n",
       "7451                 81966.0       12205.0           NaN               1  \n",
       "7453                515546.0       20172.0           NaN               1  \n",
       "\n",
       "[529 rows x 17 columns]"
      ]
     },
     "execution_count": 63,
     "metadata": {},
     "output_type": "execute_result"
    }
   ],
   "source": [
    "data[data[\"Credit Score\"].isnull()][data[\"Credit Default\"] == 1]"
   ]
  },
  {
   "cell_type": "code",
   "execution_count": 64,
   "metadata": {},
   "outputs": [
    {
     "name": "stderr",
     "output_type": "stream",
     "text": [
      "C:\\ProgramData\\Anaconda3\\lib\\site-packages\\ipykernel_launcher.py:1: UserWarning: Boolean Series key will be reindexed to match DataFrame index.\n",
      "  \"\"\"Entry point for launching an IPython kernel.\n"
     ]
    },
    {
     "data": {
      "text/plain": [
       "((1557, 17), (1557, 17))"
      ]
     },
     "execution_count": 64,
     "metadata": {},
     "output_type": "execute_result"
    }
   ],
   "source": [
    "data[data[\"Annual Income\"].isnull()][data[\"Credit Score\"].isnull()].shape, data[data[\"Credit Score\"].isnull()].shape"
   ]
  },
  {
   "cell_type": "code",
   "execution_count": 65,
   "metadata": {},
   "outputs": [
    {
     "name": "stderr",
     "output_type": "stream",
     "text": [
      "C:\\ProgramData\\Anaconda3\\lib\\site-packages\\ipykernel_launcher.py:1: UserWarning: Boolean Series key will be reindexed to match DataFrame index.\n",
      "  \"\"\"Entry point for launching an IPython kernel.\n"
     ]
    },
    {
     "data": {
      "text/html": [
       "<div>\n",
       "<style scoped>\n",
       "    .dataframe tbody tr th:only-of-type {\n",
       "        vertical-align: middle;\n",
       "    }\n",
       "\n",
       "    .dataframe tbody tr th {\n",
       "        vertical-align: top;\n",
       "    }\n",
       "\n",
       "    .dataframe thead th {\n",
       "        text-align: right;\n",
       "    }\n",
       "</style>\n",
       "<table border=\"1\" class=\"dataframe\">\n",
       "  <thead>\n",
       "    <tr style=\"text-align: right;\">\n",
       "      <th></th>\n",
       "      <th>Home Ownership</th>\n",
       "      <th>Annual Income</th>\n",
       "      <th>Years in current job</th>\n",
       "      <th>Tax Liens</th>\n",
       "      <th>Number of Open Accounts</th>\n",
       "      <th>Years of Credit History</th>\n",
       "      <th>Maximum Open Credit</th>\n",
       "      <th>Number of Credit Problems</th>\n",
       "      <th>Months since last delinquent</th>\n",
       "      <th>Bankruptcies</th>\n",
       "      <th>Purpose</th>\n",
       "      <th>Term</th>\n",
       "      <th>Current Loan Amount</th>\n",
       "      <th>Current Credit Balance</th>\n",
       "      <th>Monthly Debt</th>\n",
       "      <th>Credit Score</th>\n",
       "      <th>Credit Default</th>\n",
       "    </tr>\n",
       "  </thead>\n",
       "  <tbody>\n",
       "    <tr>\n",
       "      <th>69</th>\n",
       "      <td>Home Mortgage</td>\n",
       "      <td>1408527.0</td>\n",
       "      <td>2 years</td>\n",
       "      <td>0.0</td>\n",
       "      <td>12.0</td>\n",
       "      <td>17.5</td>\n",
       "      <td>700062.0</td>\n",
       "      <td>0.0</td>\n",
       "      <td>21.0</td>\n",
       "      <td>0.0</td>\n",
       "      <td>other</td>\n",
       "      <td>Long Term</td>\n",
       "      <td>525998.0</td>\n",
       "      <td>174135.0</td>\n",
       "      <td>9320.0</td>\n",
       "      <td>6470.0</td>\n",
       "      <td>1</td>\n",
       "    </tr>\n",
       "    <tr>\n",
       "      <th>87</th>\n",
       "      <td>Home Mortgage</td>\n",
       "      <td>1533566.0</td>\n",
       "      <td>7 years</td>\n",
       "      <td>0.0</td>\n",
       "      <td>11.0</td>\n",
       "      <td>14.8</td>\n",
       "      <td>715462.0</td>\n",
       "      <td>0.0</td>\n",
       "      <td>19.0</td>\n",
       "      <td>0.0</td>\n",
       "      <td>debt consolidation</td>\n",
       "      <td>Short Term</td>\n",
       "      <td>210826.0</td>\n",
       "      <td>285475.0</td>\n",
       "      <td>18147.0</td>\n",
       "      <td>7440.0</td>\n",
       "      <td>1</td>\n",
       "    </tr>\n",
       "    <tr>\n",
       "      <th>94</th>\n",
       "      <td>Rent</td>\n",
       "      <td>1049294.0</td>\n",
       "      <td>3 years</td>\n",
       "      <td>0.0</td>\n",
       "      <td>5.0</td>\n",
       "      <td>6.1</td>\n",
       "      <td>249810.0</td>\n",
       "      <td>0.0</td>\n",
       "      <td>NaN</td>\n",
       "      <td>0.0</td>\n",
       "      <td>business loan</td>\n",
       "      <td>Short Term</td>\n",
       "      <td>337502.0</td>\n",
       "      <td>119529.0</td>\n",
       "      <td>15215.0</td>\n",
       "      <td>7010.0</td>\n",
       "      <td>1</td>\n",
       "    </tr>\n",
       "    <tr>\n",
       "      <th>96</th>\n",
       "      <td>Rent</td>\n",
       "      <td>757568.0</td>\n",
       "      <td>5 years</td>\n",
       "      <td>0.0</td>\n",
       "      <td>13.0</td>\n",
       "      <td>11.4</td>\n",
       "      <td>383548.0</td>\n",
       "      <td>0.0</td>\n",
       "      <td>NaN</td>\n",
       "      <td>0.0</td>\n",
       "      <td>debt consolidation</td>\n",
       "      <td>Short Term</td>\n",
       "      <td>210518.0</td>\n",
       "      <td>276583.0</td>\n",
       "      <td>11553.0</td>\n",
       "      <td>7320.0</td>\n",
       "      <td>1</td>\n",
       "    </tr>\n",
       "    <tr>\n",
       "      <th>116</th>\n",
       "      <td>Home Mortgage</td>\n",
       "      <td>1039984.0</td>\n",
       "      <td>NaN</td>\n",
       "      <td>0.0</td>\n",
       "      <td>10.0</td>\n",
       "      <td>23.8</td>\n",
       "      <td>147950.0</td>\n",
       "      <td>0.0</td>\n",
       "      <td>63.0</td>\n",
       "      <td>0.0</td>\n",
       "      <td>debt consolidation</td>\n",
       "      <td>Short Term</td>\n",
       "      <td>224246.0</td>\n",
       "      <td>95456.0</td>\n",
       "      <td>13780.0</td>\n",
       "      <td>7390.0</td>\n",
       "      <td>1</td>\n",
       "    </tr>\n",
       "    <tr>\n",
       "      <th>...</th>\n",
       "      <td>...</td>\n",
       "      <td>...</td>\n",
       "      <td>...</td>\n",
       "      <td>...</td>\n",
       "      <td>...</td>\n",
       "      <td>...</td>\n",
       "      <td>...</td>\n",
       "      <td>...</td>\n",
       "      <td>...</td>\n",
       "      <td>...</td>\n",
       "      <td>...</td>\n",
       "      <td>...</td>\n",
       "      <td>...</td>\n",
       "      <td>...</td>\n",
       "      <td>...</td>\n",
       "      <td>...</td>\n",
       "      <td>...</td>\n",
       "    </tr>\n",
       "    <tr>\n",
       "      <th>7422</th>\n",
       "      <td>Rent</td>\n",
       "      <td>694868.0</td>\n",
       "      <td>1 year</td>\n",
       "      <td>0.0</td>\n",
       "      <td>4.0</td>\n",
       "      <td>7.8</td>\n",
       "      <td>143066.0</td>\n",
       "      <td>0.0</td>\n",
       "      <td>NaN</td>\n",
       "      <td>0.0</td>\n",
       "      <td>debt consolidation</td>\n",
       "      <td>Long Term</td>\n",
       "      <td>244178.0</td>\n",
       "      <td>122075.0</td>\n",
       "      <td>4268.0</td>\n",
       "      <td>6690.0</td>\n",
       "      <td>1</td>\n",
       "    </tr>\n",
       "    <tr>\n",
       "      <th>7433</th>\n",
       "      <td>Rent</td>\n",
       "      <td>2011758.0</td>\n",
       "      <td>&lt; 1 year</td>\n",
       "      <td>0.0</td>\n",
       "      <td>4.0</td>\n",
       "      <td>14.9</td>\n",
       "      <td>22176.0</td>\n",
       "      <td>0.0</td>\n",
       "      <td>43.0</td>\n",
       "      <td>0.0</td>\n",
       "      <td>buy a car</td>\n",
       "      <td>Long Term</td>\n",
       "      <td>106480.0</td>\n",
       "      <td>18791.0</td>\n",
       "      <td>12590.0</td>\n",
       "      <td>6060.0</td>\n",
       "      <td>1</td>\n",
       "    </tr>\n",
       "    <tr>\n",
       "      <th>7450</th>\n",
       "      <td>Home Mortgage</td>\n",
       "      <td>1432277.0</td>\n",
       "      <td>10+ years</td>\n",
       "      <td>0.0</td>\n",
       "      <td>16.0</td>\n",
       "      <td>22.8</td>\n",
       "      <td>825176.0</td>\n",
       "      <td>0.0</td>\n",
       "      <td>NaN</td>\n",
       "      <td>0.0</td>\n",
       "      <td>debt consolidation</td>\n",
       "      <td>Short Term</td>\n",
       "      <td>187924.0</td>\n",
       "      <td>458242.0</td>\n",
       "      <td>27094.0</td>\n",
       "      <td>7290.0</td>\n",
       "      <td>1</td>\n",
       "    </tr>\n",
       "    <tr>\n",
       "      <th>7460</th>\n",
       "      <td>Rent</td>\n",
       "      <td>769462.0</td>\n",
       "      <td>5 years</td>\n",
       "      <td>0.0</td>\n",
       "      <td>8.0</td>\n",
       "      <td>17.0</td>\n",
       "      <td>313786.0</td>\n",
       "      <td>0.0</td>\n",
       "      <td>80.0</td>\n",
       "      <td>0.0</td>\n",
       "      <td>debt consolidation</td>\n",
       "      <td>Short Term</td>\n",
       "      <td>109186.0</td>\n",
       "      <td>45524.0</td>\n",
       "      <td>4585.0</td>\n",
       "      <td>7470.0</td>\n",
       "      <td>1</td>\n",
       "    </tr>\n",
       "    <tr>\n",
       "      <th>7496</th>\n",
       "      <td>Home Mortgage</td>\n",
       "      <td>1533984.0</td>\n",
       "      <td>1 year</td>\n",
       "      <td>0.0</td>\n",
       "      <td>10.0</td>\n",
       "      <td>26.5</td>\n",
       "      <td>686312.0</td>\n",
       "      <td>0.0</td>\n",
       "      <td>43.0</td>\n",
       "      <td>0.0</td>\n",
       "      <td>debt consolidation</td>\n",
       "      <td>Long Term</td>\n",
       "      <td>444048.0</td>\n",
       "      <td>456399.0</td>\n",
       "      <td>12783.0</td>\n",
       "      <td>7410.0</td>\n",
       "      <td>1</td>\n",
       "    </tr>\n",
       "  </tbody>\n",
       "</table>\n",
       "<p>400 rows × 17 columns</p>\n",
       "</div>"
      ],
      "text/plain": [
       "     Home Ownership  Annual Income Years in current job  Tax Liens  \\\n",
       "69    Home Mortgage      1408527.0              2 years        0.0   \n",
       "87    Home Mortgage      1533566.0              7 years        0.0   \n",
       "94             Rent      1049294.0              3 years        0.0   \n",
       "96             Rent       757568.0              5 years        0.0   \n",
       "116   Home Mortgage      1039984.0                  NaN        0.0   \n",
       "...             ...            ...                  ...        ...   \n",
       "7422           Rent       694868.0               1 year        0.0   \n",
       "7433           Rent      2011758.0             < 1 year        0.0   \n",
       "7450  Home Mortgage      1432277.0            10+ years        0.0   \n",
       "7460           Rent       769462.0              5 years        0.0   \n",
       "7496  Home Mortgage      1533984.0               1 year        0.0   \n",
       "\n",
       "      Number of Open Accounts  Years of Credit History  Maximum Open Credit  \\\n",
       "69                       12.0                     17.5             700062.0   \n",
       "87                       11.0                     14.8             715462.0   \n",
       "94                        5.0                      6.1             249810.0   \n",
       "96                       13.0                     11.4             383548.0   \n",
       "116                      10.0                     23.8             147950.0   \n",
       "...                       ...                      ...                  ...   \n",
       "7422                      4.0                      7.8             143066.0   \n",
       "7433                      4.0                     14.9              22176.0   \n",
       "7450                     16.0                     22.8             825176.0   \n",
       "7460                      8.0                     17.0             313786.0   \n",
       "7496                     10.0                     26.5             686312.0   \n",
       "\n",
       "      Number of Credit Problems  Months since last delinquent  Bankruptcies  \\\n",
       "69                          0.0                          21.0           0.0   \n",
       "87                          0.0                          19.0           0.0   \n",
       "94                          0.0                           NaN           0.0   \n",
       "96                          0.0                           NaN           0.0   \n",
       "116                         0.0                          63.0           0.0   \n",
       "...                         ...                           ...           ...   \n",
       "7422                        0.0                           NaN           0.0   \n",
       "7433                        0.0                          43.0           0.0   \n",
       "7450                        0.0                           NaN           0.0   \n",
       "7460                        0.0                          80.0           0.0   \n",
       "7496                        0.0                          43.0           0.0   \n",
       "\n",
       "                 Purpose        Term  Current Loan Amount  \\\n",
       "69                 other   Long Term             525998.0   \n",
       "87    debt consolidation  Short Term             210826.0   \n",
       "94         business loan  Short Term             337502.0   \n",
       "96    debt consolidation  Short Term             210518.0   \n",
       "116   debt consolidation  Short Term             224246.0   \n",
       "...                  ...         ...                  ...   \n",
       "7422  debt consolidation   Long Term             244178.0   \n",
       "7433           buy a car   Long Term             106480.0   \n",
       "7450  debt consolidation  Short Term             187924.0   \n",
       "7460  debt consolidation  Short Term             109186.0   \n",
       "7496  debt consolidation   Long Term             444048.0   \n",
       "\n",
       "      Current Credit Balance  Monthly Debt  Credit Score  Credit Default  \n",
       "69                  174135.0        9320.0        6470.0               1  \n",
       "87                  285475.0       18147.0        7440.0               1  \n",
       "94                  119529.0       15215.0        7010.0               1  \n",
       "96                  276583.0       11553.0        7320.0               1  \n",
       "116                  95456.0       13780.0        7390.0               1  \n",
       "...                      ...           ...           ...             ...  \n",
       "7422                122075.0        4268.0        6690.0               1  \n",
       "7433                 18791.0       12590.0        6060.0               1  \n",
       "7450                458242.0       27094.0        7290.0               1  \n",
       "7460                 45524.0        4585.0        7470.0               1  \n",
       "7496                456399.0       12783.0        7410.0               1  \n",
       "\n",
       "[400 rows x 17 columns]"
      ]
     },
     "execution_count": 65,
     "metadata": {},
     "output_type": "execute_result"
    }
   ],
   "source": [
    "data[data[\"Credit Score\"]>1000][data[\"Credit Default\"] == 1]"
   ]
  },
  {
   "cell_type": "code",
   "execution_count": 66,
   "metadata": {},
   "outputs": [
    {
     "name": "stderr",
     "output_type": "stream",
     "text": [
      "C:\\ProgramData\\Anaconda3\\lib\\site-packages\\ipykernel_launcher.py:1: UserWarning: Boolean Series key will be reindexed to match DataFrame index.\n",
      "  \"\"\"Entry point for launching an IPython kernel.\n"
     ]
    },
    {
     "data": {
      "text/plain": [
       "(1184, 17)"
      ]
     },
     "execution_count": 66,
     "metadata": {},
     "output_type": "execute_result"
    }
   ],
   "source": [
    "data[data[\"Credit Score\"]<1000][data[\"Credit Default\"] == 1].shape"
   ]
  },
  {
   "cell_type": "code",
   "execution_count": 67,
   "metadata": {},
   "outputs": [
    {
     "name": "stderr",
     "output_type": "stream",
     "text": [
      "C:\\ProgramData\\Anaconda3\\lib\\site-packages\\ipykernel_launcher.py:1: UserWarning: Boolean Series key will be reindexed to match DataFrame index.\n",
      "  \"\"\"Entry point for launching an IPython kernel.\n"
     ]
    },
    {
     "data": {
      "text/plain": [
       "(400, 17)"
      ]
     },
     "execution_count": 67,
     "metadata": {},
     "output_type": "execute_result"
    }
   ],
   "source": [
    "data[data[\"Credit Score\"]>1000][data[\"Credit Default\"] == 1].shape"
   ]
  },
  {
   "cell_type": "code",
   "execution_count": 68,
   "metadata": {},
   "outputs": [
    {
     "data": {
      "text/plain": [
       "(                Number of Open Accounts\n",
       " Credit Default                         \n",
       " 0                             11.042138\n",
       " 1                             11.357312,\n",
       "                 Annual Income\n",
       " Credit Default               \n",
       " 0                   1225747.0\n",
       " 1                   1055915.5,\n",
       "                 Bankruptcies\n",
       " Credit Default              \n",
       " 0                   0.116794\n",
       " 1                   0.118065,\n",
       "                 Credit Score\n",
       " Credit Default              \n",
       " 0                 723.577885\n",
       " 1                2327.548611)"
      ]
     },
     "execution_count": 68,
     "metadata": {},
     "output_type": "execute_result"
    }
   ],
   "source": [
    "data[[\"Number of Open Accounts\", \"Credit Default\"]].groupby([\"Credit Default\"]).mean(), data[[\"Annual Income\", \"Credit Default\"]].groupby([\"Credit Default\"]).median(), data[[\"Bankruptcies\", \"Credit Default\"]].groupby([\"Credit Default\"]).mean(), data[[\"Credit Score\", \"Credit Default\"]].groupby([\"Credit Default\"]).mean()"
   ]
  },
  {
   "cell_type": "code",
   "execution_count": 69,
   "metadata": {},
   "outputs": [
    {
     "data": {
      "text/plain": [
       "(Home Mortgage    3637\n",
       " Rent             3204\n",
       " Own Home          647\n",
       " Have Mortgage      12\n",
       " Name: Home Ownership, dtype: int64,\n",
       " 10+ years    2332\n",
       " 2 years       705\n",
       " 3 years       620\n",
       " < 1 year      563\n",
       " 5 years       516\n",
       " 1 year        504\n",
       " 4 years       469\n",
       " 6 years       426\n",
       " 7 years       396\n",
       " 8 years       339\n",
       " 9 years       259\n",
       " Name: Years in current job, dtype: int64)"
      ]
     },
     "execution_count": 69,
     "metadata": {},
     "output_type": "execute_result"
    }
   ],
   "source": [
    "data[\"Home Ownership\"].value_counts(), data[\"Years in current job\"].value_counts()"
   ]
  },
  {
   "cell_type": "code",
   "execution_count": 70,
   "metadata": {},
   "outputs": [
    {
     "data": {
      "text/html": [
       "<div>\n",
       "<style scoped>\n",
       "    .dataframe tbody tr th:only-of-type {\n",
       "        vertical-align: middle;\n",
       "    }\n",
       "\n",
       "    .dataframe tbody tr th {\n",
       "        vertical-align: top;\n",
       "    }\n",
       "\n",
       "    .dataframe thead th {\n",
       "        text-align: right;\n",
       "    }\n",
       "</style>\n",
       "<table border=\"1\" class=\"dataframe\">\n",
       "  <thead>\n",
       "    <tr style=\"text-align: right;\">\n",
       "      <th></th>\n",
       "      <th>Credit Default</th>\n",
       "    </tr>\n",
       "    <tr>\n",
       "      <th>Home Ownership</th>\n",
       "      <th></th>\n",
       "    </tr>\n",
       "  </thead>\n",
       "  <tbody>\n",
       "    <tr>\n",
       "      <th>Have Mortgage</th>\n",
       "      <td>2</td>\n",
       "    </tr>\n",
       "    <tr>\n",
       "      <th>Home Mortgage</th>\n",
       "      <td>916</td>\n",
       "    </tr>\n",
       "    <tr>\n",
       "      <th>Own Home</th>\n",
       "      <td>192</td>\n",
       "    </tr>\n",
       "    <tr>\n",
       "      <th>Rent</th>\n",
       "      <td>1003</td>\n",
       "    </tr>\n",
       "  </tbody>\n",
       "</table>\n",
       "</div>"
      ],
      "text/plain": [
       "                Credit Default\n",
       "Home Ownership                \n",
       "Have Mortgage                2\n",
       "Home Mortgage              916\n",
       "Own Home                   192\n",
       "Rent                      1003"
      ]
     },
     "execution_count": 70,
     "metadata": {},
     "output_type": "execute_result"
    }
   ],
   "source": [
    "data[[\"Home Ownership\", \"Credit Default\"]].groupby([\"Home Ownership\"]).sum()"
   ]
  },
  {
   "cell_type": "code",
   "execution_count": 71,
   "metadata": {},
   "outputs": [
    {
     "data": {
      "text/html": [
       "<div>\n",
       "<style scoped>\n",
       "    .dataframe tbody tr th:only-of-type {\n",
       "        vertical-align: middle;\n",
       "    }\n",
       "\n",
       "    .dataframe tbody tr th {\n",
       "        vertical-align: top;\n",
       "    }\n",
       "\n",
       "    .dataframe thead th {\n",
       "        text-align: right;\n",
       "    }\n",
       "</style>\n",
       "<table border=\"1\" class=\"dataframe\">\n",
       "  <thead>\n",
       "    <tr style=\"text-align: right;\">\n",
       "      <th></th>\n",
       "      <th>Credit Default</th>\n",
       "    </tr>\n",
       "    <tr>\n",
       "      <th>Home Ownership</th>\n",
       "      <th></th>\n",
       "    </tr>\n",
       "  </thead>\n",
       "  <tbody>\n",
       "    <tr>\n",
       "      <th>Have Mortgage</th>\n",
       "      <td>12</td>\n",
       "    </tr>\n",
       "    <tr>\n",
       "      <th>Home Mortgage</th>\n",
       "      <td>3637</td>\n",
       "    </tr>\n",
       "    <tr>\n",
       "      <th>Own Home</th>\n",
       "      <td>647</td>\n",
       "    </tr>\n",
       "    <tr>\n",
       "      <th>Rent</th>\n",
       "      <td>3204</td>\n",
       "    </tr>\n",
       "  </tbody>\n",
       "</table>\n",
       "</div>"
      ],
      "text/plain": [
       "                Credit Default\n",
       "Home Ownership                \n",
       "Have Mortgage               12\n",
       "Home Mortgage             3637\n",
       "Own Home                   647\n",
       "Rent                      3204"
      ]
     },
     "execution_count": 71,
     "metadata": {},
     "output_type": "execute_result"
    }
   ],
   "source": [
    "data[[\"Home Ownership\", \"Credit Default\"]].groupby([\"Home Ownership\"]).count()"
   ]
  },
  {
   "cell_type": "code",
   "execution_count": 72,
   "metadata": {},
   "outputs": [
    {
     "name": "stdout",
     "output_type": "stream",
     "text": [
      "            Credit Default\n",
      "Term                      \n",
      "Long Term              816\n",
      "Short Term            1297\n",
      "            Credit Default\n",
      "Term                      \n",
      "Long Term             1944\n",
      "Short Term            5556\n"
     ]
    }
   ],
   "source": [
    "print(data[[\"Term\", \"Credit Default\"]].groupby([\"Term\"]).sum())\n",
    "print(data[[\"Term\", \"Credit Default\"]].groupby([\"Term\"]).count())"
   ]
  },
  {
   "cell_type": "code",
   "execution_count": 73,
   "metadata": {},
   "outputs": [
    {
     "data": {
      "text/html": [
       "<div>\n",
       "<style scoped>\n",
       "    .dataframe tbody tr th:only-of-type {\n",
       "        vertical-align: middle;\n",
       "    }\n",
       "\n",
       "    .dataframe tbody tr th {\n",
       "        vertical-align: top;\n",
       "    }\n",
       "\n",
       "    .dataframe thead th {\n",
       "        text-align: right;\n",
       "    }\n",
       "</style>\n",
       "<table border=\"1\" class=\"dataframe\">\n",
       "  <thead>\n",
       "    <tr style=\"text-align: right;\">\n",
       "      <th></th>\n",
       "      <th>Credit Default</th>\n",
       "    </tr>\n",
       "    <tr>\n",
       "      <th>Years in current job</th>\n",
       "      <th></th>\n",
       "    </tr>\n",
       "  </thead>\n",
       "  <tbody>\n",
       "    <tr>\n",
       "      <th>1 year</th>\n",
       "      <td>142</td>\n",
       "    </tr>\n",
       "    <tr>\n",
       "      <th>10+ years</th>\n",
       "      <td>644</td>\n",
       "    </tr>\n",
       "    <tr>\n",
       "      <th>2 years</th>\n",
       "      <td>193</td>\n",
       "    </tr>\n",
       "    <tr>\n",
       "      <th>3 years</th>\n",
       "      <td>170</td>\n",
       "    </tr>\n",
       "    <tr>\n",
       "      <th>4 years</th>\n",
       "      <td>131</td>\n",
       "    </tr>\n",
       "    <tr>\n",
       "      <th>5 years</th>\n",
       "      <td>145</td>\n",
       "    </tr>\n",
       "    <tr>\n",
       "      <th>6 years</th>\n",
       "      <td>124</td>\n",
       "    </tr>\n",
       "    <tr>\n",
       "      <th>7 years</th>\n",
       "      <td>111</td>\n",
       "    </tr>\n",
       "    <tr>\n",
       "      <th>8 years</th>\n",
       "      <td>92</td>\n",
       "    </tr>\n",
       "    <tr>\n",
       "      <th>9 years</th>\n",
       "      <td>65</td>\n",
       "    </tr>\n",
       "    <tr>\n",
       "      <th>&lt; 1 year</th>\n",
       "      <td>159</td>\n",
       "    </tr>\n",
       "  </tbody>\n",
       "</table>\n",
       "</div>"
      ],
      "text/plain": [
       "                      Credit Default\n",
       "Years in current job                \n",
       "1 year                           142\n",
       "10+ years                        644\n",
       "2 years                          193\n",
       "3 years                          170\n",
       "4 years                          131\n",
       "5 years                          145\n",
       "6 years                          124\n",
       "7 years                          111\n",
       "8 years                           92\n",
       "9 years                           65\n",
       "< 1 year                         159"
      ]
     },
     "execution_count": 73,
     "metadata": {},
     "output_type": "execute_result"
    }
   ],
   "source": [
    "data[[\"Years in current job\", \"Credit Default\"]].groupby([\"Years in current job\"]).sum()"
   ]
  },
  {
   "cell_type": "code",
   "execution_count": 74,
   "metadata": {},
   "outputs": [
    {
     "data": {
      "text/html": [
       "<div>\n",
       "<style scoped>\n",
       "    .dataframe tbody tr th:only-of-type {\n",
       "        vertical-align: middle;\n",
       "    }\n",
       "\n",
       "    .dataframe tbody tr th {\n",
       "        vertical-align: top;\n",
       "    }\n",
       "\n",
       "    .dataframe thead th {\n",
       "        text-align: right;\n",
       "    }\n",
       "</style>\n",
       "<table border=\"1\" class=\"dataframe\">\n",
       "  <thead>\n",
       "    <tr style=\"text-align: right;\">\n",
       "      <th></th>\n",
       "      <th>Credit Default</th>\n",
       "    </tr>\n",
       "    <tr>\n",
       "      <th>Years in current job</th>\n",
       "      <th></th>\n",
       "    </tr>\n",
       "  </thead>\n",
       "  <tbody>\n",
       "    <tr>\n",
       "      <th>1 year</th>\n",
       "      <td>504</td>\n",
       "    </tr>\n",
       "    <tr>\n",
       "      <th>10+ years</th>\n",
       "      <td>2332</td>\n",
       "    </tr>\n",
       "    <tr>\n",
       "      <th>2 years</th>\n",
       "      <td>705</td>\n",
       "    </tr>\n",
       "    <tr>\n",
       "      <th>3 years</th>\n",
       "      <td>620</td>\n",
       "    </tr>\n",
       "    <tr>\n",
       "      <th>4 years</th>\n",
       "      <td>469</td>\n",
       "    </tr>\n",
       "    <tr>\n",
       "      <th>5 years</th>\n",
       "      <td>516</td>\n",
       "    </tr>\n",
       "    <tr>\n",
       "      <th>6 years</th>\n",
       "      <td>426</td>\n",
       "    </tr>\n",
       "    <tr>\n",
       "      <th>7 years</th>\n",
       "      <td>396</td>\n",
       "    </tr>\n",
       "    <tr>\n",
       "      <th>8 years</th>\n",
       "      <td>339</td>\n",
       "    </tr>\n",
       "    <tr>\n",
       "      <th>9 years</th>\n",
       "      <td>259</td>\n",
       "    </tr>\n",
       "    <tr>\n",
       "      <th>&lt; 1 year</th>\n",
       "      <td>563</td>\n",
       "    </tr>\n",
       "  </tbody>\n",
       "</table>\n",
       "</div>"
      ],
      "text/plain": [
       "                      Credit Default\n",
       "Years in current job                \n",
       "1 year                           504\n",
       "10+ years                       2332\n",
       "2 years                          705\n",
       "3 years                          620\n",
       "4 years                          469\n",
       "5 years                          516\n",
       "6 years                          426\n",
       "7 years                          396\n",
       "8 years                          339\n",
       "9 years                          259\n",
       "< 1 year                         563"
      ]
     },
     "execution_count": 74,
     "metadata": {},
     "output_type": "execute_result"
    }
   ],
   "source": [
    "data[[\"Years in current job\", \"Credit Default\"]].groupby([\"Years in current job\"]).count()"
   ]
  },
  {
   "cell_type": "code",
   "execution_count": 75,
   "metadata": {},
   "outputs": [
    {
     "data": {
      "text/plain": [
       "(debt consolidation      5944\n",
       " other                    665\n",
       " home improvements        412\n",
       " business loan            129\n",
       " buy a car                 96\n",
       " medical bills             71\n",
       " major purchase            40\n",
       " take a trip               37\n",
       " buy house                 34\n",
       " small business            26\n",
       " wedding                   15\n",
       " moving                    11\n",
       " educational expenses      10\n",
       " vacation                   8\n",
       " renewable energy           2\n",
       " Name: Purpose, dtype: int64,\n",
       " Short Term    5556\n",
       " Long Term     1944\n",
       " Name: Term, dtype: int64)"
      ]
     },
     "execution_count": 75,
     "metadata": {},
     "output_type": "execute_result"
    }
   ],
   "source": [
    "data[\"Purpose\"].value_counts(), data[\"Term\"].value_counts()"
   ]
  },
  {
   "cell_type": "code",
   "execution_count": 76,
   "metadata": {},
   "outputs": [
    {
     "data": {
      "text/html": [
       "<div>\n",
       "<style scoped>\n",
       "    .dataframe tbody tr th:only-of-type {\n",
       "        vertical-align: middle;\n",
       "    }\n",
       "\n",
       "    .dataframe tbody tr th {\n",
       "        vertical-align: top;\n",
       "    }\n",
       "\n",
       "    .dataframe thead th {\n",
       "        text-align: right;\n",
       "    }\n",
       "</style>\n",
       "<table border=\"1\" class=\"dataframe\">\n",
       "  <thead>\n",
       "    <tr style=\"text-align: right;\">\n",
       "      <th></th>\n",
       "      <th>Credit Default</th>\n",
       "    </tr>\n",
       "    <tr>\n",
       "      <th>Purpose</th>\n",
       "      <th></th>\n",
       "    </tr>\n",
       "  </thead>\n",
       "  <tbody>\n",
       "    <tr>\n",
       "      <th>business loan</th>\n",
       "      <td>55</td>\n",
       "    </tr>\n",
       "    <tr>\n",
       "      <th>buy a car</th>\n",
       "      <td>24</td>\n",
       "    </tr>\n",
       "    <tr>\n",
       "      <th>buy house</th>\n",
       "      <td>9</td>\n",
       "    </tr>\n",
       "    <tr>\n",
       "      <th>debt consolidation</th>\n",
       "      <td>1654</td>\n",
       "    </tr>\n",
       "    <tr>\n",
       "      <th>educational expenses</th>\n",
       "      <td>1</td>\n",
       "    </tr>\n",
       "    <tr>\n",
       "      <th>home improvements</th>\n",
       "      <td>108</td>\n",
       "    </tr>\n",
       "    <tr>\n",
       "      <th>major purchase</th>\n",
       "      <td>9</td>\n",
       "    </tr>\n",
       "    <tr>\n",
       "      <th>medical bills</th>\n",
       "      <td>22</td>\n",
       "    </tr>\n",
       "    <tr>\n",
       "      <th>moving</th>\n",
       "      <td>2</td>\n",
       "    </tr>\n",
       "    <tr>\n",
       "      <th>other</th>\n",
       "      <td>197</td>\n",
       "    </tr>\n",
       "    <tr>\n",
       "      <th>renewable energy</th>\n",
       "      <td>2</td>\n",
       "    </tr>\n",
       "    <tr>\n",
       "      <th>small business</th>\n",
       "      <td>14</td>\n",
       "    </tr>\n",
       "    <tr>\n",
       "      <th>take a trip</th>\n",
       "      <td>10</td>\n",
       "    </tr>\n",
       "    <tr>\n",
       "      <th>vacation</th>\n",
       "      <td>2</td>\n",
       "    </tr>\n",
       "    <tr>\n",
       "      <th>wedding</th>\n",
       "      <td>4</td>\n",
       "    </tr>\n",
       "  </tbody>\n",
       "</table>\n",
       "</div>"
      ],
      "text/plain": [
       "                      Credit Default\n",
       "Purpose                             \n",
       "business loan                     55\n",
       "buy a car                         24\n",
       "buy house                          9\n",
       "debt consolidation              1654\n",
       "educational expenses               1\n",
       "home improvements                108\n",
       "major purchase                     9\n",
       "medical bills                     22\n",
       "moving                             2\n",
       "other                            197\n",
       "renewable energy                   2\n",
       "small business                    14\n",
       "take a trip                       10\n",
       "vacation                           2\n",
       "wedding                            4"
      ]
     },
     "execution_count": 76,
     "metadata": {},
     "output_type": "execute_result"
    }
   ],
   "source": [
    "data[[\"Purpose\", \"Credit Default\"]].groupby([\"Purpose\"]).sum()"
   ]
  },
  {
   "cell_type": "code",
   "execution_count": 77,
   "metadata": {},
   "outputs": [
    {
     "data": {
      "text/html": [
       "<div>\n",
       "<style scoped>\n",
       "    .dataframe tbody tr th:only-of-type {\n",
       "        vertical-align: middle;\n",
       "    }\n",
       "\n",
       "    .dataframe tbody tr th {\n",
       "        vertical-align: top;\n",
       "    }\n",
       "\n",
       "    .dataframe thead th {\n",
       "        text-align: right;\n",
       "    }\n",
       "</style>\n",
       "<table border=\"1\" class=\"dataframe\">\n",
       "  <thead>\n",
       "    <tr style=\"text-align: right;\">\n",
       "      <th></th>\n",
       "      <th>Credit Default</th>\n",
       "    </tr>\n",
       "    <tr>\n",
       "      <th>Term</th>\n",
       "      <th></th>\n",
       "    </tr>\n",
       "  </thead>\n",
       "  <tbody>\n",
       "    <tr>\n",
       "      <th>Long Term</th>\n",
       "      <td>816</td>\n",
       "    </tr>\n",
       "    <tr>\n",
       "      <th>Short Term</th>\n",
       "      <td>1297</td>\n",
       "    </tr>\n",
       "  </tbody>\n",
       "</table>\n",
       "</div>"
      ],
      "text/plain": [
       "            Credit Default\n",
       "Term                      \n",
       "Long Term              816\n",
       "Short Term            1297"
      ]
     },
     "execution_count": 77,
     "metadata": {},
     "output_type": "execute_result"
    }
   ],
   "source": [
    "data[[\"Term\", \"Credit Default\"]].groupby([\"Term\"]).sum()"
   ]
  },
  {
   "cell_type": "code",
   "execution_count": null,
   "metadata": {},
   "outputs": [],
   "source": []
  },
  {
   "cell_type": "code",
   "execution_count": 78,
   "metadata": {},
   "outputs": [
    {
     "data": {
      "text/plain": [
       "0       Short Term\n",
       "1        Long Term\n",
       "2       Short Term\n",
       "3       Short Term\n",
       "4       Short Term\n",
       "           ...    \n",
       "7495    Short Term\n",
       "7496     Long Term\n",
       "7497    Short Term\n",
       "7498    Short Term\n",
       "7499    Short Term\n",
       "Name: Term, Length: 7500, dtype: object"
      ]
     },
     "execution_count": 78,
     "metadata": {},
     "output_type": "execute_result"
    }
   ],
   "source": [
    "data.Term"
   ]
  },
  {
   "cell_type": "markdown",
   "metadata": {},
   "source": [
    "Ищем кореляцию по пирсоны и спирману. "
   ]
  },
  {
   "cell_type": "code",
   "execution_count": 79,
   "metadata": {},
   "outputs": [
    {
     "data": {
      "text/html": [
       "<div>\n",
       "<style scoped>\n",
       "    .dataframe tbody tr th:only-of-type {\n",
       "        vertical-align: middle;\n",
       "    }\n",
       "\n",
       "    .dataframe tbody tr th {\n",
       "        vertical-align: top;\n",
       "    }\n",
       "\n",
       "    .dataframe thead th {\n",
       "        text-align: right;\n",
       "    }\n",
       "</style>\n",
       "<table border=\"1\" class=\"dataframe\">\n",
       "  <thead>\n",
       "    <tr style=\"text-align: right;\">\n",
       "      <th></th>\n",
       "      <th>Annual Income</th>\n",
       "      <th>Tax Liens</th>\n",
       "      <th>Number of Open Accounts</th>\n",
       "      <th>Years of Credit History</th>\n",
       "      <th>Maximum Open Credit</th>\n",
       "      <th>Number of Credit Problems</th>\n",
       "      <th>Months since last delinquent</th>\n",
       "      <th>Bankruptcies</th>\n",
       "      <th>Current Loan Amount</th>\n",
       "      <th>Current Credit Balance</th>\n",
       "      <th>Monthly Debt</th>\n",
       "      <th>Credit Score</th>\n",
       "      <th>Credit Default</th>\n",
       "    </tr>\n",
       "  </thead>\n",
       "  <tbody>\n",
       "    <tr>\n",
       "      <th>Annual Income</th>\n",
       "      <td>1.000000</td>\n",
       "      <td>0.066245</td>\n",
       "      <td>0.188524</td>\n",
       "      <td>0.186531</td>\n",
       "      <td>0.062218</td>\n",
       "      <td>-0.015407</td>\n",
       "      <td>-0.101787</td>\n",
       "      <td>-0.066877</td>\n",
       "      <td>0.032082</td>\n",
       "      <td>0.386481</td>\n",
       "      <td>0.584819</td>\n",
       "      <td>-0.037832</td>\n",
       "      <td>-0.101375</td>\n",
       "    </tr>\n",
       "    <tr>\n",
       "      <th>Tax Liens</th>\n",
       "      <td>0.066245</td>\n",
       "      <td>1.000000</td>\n",
       "      <td>-0.005360</td>\n",
       "      <td>0.009109</td>\n",
       "      <td>-0.002410</td>\n",
       "      <td>0.595339</td>\n",
       "      <td>0.052446</td>\n",
       "      <td>0.057360</td>\n",
       "      <td>-0.007835</td>\n",
       "      <td>-0.010195</td>\n",
       "      <td>0.027211</td>\n",
       "      <td>0.010581</td>\n",
       "      <td>0.024368</td>\n",
       "    </tr>\n",
       "    <tr>\n",
       "      <th>Number of Open Accounts</th>\n",
       "      <td>0.188524</td>\n",
       "      <td>-0.005360</td>\n",
       "      <td>1.000000</td>\n",
       "      <td>0.144819</td>\n",
       "      <td>0.023897</td>\n",
       "      <td>-0.017813</td>\n",
       "      <td>-0.032740</td>\n",
       "      <td>-0.019130</td>\n",
       "      <td>0.001346</td>\n",
       "      <td>0.267325</td>\n",
       "      <td>0.413904</td>\n",
       "      <td>0.016095</td>\n",
       "      <td>0.028884</td>\n",
       "    </tr>\n",
       "    <tr>\n",
       "      <th>Years of Credit History</th>\n",
       "      <td>0.186531</td>\n",
       "      <td>0.009109</td>\n",
       "      <td>0.144819</td>\n",
       "      <td>1.000000</td>\n",
       "      <td>0.029247</td>\n",
       "      <td>0.071259</td>\n",
       "      <td>-0.015375</td>\n",
       "      <td>0.085699</td>\n",
       "      <td>0.010623</td>\n",
       "      <td>0.217856</td>\n",
       "      <td>0.191978</td>\n",
       "      <td>-0.015683</td>\n",
       "      <td>-0.020567</td>\n",
       "    </tr>\n",
       "    <tr>\n",
       "      <th>Maximum Open Credit</th>\n",
       "      <td>0.062218</td>\n",
       "      <td>-0.002410</td>\n",
       "      <td>0.023897</td>\n",
       "      <td>0.029247</td>\n",
       "      <td>1.000000</td>\n",
       "      <td>-0.004750</td>\n",
       "      <td>-0.003849</td>\n",
       "      <td>-0.011650</td>\n",
       "      <td>-0.002334</td>\n",
       "      <td>0.088090</td>\n",
       "      <td>0.010197</td>\n",
       "      <td>-0.009136</td>\n",
       "      <td>-0.014275</td>\n",
       "    </tr>\n",
       "    <tr>\n",
       "      <th>Number of Credit Problems</th>\n",
       "      <td>-0.015407</td>\n",
       "      <td>0.595339</td>\n",
       "      <td>-0.017813</td>\n",
       "      <td>0.071259</td>\n",
       "      <td>-0.004750</td>\n",
       "      <td>1.000000</td>\n",
       "      <td>0.139905</td>\n",
       "      <td>0.730751</td>\n",
       "      <td>-0.008596</td>\n",
       "      <td>-0.124137</td>\n",
       "      <td>-0.042252</td>\n",
       "      <td>-0.018473</td>\n",
       "      <td>0.020088</td>\n",
       "    </tr>\n",
       "    <tr>\n",
       "      <th>Months since last delinquent</th>\n",
       "      <td>-0.101787</td>\n",
       "      <td>0.052446</td>\n",
       "      <td>-0.032740</td>\n",
       "      <td>-0.015375</td>\n",
       "      <td>-0.003849</td>\n",
       "      <td>0.139905</td>\n",
       "      <td>1.000000</td>\n",
       "      <td>0.162710</td>\n",
       "      <td>0.000459</td>\n",
       "      <td>-0.027198</td>\n",
       "      <td>-0.057702</td>\n",
       "      <td>-0.004395</td>\n",
       "      <td>0.002598</td>\n",
       "    </tr>\n",
       "    <tr>\n",
       "      <th>Bankruptcies</th>\n",
       "      <td>-0.066877</td>\n",
       "      <td>0.057360</td>\n",
       "      <td>-0.019130</td>\n",
       "      <td>0.085699</td>\n",
       "      <td>-0.011650</td>\n",
       "      <td>0.730751</td>\n",
       "      <td>0.162710</td>\n",
       "      <td>1.000000</td>\n",
       "      <td>-0.005987</td>\n",
       "      <td>-0.142849</td>\n",
       "      <td>-0.079579</td>\n",
       "      <td>-0.027488</td>\n",
       "      <td>0.001648</td>\n",
       "    </tr>\n",
       "    <tr>\n",
       "      <th>Current Loan Amount</th>\n",
       "      <td>0.032082</td>\n",
       "      <td>-0.007835</td>\n",
       "      <td>0.001346</td>\n",
       "      <td>0.010623</td>\n",
       "      <td>-0.002334</td>\n",
       "      <td>-0.008596</td>\n",
       "      <td>0.000459</td>\n",
       "      <td>-0.005987</td>\n",
       "      <td>1.000000</td>\n",
       "      <td>0.016672</td>\n",
       "      <td>-0.009382</td>\n",
       "      <td>-0.108552</td>\n",
       "      <td>-0.226522</td>\n",
       "    </tr>\n",
       "    <tr>\n",
       "      <th>Current Credit Balance</th>\n",
       "      <td>0.386481</td>\n",
       "      <td>-0.010195</td>\n",
       "      <td>0.267325</td>\n",
       "      <td>0.217856</td>\n",
       "      <td>0.088090</td>\n",
       "      <td>-0.124137</td>\n",
       "      <td>-0.027198</td>\n",
       "      <td>-0.142849</td>\n",
       "      <td>0.016672</td>\n",
       "      <td>1.000000</td>\n",
       "      <td>0.504964</td>\n",
       "      <td>-0.006159</td>\n",
       "      <td>-0.019522</td>\n",
       "    </tr>\n",
       "    <tr>\n",
       "      <th>Monthly Debt</th>\n",
       "      <td>0.584819</td>\n",
       "      <td>0.027211</td>\n",
       "      <td>0.413904</td>\n",
       "      <td>0.191978</td>\n",
       "      <td>0.010197</td>\n",
       "      <td>-0.042252</td>\n",
       "      <td>-0.057702</td>\n",
       "      <td>-0.079579</td>\n",
       "      <td>-0.009382</td>\n",
       "      <td>0.504964</td>\n",
       "      <td>1.000000</td>\n",
       "      <td>0.000234</td>\n",
       "      <td>0.018480</td>\n",
       "    </tr>\n",
       "    <tr>\n",
       "      <th>Credit Score</th>\n",
       "      <td>-0.037832</td>\n",
       "      <td>0.010581</td>\n",
       "      <td>0.016095</td>\n",
       "      <td>-0.015683</td>\n",
       "      <td>-0.009136</td>\n",
       "      <td>-0.018473</td>\n",
       "      <td>-0.004395</td>\n",
       "      <td>-0.027488</td>\n",
       "      <td>-0.108552</td>\n",
       "      <td>-0.006159</td>\n",
       "      <td>0.000234</td>\n",
       "      <td>1.000000</td>\n",
       "      <td>0.442050</td>\n",
       "    </tr>\n",
       "    <tr>\n",
       "      <th>Credit Default</th>\n",
       "      <td>-0.101375</td>\n",
       "      <td>0.024368</td>\n",
       "      <td>0.028884</td>\n",
       "      <td>-0.020567</td>\n",
       "      <td>-0.014275</td>\n",
       "      <td>0.020088</td>\n",
       "      <td>0.002598</td>\n",
       "      <td>0.001648</td>\n",
       "      <td>-0.226522</td>\n",
       "      <td>-0.019522</td>\n",
       "      <td>0.018480</td>\n",
       "      <td>0.442050</td>\n",
       "      <td>1.000000</td>\n",
       "    </tr>\n",
       "  </tbody>\n",
       "</table>\n",
       "</div>"
      ],
      "text/plain": [
       "                              Annual Income  Tax Liens  \\\n",
       "Annual Income                      1.000000   0.066245   \n",
       "Tax Liens                          0.066245   1.000000   \n",
       "Number of Open Accounts            0.188524  -0.005360   \n",
       "Years of Credit History            0.186531   0.009109   \n",
       "Maximum Open Credit                0.062218  -0.002410   \n",
       "Number of Credit Problems         -0.015407   0.595339   \n",
       "Months since last delinquent      -0.101787   0.052446   \n",
       "Bankruptcies                      -0.066877   0.057360   \n",
       "Current Loan Amount                0.032082  -0.007835   \n",
       "Current Credit Balance             0.386481  -0.010195   \n",
       "Monthly Debt                       0.584819   0.027211   \n",
       "Credit Score                      -0.037832   0.010581   \n",
       "Credit Default                    -0.101375   0.024368   \n",
       "\n",
       "                              Number of Open Accounts  \\\n",
       "Annual Income                                0.188524   \n",
       "Tax Liens                                   -0.005360   \n",
       "Number of Open Accounts                      1.000000   \n",
       "Years of Credit History                      0.144819   \n",
       "Maximum Open Credit                          0.023897   \n",
       "Number of Credit Problems                   -0.017813   \n",
       "Months since last delinquent                -0.032740   \n",
       "Bankruptcies                                -0.019130   \n",
       "Current Loan Amount                          0.001346   \n",
       "Current Credit Balance                       0.267325   \n",
       "Monthly Debt                                 0.413904   \n",
       "Credit Score                                 0.016095   \n",
       "Credit Default                               0.028884   \n",
       "\n",
       "                              Years of Credit History  Maximum Open Credit  \\\n",
       "Annual Income                                0.186531             0.062218   \n",
       "Tax Liens                                    0.009109            -0.002410   \n",
       "Number of Open Accounts                      0.144819             0.023897   \n",
       "Years of Credit History                      1.000000             0.029247   \n",
       "Maximum Open Credit                          0.029247             1.000000   \n",
       "Number of Credit Problems                    0.071259            -0.004750   \n",
       "Months since last delinquent                -0.015375            -0.003849   \n",
       "Bankruptcies                                 0.085699            -0.011650   \n",
       "Current Loan Amount                          0.010623            -0.002334   \n",
       "Current Credit Balance                       0.217856             0.088090   \n",
       "Monthly Debt                                 0.191978             0.010197   \n",
       "Credit Score                                -0.015683            -0.009136   \n",
       "Credit Default                              -0.020567            -0.014275   \n",
       "\n",
       "                              Number of Credit Problems  \\\n",
       "Annual Income                                 -0.015407   \n",
       "Tax Liens                                      0.595339   \n",
       "Number of Open Accounts                       -0.017813   \n",
       "Years of Credit History                        0.071259   \n",
       "Maximum Open Credit                           -0.004750   \n",
       "Number of Credit Problems                      1.000000   \n",
       "Months since last delinquent                   0.139905   \n",
       "Bankruptcies                                   0.730751   \n",
       "Current Loan Amount                           -0.008596   \n",
       "Current Credit Balance                        -0.124137   \n",
       "Monthly Debt                                  -0.042252   \n",
       "Credit Score                                  -0.018473   \n",
       "Credit Default                                 0.020088   \n",
       "\n",
       "                              Months since last delinquent  Bankruptcies  \\\n",
       "Annual Income                                    -0.101787     -0.066877   \n",
       "Tax Liens                                         0.052446      0.057360   \n",
       "Number of Open Accounts                          -0.032740     -0.019130   \n",
       "Years of Credit History                          -0.015375      0.085699   \n",
       "Maximum Open Credit                              -0.003849     -0.011650   \n",
       "Number of Credit Problems                         0.139905      0.730751   \n",
       "Months since last delinquent                      1.000000      0.162710   \n",
       "Bankruptcies                                      0.162710      1.000000   \n",
       "Current Loan Amount                               0.000459     -0.005987   \n",
       "Current Credit Balance                           -0.027198     -0.142849   \n",
       "Monthly Debt                                     -0.057702     -0.079579   \n",
       "Credit Score                                     -0.004395     -0.027488   \n",
       "Credit Default                                    0.002598      0.001648   \n",
       "\n",
       "                              Current Loan Amount  Current Credit Balance  \\\n",
       "Annual Income                            0.032082                0.386481   \n",
       "Tax Liens                               -0.007835               -0.010195   \n",
       "Number of Open Accounts                  0.001346                0.267325   \n",
       "Years of Credit History                  0.010623                0.217856   \n",
       "Maximum Open Credit                     -0.002334                0.088090   \n",
       "Number of Credit Problems               -0.008596               -0.124137   \n",
       "Months since last delinquent             0.000459               -0.027198   \n",
       "Bankruptcies                            -0.005987               -0.142849   \n",
       "Current Loan Amount                      1.000000                0.016672   \n",
       "Current Credit Balance                   0.016672                1.000000   \n",
       "Monthly Debt                            -0.009382                0.504964   \n",
       "Credit Score                            -0.108552               -0.006159   \n",
       "Credit Default                          -0.226522               -0.019522   \n",
       "\n",
       "                              Monthly Debt  Credit Score  Credit Default  \n",
       "Annual Income                     0.584819     -0.037832       -0.101375  \n",
       "Tax Liens                         0.027211      0.010581        0.024368  \n",
       "Number of Open Accounts           0.413904      0.016095        0.028884  \n",
       "Years of Credit History           0.191978     -0.015683       -0.020567  \n",
       "Maximum Open Credit               0.010197     -0.009136       -0.014275  \n",
       "Number of Credit Problems        -0.042252     -0.018473        0.020088  \n",
       "Months since last delinquent     -0.057702     -0.004395        0.002598  \n",
       "Bankruptcies                     -0.079579     -0.027488        0.001648  \n",
       "Current Loan Amount              -0.009382     -0.108552       -0.226522  \n",
       "Current Credit Balance            0.504964     -0.006159       -0.019522  \n",
       "Monthly Debt                      1.000000      0.000234        0.018480  \n",
       "Credit Score                      0.000234      1.000000        0.442050  \n",
       "Credit Default                    0.018480      0.442050        1.000000  "
      ]
     },
     "execution_count": 79,
     "metadata": {},
     "output_type": "execute_result"
    }
   ],
   "source": [
    "data.corr('pearson')"
   ]
  },
  {
   "cell_type": "markdown",
   "metadata": {},
   "source": [
    "Начинаем проверять разные способы обработки категорийных данных.\n",
    "И масштабирование numerical continuos данных "
   ]
  },
  {
   "cell_type": "code",
   "execution_count": 80,
   "metadata": {},
   "outputs": [],
   "source": [
    "scale_mapper = {\"< 1 year\":0, \"1 year\":1, \"2 years\":2, \"3 years\":3, \"4 years\":4, \"5 years\":5, \"6 years\":6, \"7 years\":7, \"8 years\":8,\"9 years\":9,\"10+ years\":10,}\n",
    "data[\"Years in current job\"] = data[\"Years in current job\"].replace(scale_mapper)\n",
    "data_test[\"Years in current job\"] = data_test[\"Years in current job\"].replace(scale_mapper)"
   ]
  },
  {
   "cell_type": "code",
   "execution_count": 81,
   "metadata": {},
   "outputs": [],
   "source": [
    "#data.Term = data.Term.replace({'Short Term':0, \"Long Term\": 1})\n",
    "\n",
    "term = pd.get_dummies(data['Term'])\n",
    "data = data.join(term)\n",
    "\n",
    "term_test = pd.get_dummies(data_test['Term'])\n",
    "data_test = data_test.join(term_test)\n",
    "\n",
    "ownership = pd.get_dummies(data['Home Ownership'])\n",
    "data = data.join(ownership)\n",
    "\n",
    "ownership = pd.get_dummies(data_test['Home Ownership'])\n",
    "data_test = data_test.join(ownership)\n",
    "\n",
    "purpose = pd.get_dummies(data['Purpose'])\n",
    "data = data.join(purpose)\n",
    "\n",
    "purpose = pd.get_dummies(data_test['Purpose'])\n",
    "data_test = data_test.join(purpose)"
   ]
  },
  {
   "cell_type": "code",
   "execution_count": 82,
   "metadata": {},
   "outputs": [],
   "source": [
    "sc = MinMaxScaler()\n",
    "a = sc.fit_transform(data[['Annual Income']])\n",
    "b = sc.fit_transform(data[['Current Loan Amount']])\n",
    "c = sc.fit_transform(data[['Credit Score']])\n",
    "data['Annual Income'] = a\n",
    "data['Current Loan Amount'] = b\n",
    "data['Credit Score'] = c\n",
    "\n",
    "a = sc.fit_transform(data_test[['Annual Income']])\n",
    "b = sc.fit_transform(data_test[['Current Loan Amount']])\n",
    "c = sc.fit_transform(data_test[['Credit Score']])\n",
    "data_test['Annual Income'] = a\n",
    "data_test['Current Loan Amount'] = b\n",
    "data_test['Credit Score'] = c\n",
    "\n",
    "\n",
    "#data_test[\"Credit Score\"]= data_test[\"Credit Score\"].fillna(data_test[\"Credit Score\"].median())\n"
   ]
  },
  {
   "cell_type": "code",
   "execution_count": 83,
   "metadata": {},
   "outputs": [
    {
     "data": {
      "text/plain": [
       "debt consolidation      5944\n",
       "other                    665\n",
       "home improvements        412\n",
       "business loan            129\n",
       "buy a car                 96\n",
       "medical bills             71\n",
       "major purchase            40\n",
       "take a trip               37\n",
       "buy house                 34\n",
       "small business            26\n",
       "wedding                   15\n",
       "moving                    11\n",
       "educational expenses      10\n",
       "vacation                   8\n",
       "renewable energy           2\n",
       "Name: Purpose, dtype: int64"
      ]
     },
     "execution_count": 83,
     "metadata": {},
     "output_type": "execute_result"
    }
   ],
   "source": [
    "data.Purpose.value_counts()"
   ]
  },
  {
   "cell_type": "code",
   "execution_count": 84,
   "metadata": {},
   "outputs": [],
   "source": [
    "ownership = [\"Have Mortgage\", \"Home Mortgage\", \"Own Home\", \"Rent\"]\n",
    "purpose = ['debt consolidation', 'other', 'home improvements', 'business loan', 'buy a car', 'medical bills', 'major purchase', 'take a trip', 'buy house', 'small business', 'wedding', 'moving', 'educational expenses', 'vacation', 'renewable energy'] \n",
    "purpose_test = ['debt consolidation', 'other', 'home improvements', 'business loan', 'buy a car', 'medical bills', 'major purchase', 'take a trip', 'buy house', 'small business', 'wedding', 'moving', 'educational expenses', 'vacation']\n",
    "\n",
    "term = [\"Short Term\", \"Long Term\"]\n",
    "#train_data = [\"Annual Income\", \"Current Loan Amount\", \"Credit Score\"]\n",
    "#train_data = [\"Annual Income\", \"Current Loan Amount\", 'Years in current job']\n",
    "train_data = [\"Annual Income\", \"Current Loan Amount\"]\n",
    "credit_score = [\"Credit Score\"]\n",
    "#term = [\"Term\"]\n",
    "\n",
    "credit = [\"Credit Default\"]\n",
    "annual = ['Annual Income']\n"
   ]
  },
  {
   "cell_type": "code",
   "execution_count": 85,
   "metadata": {},
   "outputs": [
    {
     "data": {
      "text/plain": [
       "297"
      ]
     },
     "execution_count": 85,
     "metadata": {},
     "output_type": "execute_result"
    }
   ],
   "source": [
    "\n",
    "loan_val = []\n",
    "score_val = []\n",
    "credit_val = []\n",
    "for i in range(len(data[\"Maximum Open Credit\"])):\n",
    "    if data[\"Maximum Open Credit\"][i] > 8500000:\n",
    "        credit_val.append(data[\"Maximum Open Credit\"].iloc())\n",
    "\n",
    "for i in range(0, len(data[\"Credit Score\"])):\n",
    "    if data[\"Credit Score\"][i]>1000:\n",
    "        score_val.append(i)\n",
    "len(score_list), len(data_test[\"Credit Score\"])\n",
    "\n",
    "for i in range(0, len(data[\"Current Loan Amount\"])):\n",
    "    if data[\"Current Loan Amount\"][i]>789500:\n",
    "        loan_val.append(i)\n",
    "len(loan_list)"
   ]
  },
  {
   "cell_type": "code",
   "execution_count": 86,
   "metadata": {},
   "outputs": [],
   "source": [
    "# print(data[[\"Annual Income\"]][data[\"Credit Default\"]==0].describe())\n",
    "# print(data[[\"Annual Income\"]][data[\"Credit Default\"]==1].describe())\n",
    "# print(data[[\"Credit Score\"]][data[\"Credit Default\"]==0].describe())\n",
    "# print(data[[\"Credit Score\"]][data[\"Credit Default\"]==1].describe())\n",
    "\n",
    "# print(data_test[[\"Annual Income\"]].describe())\n",
    "# print(data_test[[\"Credit Score\"]].describe())"
   ]
  },
  {
   "cell_type": "code",
   "execution_count": null,
   "metadata": {},
   "outputs": [],
   "source": []
  },
  {
   "cell_type": "code",
   "execution_count": 87,
   "metadata": {},
   "outputs": [],
   "source": [
    "# value0 = data[[\"Annual Income\"]][data[\"Credit Default\"]==0].median()\n",
    "# print(value0)\n",
    "# value1 = data[[\"Annual Income\"]][data[\"Credit Default\"]==1].median()\n",
    "# print(value1)\n",
    "# value2 = data[[\"Credit Score\"]][data[\"Credit Default\"]==0].median()\n",
    "# print(value2)\n",
    "# value3 = data[[\"Credit Score\"]][data[\"Credit Default\"]==1].mean()\n",
    "# print(value3)\n",
    "# #value3 = 7000"
   ]
  },
  {
   "cell_type": "markdown",
   "metadata": {},
   "source": [
    "Ниже разные варианты заполнения пропущенных данных, медианное/средние значения, нормальное распределение интерквантильного размаза признака, Iterative imputer "
   ]
  },
  {
   "cell_type": "code",
   "execution_count": 88,
   "metadata": {},
   "outputs": [],
   "source": [
    "# for i in range(len(data[\"Credit Default\"])):\n",
    "#     if data[\"Credit Default\"][i] == 0 and np.isnan(data[\"Annual Income\"][i]):\n",
    "#         data[\"Annual Income\"][i] = value0\n",
    "\n",
    "#     elif data[\"Credit Default\"][i] == 1 and np.isnan(data[\"Annual Income\"][i]):\n",
    "#         data[\"Annual Income\"][i] = value1\n",
    "\n",
    "# for i in range(len(data[\"Credit Default\"])):\n",
    "#     if data[\"Credit Default\"][i] == 0 and np.isnan(data[\"Credit Score\"][i]):\n",
    "#         data[\"Credit Score\"][i] = value2\n",
    "\n",
    "#     elif data[\"Credit Default\"][i] == 1 and np.isnan(data[\"Credit Score\"][i]):\n",
    "#         data[\"Credit Score\"][i] = value3    \n",
    "\n",
    "\n",
    "# for i in range(len(data[\"Credit Default\"])):\n",
    "#     if data[\"Credit Default\"][i] == 0 and np.isnan(data[\"Annual Income\"][i]):\n",
    "#         data[\"Annual Income\"][i] = np.random.randint(9.494775e+05, 1.551236e+06)\n",
    "\n",
    "#     elif data[\"Credit Default\"][i] == 1 and np.isnan(data[\"Annual Income\"][i]):\n",
    "#         data[\"Annual Income\"][i] = np.random.randint(8.689460e+05, 1.355832e+06)\n",
    "\n",
    "# for i in range(len(data[\"Credit Default\"])):\n",
    "#     if data[\"Credit Default\"][i] == 0 and np.isnan(data[\"Credit Score\"][i]):\n",
    "#         data[\"Credit Score\"][i] = np.random.randint(713, 742)\n",
    "\n",
    "#     elif data[\"Credit Default\"][i] == 1 and np.isnan(data[\"Credit Score\"][i]):\n",
    "#         data[\"Credit Score\"][i] = np.random.randint(704, 6162)\n"
   ]
  },
  {
   "cell_type": "code",
   "execution_count": 89,
   "metadata": {},
   "outputs": [
    {
     "data": {
      "text/plain": [
       "(1557, 1557)"
      ]
     },
     "execution_count": 89,
     "metadata": {},
     "output_type": "execute_result"
    }
   ],
   "source": [
    "data[\"Credit Default\"][0]\n",
    "data[\"Annual Income\"].isnull().sum(), data[\"Credit Score\"].isnull().sum()"
   ]
  },
  {
   "cell_type": "code",
   "execution_count": 90,
   "metadata": {},
   "outputs": [],
   "source": [
    "imp = IterativeImputer()\n",
    "#data[train_data] = pd.DataFrame(imp.fit_transform(data[train_data]), columns=data[train_data].columns)\n",
    "#data[credit_score] = pd.DataFrame(imp.fit_transform(data[credit_score]), columns=data[credit_score].columns)\n",
    "#data[ownership+purpose+term+train_data] = pd.DataFrame(imp.fit_transform(data[ownership+purpose+term+train_data]), columns=data[ownership+purpose+term+train_data].columns)\n",
    "\n",
    "data_test[train_data] = pd.DataFrame(imp.fit_transform(data_test[train_data]), columns=data_test[train_data].columns)\n",
    "#data_test[ownership+purpose_test+term+train_data] = pd.DataFrame(imp.fit_transform(data_test[ownership+purpose_test+term+train_data]), columns=data_test[ownership+purpose_test+term+train_data].columns)\n",
    "data_test[credit_score] = pd.DataFrame(imp.fit_transform(data_test[credit_score]), columns=data_test[credit_score].columns)"
   ]
  },
  {
   "cell_type": "markdown",
   "metadata": {},
   "source": [
    "Разделям датасеты "
   ]
  },
  {
   "cell_type": "code",
   "execution_count": 91,
   "metadata": {},
   "outputs": [
    {
     "name": "stdout",
     "output_type": "stream",
     "text": [
      "<class 'pandas.core.frame.DataFrame'>\n",
      "Int64Index: 5943 entries, 0 to 7497\n",
      "Data columns (total 6 columns):\n",
      " #   Column               Non-Null Count  Dtype  \n",
      "---  ------               --------------  -----  \n",
      " 0   Annual Income        5943 non-null   float64\n",
      " 1   Current Loan Amount  5943 non-null   float64\n",
      " 2   Credit Score         5943 non-null   float64\n",
      " 3   Credit Default       5943 non-null   int64  \n",
      " 4   Short Term           5943 non-null   uint8  \n",
      " 5   Long Term            5943 non-null   uint8  \n",
      "dtypes: float64(3), int64(1), uint8(2)\n",
      "memory usage: 243.8 KB\n"
     ]
    }
   ],
   "source": [
    "#data = data.dropna(axis=0)\n",
    "#X = data[[\"Tax Liens\", \"Number of Open Accounts\", 'Years of Credit History', 'Maximum Open Credit', 'Number of Credit Problems', 'Years of Credit History', 'Maximum Open Credit', 'Number of Credit Problems', 'Current Loan Amount', 'Current Credit Balance', 'Monthly Debt', \"Credit Default\"]]\n",
    "\n",
    "X=  data[train_data+credit_score + credit+term]\n",
    "#X[\"Annual Income\"] = X[\"Annual Income\"].dropna()\n",
    "#X[\"Credit Score\"] = X[\"Credit Score\"].dropna()\n",
    "\n",
    "#ANN = np.asarray([data[[\"Annual Income\"]][data[\"Credit Default\"]==0].mean() if x == 0  else data[[\"Annual Income\"]][data[\"Credit Default\"]==1].mean() for x in data[\"Credit Default\"]])\n",
    "#CRE = np.asarray([data[[\"Credit Score\"]][data[\"Credit Default\"]==0].mean() if x == 0 else 7000 for x in data[\"Credit Score\"]])\n",
    "\n",
    "X= X.dropna()\n",
    "\n",
    "#X['Annual Income']= X['Annual Income'].fillna(X['Annual Income'].mean())\n",
    "#X['Credit Score']= X['Credit Score'].fillna(X['Credit Score'].mean())\n",
    "\n",
    "X.info()\n",
    "Y = X[\"Credit Default\"]\n",
    "X = X.drop([\"Credit Default\"], axis = 1)\n"
   ]
  },
  {
   "cell_type": "markdown",
   "metadata": {},
   "source": [
    "Здесь мы пробуем последний разотсмотреть зависимость между категорийными данными метиод Аннова, Chi2, mutual information.\n",
    "Но не совсем правильно это делаем. "
   ]
  },
  {
   "cell_type": "code",
   "execution_count": 92,
   "metadata": {},
   "outputs": [],
   "source": [
    "# ANOVA \n",
    "# from sklearn.feature_selection import SelectKBest\n",
    "# from sklearn.feature_selection import f_classif\n",
    "# fs = SelectKBest(score_func=f_classif, k=3)\n",
    "\n",
    "# # apply feature selection\n",
    "# X_selected = fs.fit_transform(X, Y)\n",
    "# print(X_selected.shape)\n",
    "# X_selected\n",
    "# X_test_selected = fs.fit_transform(X_test)"
   ]
  },
  {
   "cell_type": "code",
   "execution_count": 93,
   "metadata": {},
   "outputs": [
    {
     "name": "stderr",
     "output_type": "stream",
     "text": [
      "C:\\ProgramData\\Anaconda3\\lib\\site-packages\\ipykernel_launcher.py:14: SettingWithCopyWarning: \n",
      "A value is trying to be set on a copy of a slice from a DataFrame.\n",
      "Try using .loc[row_indexer,col_indexer] = value instead\n",
      "\n",
      "See the caveats in the documentation: https://pandas.pydata.org/pandas-docs/stable/user_guide/indexing.html#returning-a-view-versus-a-copy\n",
      "  \n",
      "C:\\ProgramData\\Anaconda3\\lib\\site-packages\\ipykernel_launcher.py:15: SettingWithCopyWarning: \n",
      "A value is trying to be set on a copy of a slice from a DataFrame.\n",
      "Try using .loc[row_indexer,col_indexer] = value instead\n",
      "\n",
      "See the caveats in the documentation: https://pandas.pydata.org/pandas-docs/stable/user_guide/indexing.html#returning-a-view-versus-a-copy\n",
      "  from ipykernel import kernelapp as app\n"
     ]
    }
   ],
   "source": [
    "#X = X.dropna(axis=0)\n",
    "#X = pd.DataFrame(X)\n",
    "#X = X.drop([\"Credit Default\"], axis=1)\n",
    "#X_train, X_valid, y_train, y_valid = train_test_split(features.drop([\"Home Ownership\", \"Tax Liens\", \"Number of Open Accounts\", 'Years of Credit History', 'Maximum Open Credit', 'Number of Credit Problems', 'Years of Credit History', 'Maximum Open Credit', 'Number of Credit Problems', 'Current Loan Amount', 'Current Credit Balance', 'Monthly Debt',   ], axis = 1), lable, test_size = 0.15, shuffle = False)\n",
    "X_train, X_valid, y_train, y_valid = train_test_split(X, Y, test_size = 0.20, shuffle = True)\n",
    "#X_train, X_valid, y_train, y_valid = train_test_split(X_selected, Y, test_size = 0.20, shuffle = True)\n",
    "#X_train, X_valid, y_train, y_valid = train_test_split(X, Y, test_size = 0.10, shuffle = True, stratify = Y)\n",
    "\n",
    "#X_test = data_test[[\"Tax Liens\", \"Number of Open Accounts\", 'Years of Credit History', 'Maximum Open Credit', 'Number of Credit Problems', 'Years of Credit History', 'Maximum Open Credit', 'Number of Credit Problems', 'Current Loan Amount', 'Current Credit Balance', 'Monthly Debt']]\n",
    "X_test = data_test[train_data+credit_score+term]\n",
    "#X_test['Annual Income'] = X_test['Annual Income'].fillna(X_test['Annual Income'].median())\n",
    "#X_test['Credit Score'] = X_test['Credit Score'].fillna(X_test['Credit Score'].median())\n",
    "\n",
    "X_test['Annual Income'] = X_test['Annual Income'].fillna(np.random.randint(8.523115e+05, 1.629734e+06))\n",
    "X_test['Credit Score'] = X_test['Credit Score'].fillna(np.random.randint(710, 743))"
   ]
  },
  {
   "cell_type": "code",
   "execution_count": 94,
   "metadata": {},
   "outputs": [
    {
     "name": "stdout",
     "output_type": "stream",
     "text": [
      "Feature 0: 2.532099\n",
      "Feature 1: 245.596705\n",
      "Feature 2: 615.885233\n",
      "Feature 3: 31.390699\n",
      "Feature 4: 85.014435\n"
     ]
    }
   ],
   "source": [
    "def prepare_inputs(c=X_train, p=X_test):\n",
    "    oe = OrdinalEncoder()\n",
    "    oe.fit(c)\n",
    "    X_train_enc = oe.transform(c)\n",
    "    X_test_enc = oe.transform(str(p))\n",
    "    return X_train_enc, X_test_enc\n",
    " \n",
    "# prepare target\n",
    "def prepare_targets(y_train, y_test):\n",
    "    le = LabelEncoder()\n",
    "    le.fit(y_train)\n",
    "    y_train_enc = le.transform(y_train)\n",
    "    y_test_enc = le.transform(y_test)\n",
    "    return y_train_enc, y_test_enc\n",
    " \n",
    "# feature selection\n",
    "def select_features(X_train, y_train, X_test):\n",
    "    fs = SelectKBest(score_func=chi2, k='all')\n",
    "    fs.fit(X_train, y_train)\n",
    "    X_train_fs = fs.transform(X_train)\n",
    "    X_test_fs = fs.transform(X_test)\n",
    "    return X_train_fs, X_test_fs, fs\n",
    "#X_train_enc, X_test_enc = prepare_inputs(X_train, X_valid)\n",
    "# prepare output data\n",
    "#y_train_enc, y_test_enc = prepare_targets(y_train, y_valid)\n",
    "# feature selection\n",
    "X_train_fs, X_test_fs, fs = select_features(X_train, y_train, X_test)\n",
    "# what are scores for the features\n",
    "for i in range(len(fs.scores_)):\n",
    "    print('Feature %d: %f' % (i, fs.scores_[i]))\n",
    "\n",
    "# pyplot.bar([i for i in range(len(fs.scores_))], fs.scores_)\n",
    "# pyplot.show()"
   ]
  },
  {
   "cell_type": "code",
   "execution_count": 95,
   "metadata": {},
   "outputs": [
    {
     "name": "stdout",
     "output_type": "stream",
     "text": [
      "Feature 0: 0.007037\n",
      "Feature 1: 0.046527\n",
      "Feature 2: 0.112374\n",
      "Feature 3: 0.005906\n",
      "Feature 4: 0.019618\n"
     ]
    }
   ],
   "source": [
    "def select_features1(X_train, y_train, X_test):\n",
    "    fs = SelectKBest(score_func=mutual_info_classif, k='all')\n",
    "    fs.fit(X_train, y_train)\n",
    "    X_train_fs = fs.transform(X_train)\n",
    "    X_test_fs = fs.transform(X_test)\n",
    "    return X_train_fs, X_test_fs, fs\n",
    "#X_train_enc, X_test_enc = prepare_inputs(X_train, X_valid)\n",
    "# prepare output data\n",
    "#y_train_enc, y_test_enc = prepare_targets(y_train, y_valid)\n",
    "# feature selection\n",
    "X_train_fs, X_test_fs, fs = select_features1(X_train, y_train, X_test)\n",
    "# what are scores for the features\n",
    "for i in range(len(fs.scores_)):\n",
    "    print('Feature %d: %f' % (i, fs.scores_[i]))"
   ]
  },
  {
   "cell_type": "code",
   "execution_count": null,
   "metadata": {},
   "outputs": [],
   "source": []
  },
  {
   "cell_type": "markdown",
   "metadata": {},
   "source": [
    "Дальше пробуем разные модели, в т.ч. с перебором параметров GridSearchCV и VotingEnsamle вконце."
   ]
  },
  {
   "cell_type": "code",
   "execution_count": null,
   "metadata": {},
   "outputs": [],
   "source": []
  },
  {
   "cell_type": "code",
   "execution_count": 96,
   "metadata": {},
   "outputs": [
    {
     "name": "stdout",
     "output_type": "stream",
     "text": [
      "0.24509803921568626 1.0 0.39370078740157477\n"
     ]
    }
   ],
   "source": [
    "ridge_classifier  = RidgeClassifier(alpha=.4)\n",
    "ridge_classifier.fit(X_train, y_train)\n",
    "y_pred_class_ridge = ridge_classifier.predict(X_valid)\n",
    "Score(y_valid, y_pred_class_ridge)\n",
    "\n",
    "y_test_class_ridge = ridge_classifier.predict(X_test)\n",
    "\n"
   ]
  },
  {
   "cell_type": "code",
   "execution_count": 97,
   "metadata": {},
   "outputs": [
    {
     "data": {
      "text/plain": [
       "array([0.35751295, 0.39086294, 0.3989899 , 0.46601942, 0.3989899 ])"
      ]
     },
     "execution_count": 97,
     "metadata": {},
     "output_type": "execute_result"
    }
   ],
   "source": [
    "scores = cross_val_score(ridge_classifier, X, Y, cv=5, scoring='f1')\n",
    "scores"
   ]
  },
  {
   "cell_type": "code",
   "execution_count": 98,
   "metadata": {},
   "outputs": [
    {
     "name": "stdout",
     "output_type": "stream",
     "text": [
      "1.0 0.25735912531539107 0.40936454849498327\n",
      "0.9705882352941176 0.25984251968503935 0.4099378881987577\n",
      "1143\n"
     ]
    }
   ],
   "source": [
    "sgd_classifier  = SGDClassifier(penalty= 'elasticnet', loss= 'modified_huber', learning_rate= 'optimal', eta0= 1000, class_weight= {1: 0.8, 0: 0.004}, alpha= 100  )\n",
    "sgd_classifier.fit(X_train, y_train)\n",
    "y_pred_class_sgd = sgd_classifier.predict(X_valid)\n",
    "score3 = f1_score(y_valid, y_pred_class_sgd, zero_division=1)\n",
    "\n",
    "\n",
    "#sgd_classifier1  = SGDClassifier(loss=\"epsilon_insensitive\",  learning_rate=\"optimal\", penalty=\"elasticnet\")\n",
    "sgd_classifier1  = SGDClassifier(loss=\"squared_epsilon_insensitive\", n_jobs=-1, penalty=\"l2\",  learning_rate=\"optimal\", max_iter=5000,early_stopping=True, )\n",
    "sgd_classifier1.fit(X_train, y_train)\n",
    "y_pred_class_sgd1 = sgd_classifier1.predict(X_valid)\n",
    "Score(y_valid, y_pred_class_sgd)\n",
    "Score(y_valid, y_pred_class_sgd1)\n",
    "\n",
    "y_pred_test_sgd = sgd_classifier.predict(X_test)\n",
    "y_pred_test_sgd1 = sgd_classifier1.predict(X_test)\n",
    "\n",
    "print(y_pred_class_sgd1.sum())\n"
   ]
  },
  {
   "cell_type": "code",
   "execution_count": 99,
   "metadata": {},
   "outputs": [],
   "source": [
    "# loss = ['hinge', 'log', 'modified_huber', 'squared_hinge',  \n",
    "# 'perceptron']\n",
    "# penalty = ['l1', 'l2', 'elasticnet'] \n",
    "# alpha = [0.0001, 0.001, 0.01, 0.1, 1, 10, 100, 1000] \n",
    "# learning_rate = ['constant', 'optimal', 'invscaling', 'adaptive'] \n",
    "# class_weight = [{1:0.5, 0:0.5}, {1:0.4, 0:0.6}, {1:0.6, 0:0.4}, {1:0.7, 0:0.3}] \n",
    "# eta0 = [1, 10, 100] \n",
    "# param_distributions = dict(loss=loss, \n",
    "# penalty=penalty, \n",
    "# alpha=alpha, \n",
    "# learning_rate=learning_rate, \n",
    "# class_weight=class_weight, \n",
    "# eta0=eta0) \n",
    "# from sklearn.linear_model import SGDClassifier \n",
    "# from sklearn.model_selection import RandomizedSearchCV \n",
    "# sgd = SGDClassifier(loss=\"hinge\", penalty=\"l2\", max_iter=5) \n",
    "# random = RandomizedSearchCV(estimator=sgd, \n",
    "# param_distributions=param_distributions, \n",
    "# scoring='roc_auc', \n",
    "# verbose=1, n_jobs=-1, \n",
    "# n_iter=1000) \n",
    "# random_result = random.fit(X_train, y_train) \n",
    "# print('Best Score: ', random_result.best_score_) \n",
    "# print('Best Params: ', random_result.best_params_) "
   ]
  },
  {
   "cell_type": "code",
   "execution_count": 100,
   "metadata": {},
   "outputs": [],
   "source": [
    "# sgd_classifier2 = SGDClassifier()\n",
    "# parameters = {''}\n",
    "# GSrfc = GridSearchCV(estimator = sgd_classifier, param_grid = parameters, n_jobs=-1, cv=5)\n",
    "# GSrfc.fit(X, Y)\n",
    "# GSrfc.best_params_"
   ]
  },
  {
   "cell_type": "code",
   "execution_count": 101,
   "metadata": {},
   "outputs": [],
   "source": [
    "# filename = 'sgd1_534_model.sav'\n",
    "# pickle.dump(sgd_classifier1, open(filename, 'wb'))"
   ]
  },
  {
   "cell_type": "code",
   "execution_count": 102,
   "metadata": {},
   "outputs": [],
   "source": [
    "# filename = 'sgd1_534_model_ready.sav'\n",
    "# joblib.dump(sgd_classifier1, open(filename, 'wb'))"
   ]
  },
  {
   "cell_type": "code",
   "execution_count": 103,
   "metadata": {},
   "outputs": [],
   "source": [
    "filename = 'sgd1_534_model.sav'\n",
    "loaded_model = pickle.load(open(filename, 'rb'))\n",
    "#result = loaded_model.score(X_train, y_train)\n",
    "# result = loaded_model.score(X_valid, y_valid)\n",
    "# print(result)\n",
    "#predict = loaded_model.predict(X_valid)\n",
    "#print(predict)\n",
    "# loaded_model = joblib.load(filename)\n",
    "# result = loaded_model.score(X_test, Y_test)\n",
    "# print(result)"
   ]
  },
  {
   "cell_type": "code",
   "execution_count": null,
   "metadata": {},
   "outputs": [],
   "source": []
  },
  {
   "cell_type": "code",
   "execution_count": 104,
   "metadata": {},
   "outputs": [
    {
     "data": {
      "text/plain": [
       "array([0.32520325, 0.26484018, 0.41369672, 0.31111111, 0.40332147])"
      ]
     },
     "execution_count": 104,
     "metadata": {},
     "output_type": "execute_result"
    }
   ],
   "source": [
    "scores = cross_val_score(sgd_classifier1, X, Y, cv=5, scoring='f1')\n",
    "scores"
   ]
  },
  {
   "cell_type": "code",
   "execution_count": 105,
   "metadata": {},
   "outputs": [
    {
     "name": "stdout",
     "output_type": "stream",
     "text": [
      "0.2581699346405229\n",
      "0.9875\n",
      "0.4093264248704664\n"
     ]
    },
    {
     "data": {
      "text/plain": [
       "189"
      ]
     },
     "execution_count": 105,
     "metadata": {},
     "output_type": "execute_result"
    }
   ],
   "source": [
    "lgbm_class = LGBMClassifier(boosting_type='dart', num_leaves= 31, reg_alpha= 0.1, min_data_in_leaf= 300, lambda_l1= 1.5, lambda_l2= 1)\n",
    "lgbm_class.fit(X_train, y_train)\n",
    "y_pred_class_lgbm = lgbm_class.predict(X_valid)\n",
    "print(recall_score(y_valid, y_pred_class_lgbm, zero_division=1))\n",
    "print(precision_score(y_valid, y_pred_class_lgbm, zero_division=1))\n",
    "print(f1_score(y_valid, y_pred_class_lgbm, zero_division=1))\n",
    "y_test_class_lgbm = lgbm_class.predict(X_test)\n",
    "np.sum(y_test_class_lgbm)"
   ]
  },
  {
   "cell_type": "code",
   "execution_count": 106,
   "metadata": {},
   "outputs": [],
   "source": [
    "# parameters = {'boosting_type':('gbdt','dart', 'goss', 'rf'), 'learning_rate':[0.01,0.05,0.1,0.2,0.5,0.8,1], 'num_leaves': [31, 127], 'reg_alpha': [0.1, 0.5], 'min_data_in_leaf': [30, 50, 100, 300, 400], 'lambda_l1': [0, 1, 1.5], 'lambda_l2': [0, 1]}\n",
    "# GSrfc = GridSearchCV(estimator = lgbm_class, param_grid = parameters, n_jobs=-1, cv=5)\n",
    "# GSrfc.fit(X, Y)\n",
    "# GSrfc.best_params_"
   ]
  },
  {
   "cell_type": "code",
   "execution_count": 107,
   "metadata": {},
   "outputs": [
    {
     "data": {
      "text/plain": [
       "array([0.40291262, 0.4097561 , 0.44811321, 0.49767442, 0.44496487])"
      ]
     },
     "execution_count": 107,
     "metadata": {},
     "output_type": "execute_result"
    }
   ],
   "source": [
    "scores = cross_val_score(lgbm_class, X, Y, cv=5, scoring='f1')\n",
    "scores"
   ]
  },
  {
   "cell_type": "code",
   "execution_count": 108,
   "metadata": {},
   "outputs": [
    {
     "name": "stdout",
     "output_type": "stream",
     "text": [
      "0.2875816993464052 0.9263157894736842 0.4389027431421446\n"
     ]
    }
   ],
   "source": [
    "gbc = GradientBoostingClassifier(n_estimators=100, learning_rate=0.9,\n",
    "max_depth=1).fit(X_train, y_train)\n",
    "y_pred_class_gbc = gbc.predict(X_valid)\n",
    "y_test_class_gbc = gbc.predict(X_test)\n",
    "Score(y_valid, y_pred_class_gbc)\n"
   ]
  },
  {
   "cell_type": "code",
   "execution_count": 109,
   "metadata": {},
   "outputs": [],
   "source": [
    "# ctb = CatBoostClassifier().fit(X_train, y_train)\n",
    "# y_pred_class_ctb = ctb.predict(X_valid)\n",
    "# y_test_class_ctb = ctb.predict(X_test)\n",
    "# score1 = f1_score(y_valid, y_pred_class_ctb, zero_division=1)\n",
    "# score1"
   ]
  },
  {
   "cell_type": "code",
   "execution_count": null,
   "metadata": {},
   "outputs": [],
   "source": []
  },
  {
   "cell_type": "code",
   "execution_count": 110,
   "metadata": {},
   "outputs": [],
   "source": [
    "rfc_class = RandomForestClassifier(n_estimators = 100, max_features= 'auto', criterion= 'entropy')\n",
    "rfc_class.fit(X, Y)\n",
    "y_pred_class_rfc = rfc_class.predict(X_valid)\n",
    "# print(y_pred_class_rfc.sum())\n",
    "\n",
    "y_test_class_rfc = rfc_class.predict(X_test)\n",
    "#Score(y_valid, y_pred_class_rfc)\n",
    "\n",
    "\n"
   ]
  },
  {
   "cell_type": "code",
   "execution_count": 111,
   "metadata": {},
   "outputs": [],
   "source": [
    "# rfc_class1 = RandomForestClassifier()\n",
    "# parameters = {'n_estimators': [15, 50, 75, 100, 125, 150, 200, 300], \"criterion\": (\"gini\", \"entropy\"), 'max_features': ['auto', 'sqrt', 'log2']}\n",
    "\n",
    "# GSrfc = GridSearchCV(estimator = rfc_class1, param_grid = parameters, n_jobs=-1, cv=5)\n",
    "# GSrfc.fit(X, Y)\n",
    "# # GSrfc.fit(X, Y)\n",
    "# # GridSearchCV(estimator=SVC(), param_grid={'C': [1, 10], 'kernel': ('linear', 'rbf')})\n",
    "# # sorted(clf.cv_results_.keys())\n",
    "# #sorted(GSrfc.cv_results_)\n",
    "# GSrfc.best_params_"
   ]
  },
  {
   "cell_type": "code",
   "execution_count": null,
   "metadata": {},
   "outputs": [],
   "source": []
  },
  {
   "cell_type": "code",
   "execution_count": null,
   "metadata": {},
   "outputs": [],
   "source": []
  },
  {
   "cell_type": "code",
   "execution_count": 112,
   "metadata": {},
   "outputs": [
    {
     "data": {
      "text/plain": [
       "array([0.44210526, 0.46      , 0.49901768, 0.48111332, 0.44117647])"
      ]
     },
     "execution_count": 112,
     "metadata": {},
     "output_type": "execute_result"
    }
   ],
   "source": [
    "scores = cross_val_score(rfc_class, X, Y, cv=5, scoring='f1')\n",
    "scores"
   ]
  },
  {
   "cell_type": "code",
   "execution_count": 113,
   "metadata": {},
   "outputs": [
    {
     "data": {
      "text/plain": [
       "(array([1, 1, 0, ..., 1, 1, 0], dtype=int64),\n",
       " array([0, 0, 1, ..., 0, 0, 1], dtype=int64))"
      ]
     },
     "execution_count": 113,
     "metadata": {},
     "output_type": "execute_result"
    }
   ],
   "source": [
    "y_test_class_lgbm_inverse = 1 - y_test_class_lgbm\n",
    "y_test_class_lgbm_inverse, y_test_class_lgbm"
   ]
  },
  {
   "cell_type": "code",
   "execution_count": 114,
   "metadata": {},
   "outputs": [
    {
     "name": "stdout",
     "output_type": "stream",
     "text": [
      "0.5326797385620915 0.5207667731629393 0.5266558966074313\n"
     ]
    }
   ],
   "source": [
    "lgcrgr = LogisticRegression(C= 0.1, class_weight= {1: 0.7, 0: 0.3}, penalty= 'l1', solver= 'liblinear')\n",
    "lgcrgr.fit(X_train, y_train)\n",
    "y_pred_lgc = lgcrgr.predict(X_valid)\n",
    "#lgcrgr.fit(X_train, y_train)\n",
    "y_test_lgc = lgcrgr.predict(X_test)\n",
    "Score(y_valid, y_pred_lgc)\n",
    "\n"
   ]
  },
  {
   "cell_type": "code",
   "execution_count": 115,
   "metadata": {},
   "outputs": [
    {
     "data": {
      "text/plain": [
       "array([0.54773083, 0.49922958, 0.55120482, 0.55806938, 0.49319213])"
      ]
     },
     "execution_count": 115,
     "metadata": {},
     "output_type": "execute_result"
    }
   ],
   "source": [
    "scores = cross_val_score(lgcrgr, X, Y, cv=5, scoring='f1')\n",
    "scores"
   ]
  },
  {
   "cell_type": "code",
   "execution_count": 116,
   "metadata": {},
   "outputs": [],
   "source": [
    "# penalty = ['l1', 'l2'] \n",
    "# C = [0.0001, 0.001, 0.01, 0.1, 1, 10, 100, 1000] \n",
    "# class_weight = [{1:0.5, 0:0.5}, {1:0.4, 0:0.6}, {1:0.6, 0:0.4}, {1:0.7, 0:0.3}] \n",
    "# solver = ['liblinear', 'saga'] \n",
    "# param_grid = dict(penalty=penalty, \n",
    "# C=C, \n",
    "# class_weight=class_weight, \n",
    "# solver=solver) \n",
    "# logistic = LogisticRegression() \n",
    "# grid = GridSearchCV(estimator=logistic, \n",
    "# param_grid=param_grid, \n",
    "# scoring='roc_auc', \n",
    "# verbose=1, \n",
    "# n_jobs=-1) \n",
    "# grid_result = grid.fit(X_train, y_train) \n",
    "# print('Best Score: ', grid_result.best_score_) \n",
    "# print('Best Params: ', grid_result.best_params_) "
   ]
  },
  {
   "cell_type": "code",
   "execution_count": 117,
   "metadata": {},
   "outputs": [
    {
     "name": "stdout",
     "output_type": "stream",
     "text": [
      "0.39869281045751637 0.7011494252873564 0.5083333333333333\n"
     ]
    }
   ],
   "source": [
    "import numpy as np\n",
    "from sklearn.linear_model import LogisticRegression\n",
    "from sklearn.naive_bayes import GaussianNB\n",
    "from sklearn.ensemble import RandomForestClassifier, VotingClassifier\n",
    "clf1 = LogisticRegression(multi_class='multinomial', C= 0.1, class_weight= {1: 0.7, 0: 0.3}, penalty= 'l2', solver= 'lbfgs')\n",
    "\n",
    "clf2 = RandomForestClassifier(n_estimators=100, criterion='entropy', max_features= \"auto\")\n",
    "clf3 = GaussianNB()\n",
    "#clf4\n",
    "eclf1 = VotingClassifier(estimators=[('lr', lgbm_class), ('rf', clf2), ('gnb', clf3)],  voting='soft', weights=(2, 2, 1))\n",
    "#eclf1 = VotingClassifier(estimators=[('lr', clf1),('lw', lgbm_class), ('rf', clf2)],  voting='soft', weights=(1, 1,  1)) 0.94\n",
    "#eclf1 = VotingClassifier(estimators=[('lr', clf1), ('gnb', clf3), ('lw', lgbm_class), ('rf', clf2)],  voting='soft', weights=(1, 2, 2, 1))\n",
    "eclf1.fit(X_train, y_train)\n",
    "y_pred_eclf1 = eclf1.predict(X_valid)\n",
    "\n",
    "Score(y_valid, y_pred_eclf1)\n",
    "# np.array_equal(eclf1.named_estimators_.lr.predict(X), eclf1.named_estimators_['lr'].predict(X))\n",
    "# eclf2 = VotingClassifier(estimators=[('lr', clf1), ('rf', clf2), ('gnb', clf3)], voting='soft')\n",
    "# eclf2 = eclf2.fit(X, y)\n",
    "\n",
    "# eclf3 = VotingClassifier(estimators=[('lr', clf1), ('rf', clf2), ('gnb', clf3)], voting='soft', weights=[2,1,1], flatten_transform=True)\n",
    "# eclf3 = eclf3.fit(X, y)\n",
    "\n",
    "y_test_eclf1 = eclf1.predict(X_test)"
   ]
  },
  {
   "cell_type": "code",
   "execution_count": 118,
   "metadata": {},
   "outputs": [],
   "source": [
    "#eclf2 = VotingClassifier(estimators=[('lr', lgbm_class), ('rf', clf2), ('gnb', lgbm_class)],  voting='soft', weights=(1, 2, 2))\n",
    "eclf2 = VotingClassifier(estimators=[('lr', clf1), ('gnb', clf3), ('lw', lgbm_class), ('rf', clf2)],  voting='soft', weights=(1, 2, 2, 1))\n",
    "eclf2 = eclf2.fit(X, Y)\n",
    "y_test_eclf2 = eclf2.predict(X_test)\n",
    "\n"
   ]
  },
  {
   "cell_type": "code",
   "execution_count": 119,
   "metadata": {},
   "outputs": [
    {
     "data": {
      "text/plain": [
       "375"
      ]
     },
     "execution_count": 119,
     "metadata": {},
     "output_type": "execute_result"
    }
   ],
   "source": [
    "y_test_eclf1.sum()"
   ]
  },
  {
   "cell_type": "code",
   "execution_count": 120,
   "metadata": {},
   "outputs": [],
   "source": [
    "#filename = 'eclf1_TRYOUT_model.sav'\n",
    "#pickle.dump(eclf1, open(filename, 'wb'))"
   ]
  },
  {
   "cell_type": "code",
   "execution_count": 121,
   "metadata": {},
   "outputs": [
    {
     "data": {
      "text/plain": [
       "760"
      ]
     },
     "execution_count": 121,
     "metadata": {},
     "output_type": "execute_result"
    }
   ],
   "source": [
    "y_test_eclf2.sum()"
   ]
  },
  {
   "cell_type": "markdown",
   "metadata": {},
   "source": [
    "Здесь мы сверяем выбросы найденные нами и сохраненные в списки с классами определёнными моделями и приходим к выводу, что основные модели отлавливают те сами выбросы которые мы нашли а точки обоих классов с одинаковым походим распределением (а это почти все) делит как придётся.\n",
    "Проблема кроется в большом количестве пропусков в тест сете.\n",
    "При заполнении пропусков трейна нормальным распределением интерквантильных данных по Credit Score и Annual Income - f1 score на кросс валидации доходит до ~68 процентов."
   ]
  },
  {
   "cell_type": "code",
   "execution_count": 122,
   "metadata": {},
   "outputs": [
    {
     "name": "stdout",
     "output_type": "stream",
     "text": [
      "375\n"
     ]
    }
   ],
   "source": [
    "y_pred_test_corr = y_test_eclf1\n",
    "print(np.asarray(y_pred_test_corr).sum())\n",
    "\n",
    "for i in credit_list:\n",
    "    y_pred_test_corr[i] = 0  \n",
    "\n",
    "for i in loan_list:\n",
    "    y_pred_test_corr[i] = 0  \n",
    "\n",
    "for i in score_list:\n",
    "    y_pred_test_corr[i] = 1\n",
    "\n",
    "\n",
    "#(y_test_eclf1 - y_pred_test_corr).sum()"
   ]
  },
  {
   "cell_type": "code",
   "execution_count": null,
   "metadata": {},
   "outputs": [],
   "source": []
  },
  {
   "cell_type": "code",
   "execution_count": null,
   "metadata": {},
   "outputs": [],
   "source": []
  },
  {
   "cell_type": "code",
   "execution_count": 123,
   "metadata": {},
   "outputs": [
    {
     "name": "stdout",
     "output_type": "stream",
     "text": [
      "760\n",
      "759\n"
     ]
    }
   ],
   "source": [
    "y_pred_test_corr1 = y_test_eclf2.tolist()\n",
    "print(np.asarray(y_pred_test_corr1).sum())\n",
    "\n",
    "for i in credit_list:\n",
    "    y_pred_test_corr1[i] = 0  \n",
    "\n",
    "for i in loan_list:\n",
    "    y_pred_test_corr1[i] = 0  \n",
    "\n",
    "for i in score_list:\n",
    "    y_pred_test_corr1[i] = 1\n",
    "\n",
    "\n",
    "#(y_test_eclf2 - y_pred_test_corr1).sum()\n",
    "print(np.asarray(y_pred_test_corr1).sum())"
   ]
  },
  {
   "cell_type": "code",
   "execution_count": null,
   "metadata": {},
   "outputs": [],
   "source": []
  },
  {
   "cell_type": "code",
   "execution_count": 124,
   "metadata": {},
   "outputs": [],
   "source": [
    "#y_pred_test_sgd\n",
    "\n",
    "index = pd.Series(range(0, 2500))\n",
    "\n",
    "predict = y_pred_test_corr1#.astype(int)\n",
    "\n",
    "submission = pd.DataFrame(list(zip(index, predict))  , columns = ['Id', \"Credit Default\"])\n",
    "\n",
    "submission.to_csv('C:\\gb-credit-default\\Credit_default_submission.csv', index = False)\n"
   ]
  },
  {
   "cell_type": "code",
   "execution_count": 125,
   "metadata": {},
   "outputs": [
    {
     "data": {
      "text/plain": [
       "(375, 760)"
      ]
     },
     "execution_count": 125,
     "metadata": {},
     "output_type": "execute_result"
    }
   ],
   "source": [
    "y_test_eclf1.sum(), y_test_eclf2.sum()"
   ]
  },
  {
   "cell_type": "markdown",
   "metadata": {},
   "source": [
    "Далее блок по Unsupervised learning, проблема таже - выбросы видит, остальные данные мешает в кучу, т.к. распределение обоих классов вне выбросов похожее."
   ]
  },
  {
   "cell_type": "code",
   "execution_count": 126,
   "metadata": {},
   "outputs": [
    {
     "data": {
      "image/png": "[encoded data removed]",
      "text/plain": [
       "<Figure size 720x720 with 1 Axes>"
      ]
     },
     "metadata": {
      "needs_background": "light"
     },
     "output_type": "display_data"
    }
   ],
   "source": [
    "wcss = []\n",
    "for i in range(1,11):\n",
    "   model = KMeans(n_clusters = i, init = \"k-means++\")\n",
    "   model.fit(X)\n",
    "   wcss.append(model.inertia_)\n",
    "plt.figure(figsize=(10,10))\n",
    "plt.plot(range(1,11), wcss)\n",
    "plt.xlabel('Number of clusters')\n",
    "plt.ylabel('WCSS')\n",
    "plt.show()"
   ]
  },
  {
   "cell_type": "code",
   "execution_count": 127,
   "metadata": {},
   "outputs": [],
   "source": [
    "# pca = PCA(4)\n",
    "# data_cluster = pca.fit_transform(X)\n"
   ]
  },
  {
   "cell_type": "code",
   "execution_count": 128,
   "metadata": {},
   "outputs": [],
   "source": [
    "# plt.figure(figsize=(10,10))\n",
    "# var = np.round(pca.explained_variance_ratio_*100, decimals = 1)\n",
    "# lbls = [str(x) for x in range(1,len(var)+1)]\n",
    "# plt.bar(x=range(1,len(var)+1), height = var, tick_label = lbls)\n",
    "# plt.show()"
   ]
  },
  {
   "cell_type": "code",
   "execution_count": 129,
   "metadata": {},
   "outputs": [],
   "source": [
    "# #centers = np.array(model2.cluster_centers_)\n",
    "# model = KMeans(n_clusters = 4, init = \"k-means++\")\n",
    "# label = model.fit_predict(X)\n",
    "# plt.figure(figsize=(10,10))\n",
    "# uniq = np.unique(label)\n",
    "# # for i in uniq:\n",
    "# #     plt.scatter(X[label == i , 0] , X[label == i , 1] , label = i)\n",
    "# # plt.scatter(centers[:,0], centers[:,1], marker=\"x\", color='k')\n",
    "# # #This is done to find the centroid for each clusters.\n",
    "# # plt.legend()\n",
    "# # plt.show()"
   ]
  },
  {
   "cell_type": "code",
   "execution_count": 130,
   "metadata": {},
   "outputs": [],
   "source": [
    "# train_list"
   ]
  },
  {
   "cell_type": "code",
   "execution_count": 131,
   "metadata": {},
   "outputs": [],
   "source": [
    "# cluster_list = [label[i] for i in train_list]  \n",
    "# a = pd.DataFrame(cluster_list)\n",
    "# b = pd.DataFrame(label)\n",
    "# a[0].value_counts(), b[0].value_counts(), "
   ]
  },
  {
   "cell_type": "markdown",
   "metadata": {},
   "source": [
    "Multilayer Perceptron"
   ]
  },
  {
   "cell_type": "code",
   "execution_count": 132,
   "metadata": {},
   "outputs": [
    {
     "name": "stdout",
     "output_type": "stream",
     "text": [
      "Num GPUs Available:  0\n"
     ]
    }
   ],
   "source": [
    "from tensorflow import keras\n",
    "import tensorflow as tf\n",
    "\n",
    "from tensorflow.python.keras.layers import Input, Dense, Dropout, LSTM, Flatten, RepeatVector, Conv1D, MaxPool1D, MaxPooling1D, BatchNormalization\n",
    "from tensorflow.python.keras.models import Sequential\n",
    "\n",
    "from tensorflow.keras.layers.experimental import preprocessing\n",
    "\n",
    "tf.config.list_physical_devices('GPU')\n",
    "print(\"Num GPUs Available: \", len(tf.config.list_physical_devices('GPU')))"
   ]
  },
  {
   "cell_type": "code",
   "execution_count": 291,
   "metadata": {},
   "outputs": [],
   "source": [
    "METRICS = [\n",
    "      keras.metrics.TruePositives(name='tp'),\n",
    "      keras.metrics.FalsePositives(name='fp'),\n",
    "      keras.metrics.TrueNegatives(name='tn'),\n",
    "      keras.metrics.FalseNegatives(name='fn'), \n",
    "      keras.metrics.BinaryAccuracy(name='accuracy'),\n",
    "      keras.metrics.Precision(name='precision'),\n",
    "      keras.metrics.Recall(name='recall'),\n",
    "      keras.metrics.AUC(name='auc'),\n",
    "      keras.metrics.AUC(name='prc', curve='PR'), # precision-recall curve\n",
    "]"
   ]
  },
  {
   "cell_type": "code",
   "execution_count": 446,
   "metadata": {},
   "outputs": [],
   "source": [
    "model1 = Sequential()\n",
    "model1.add(Dense(units = 4, activation=\"relu\")) \n",
    "model1.add(Dropout(0.2))\n",
    "model1.add(Dense(units = 8, activation=\"relu\")) \n",
    "model1.add(Dropout(0.2))\n",
    "model1.add(Dense(units = 16, activation=\"relu\")) \n",
    "model1.add(Dropout(0.2))\n",
    "model1.add(Dense(units = 8, activation=\"relu\"))\n",
    "model1.add(Dropout(0.1))\n",
    "#model.add(Flatten())\n",
    "model1.add(Dense(units = 1, activation=\"sigmoid\"))"
   ]
  },
  {
   "cell_type": "code",
   "execution_count": 447,
   "metadata": {},
   "outputs": [
    {
     "name": "stdout",
     "output_type": "stream",
     "text": [
      "Train on 4754 samples\n",
      "Epoch 1/7\n",
      "4754/4754 [==============================] - 3s 545us/sample - loss: 0.5679 - tp: 18.0000 - fp: 29.0000 - tn: 3447.0000 - fn: 1260.0000 - accuracy: 0.7289 - precision: 0.3830 - recall: 0.0141 - auc: 0.5926 - prc: 0.3129\n",
      "Epoch 2/7\n",
      "4754/4754 [==============================] - 1s 264us/sample - loss: 0.5229 - tp: 0.0000e+00 - fp: 0.0000e+00 - tn: 3476.0000 - fn: 1278.0000 - accuracy: 0.7312 - precision: 0.0000e+00 - recall: 0.0000e+00 - auc: 0.7040 - prc: 0.4480\n",
      "Epoch 3/7\n",
      "4754/4754 [==============================] - 1s 255us/sample - loss: 0.5096 - tp: 0.0000e+00 - fp: 0.0000e+00 - tn: 3476.0000 - fn: 1278.0000 - accuracy: 0.7312 - precision: 0.0000e+00 - recall: 0.0000e+00 - auc: 0.7289 - prc: 0.5381\n",
      "Epoch 4/7\n",
      "4754/4754 [==============================] - 2s 326us/sample - loss: 0.5027 - tp: 0.0000e+00 - fp: 0.0000e+00 - tn: 3476.0000 - fn: 1278.0000 - accuracy: 0.7312 - precision: 0.0000e+00 - recall: 0.0000e+00 - auc: 0.7376 - prc: 0.5486\n",
      "Epoch 5/7\n",
      "4754/4754 [==============================] - 2s 324us/sample - loss: 0.5003 - tp: 117.0000 - fp: 5.0000 - tn: 3471.0000 - fn: 1161.0000 - accuracy: 0.7547 - precision: 0.9590 - recall: 0.0915 - auc: 0.7409 - prc: 0.5784\n",
      "Epoch 6/7\n",
      "4754/4754 [==============================] - 1s 272us/sample - loss: 0.4997 - tp: 243.0000 - fp: 18.0000 - tn: 3458.0000 - fn: 1035.0000 - accuracy: 0.7785 - precision: 0.9310 - recall: 0.1901 - auc: 0.7378 - prc: 0.5736\n",
      "Epoch 7/7\n",
      "4754/4754 [==============================] - 1s 257us/sample - loss: 0.5003 - tp: 231.0000 - fp: 19.0000 - tn: 3457.0000 - fn: 1047.0000 - accuracy: 0.7758 - precision: 0.9240 - recall: 0.1808 - auc: 0.7346 - prc: 0.5718\n"
     ]
    },
    {
     "data": {
      "text/plain": [
       "<tensorflow.python.keras.callbacks.History at 0x1899d284748>"
      ]
     },
     "execution_count": 447,
     "metadata": {},
     "output_type": "execute_result"
    }
   ],
   "source": [
    "optimizer = tf.keras.optimizers.Adam(lr=0.001)\n",
    "model1.compile(optimizer = optimizer, loss = keras.losses.BinaryCrossentropy(), metrics = METRICS)\n",
    "model1.fit(X_train.values, y_train.values, epochs =7, batch_size = 5)\n",
    "#model1.fit(X.values, Y.values, epochs =12, batch_size = 10)"
   ]
  },
  {
   "cell_type": "code",
   "execution_count": null,
   "metadata": {},
   "outputs": [],
   "source": []
  },
  {
   "cell_type": "code",
   "execution_count": 448,
   "metadata": {},
   "outputs": [],
   "source": [
    "predictions_roll1 = model1.predict(X_valid) "
   ]
  },
  {
   "cell_type": "code",
   "execution_count": null,
   "metadata": {},
   "outputs": [],
   "source": []
  },
  {
   "cell_type": "code",
   "execution_count": 449,
   "metadata": {},
   "outputs": [
    {
     "name": "stdout",
     "output_type": "stream",
     "text": [
      "[0.489376427755418, 323.0, 0.0, 3476.0, 955.0, 0.79911655, 1.0, 0.25273865, 0.7754263, 0.64075893]\n"
     ]
    }
   ],
   "source": [
    "results = model1.evaluate(X_train, y_train, batch_size=10, verbose=0)\n",
    "print(results)"
   ]
  },
  {
   "cell_type": "code",
   "execution_count": 465,
   "metadata": {},
   "outputs": [],
   "source": [
    "newL = [1 if i > 0.32 else 0 for i in predictions_roll1]"
   ]
  },
  {
   "cell_type": "code",
   "execution_count": 451,
   "metadata": {},
   "outputs": [],
   "source": [
    "#newL = [1 if i > 0.33 else 0 for i in predictions_roll1]"
   ]
  },
  {
   "cell_type": "code",
   "execution_count": 464,
   "metadata": {},
   "outputs": [
    {
     "name": "stdout",
     "output_type": "stream",
     "text": [
      "0.7352941176470589 0.4205607476635514 0.535077288941736\n"
     ]
    }
   ],
   "source": [
    "Score(y_valid, newL) "
   ]
  },
  {
   "cell_type": "code",
   "execution_count": 453,
   "metadata": {},
   "outputs": [],
   "source": [
    "predictions_roll = model1.predict(X_test) "
   ]
  },
  {
   "cell_type": "code",
   "execution_count": 470,
   "metadata": {},
   "outputs": [],
   "source": [
    "predL = [1 if i > 0.32 else 0 for i in predictions_roll]"
   ]
  },
  {
   "cell_type": "code",
   "execution_count": 471,
   "metadata": {},
   "outputs": [
    {
     "name": "stdout",
     "output_type": "stream",
     "text": [
      "1418\n"
     ]
    }
   ],
   "source": [
    "y_pred_test_corr = predL\n",
    "print(np.asarray(y_pred_test_corr).sum())\n",
    "\n",
    "for i in credit_list:\n",
    "    y_pred_test_corr[i] = 0  \n",
    "\n",
    "for i in loan_list:\n",
    "    y_pred_test_corr[i] = 0  \n",
    "\n",
    "for i in score_list:\n",
    "    y_pred_test_corr[i] = 1\n",
    "\n",
    "\n",
    "#(y_test_eclf1 - y_pred_test_corr).sum()"
   ]
  },
  {
   "cell_type": "code",
   "execution_count": 472,
   "metadata": {},
   "outputs": [],
   "source": [
    "#y_pred_test_sgd\n",
    "\n",
    "index = pd.Series(range(0, 2500))\n",
    "\n",
    "predict = y_pred_test_corr#.astype(int)\n",
    "\n",
    "submission = pd.DataFrame(list(zip(index, predict))  , columns = ['Id', \"Credit Default\"])\n",
    "\n",
    "submission.to_csv('C:\\gb-credit-default\\Credit_default_submission.csv', index = False)"
   ]
  }
 ],
 "metadata": {
  "kernelspec": {
   "display_name": "Python 3",
   "language": "python",
   "name": "python3"
  },
  "language_info": {
   "codemirror_mode": {
    "name": "ipython",
    "version": 3
   },
   "file_extension": ".py",
   "mimetype": "text/x-python",
   "name": "python",
   "nbconvert_exporter": "python",
   "pygments_lexer": "ipython3",
   "version": "3.7.6"
  }
 },
 "nbformat": 4,
 "nbformat_minor": 4
}
